{
 "cells": [
  {
   "cell_type": "code",
   "execution_count": 1,
   "metadata": {},
   "outputs": [],
   "source": [
    "%load_ext autoreload\n",
    "\n",
    "%autoreload 2"
   ]
  },
  {
   "cell_type": "code",
   "execution_count": 2,
   "metadata": {},
   "outputs": [],
   "source": [
    "import logging\n",
    "\n",
    "from conda_forge_tick.utils import setup_logging\n",
    "\n",
    "setup_logging(\"INFO\")"
   ]
  },
  {
   "cell_type": "code",
   "execution_count": 3,
   "metadata": {},
   "outputs": [
    {
     "name": "stderr",
     "output_type": "stream",
     "text": [
      "2024-03-21 08:15:28,914 INFO     conda_forge_tick.make_graph || reading graph\n",
      "2024-03-21 08:15:28,915 INFO     conda_forge_tick.make_graph || start feedstock fetch loop\n",
      "2024-03-21 08:15:30,003 INFO     conda_forge_tick.make_graph || feedstock fetch loop completed\n",
      "2024-03-21 08:15:30,004 INFO     conda_forge_tick.make_graph || inferring nodes and edges\n",
      "2024-03-21 08:15:43,556 INFO     conda_forge_tick.make_graph || new nodes and edges inferred\n",
      "2024-03-21 08:15:43,558 INFO     conda_forge_tick.make_graph || memory usage: svmem(total=25769803776, available=7481769984, percent=71.0, used=10210246656, free=71581696, active=7421116416, inactive=7266156544, wired=2789130240)\n"
     ]
    }
   ],
   "source": [
    "from conda_forge_tick.make_graph import make_graph\n",
    "from conda_forge_tick.all_feedstocks import get_all_feedstocks\n",
    "from conda_forge_tick.utils import load_graph\n",
    "\n",
    "names = [\"flit\"]\n",
    "\n",
    "gx = load_graph()\n",
    "\n",
    "gx = make_graph(names, gx, debug=True)"
   ]
  },
  {
   "cell_type": "code",
   "execution_count": 46,
   "metadata": {},
   "outputs": [
    {
     "name": "stdout",
     "output_type": "stream",
     "text": [
      "build: []\n",
      "host:\n",
      "- python\n",
      "- pip\n",
      "run:\n",
      "- nodeenv\n",
      "- cfgv\n",
      "- pyyaml\n",
      "- identify\n",
      "- pre-commit\n",
      "- python\n",
      "- virtualenv\n",
      "test:\n",
      "- pip\n",
      "\n"
     ]
    }
   ],
   "source": [
    "import pprint\n",
    "import yaml\n",
    "\n",
    "print(yaml.dump(gx.nodes[\"pre-commit\"][\"payload\"].data[\"requirements\"]))"
   ]
  },
  {
   "cell_type": "code",
   "execution_count": 79,
   "metadata": {},
   "outputs": [
    {
     "name": "stdout",
     "output_type": "stream",
     "text": [
      "['c_compiler_stub', 'pip', 'pytest', 'python', 'rust_compiler_stub', 'setuptools', 'setuptools-rust']\n"
     ]
    }
   ],
   "source": [
    "print(sorted(gx.predecessors(\"bcrypt\")))"
   ]
  },
  {
   "cell_type": "code",
   "execution_count": null,
   "metadata": {},
   "outputs": [],
   "source": []
  },
  {
   "cell_type": "code",
   "execution_count": null,
   "metadata": {},
   "outputs": [],
   "source": [
    "def _filter_stubby_and_ignored_nodes(graph, ignored_packages):\n",
    "    \"\"\"remove any stub packages and ignored packages from the graph\n",
    "\n",
    "    **operates in place**\n",
    "    \"\"\"\n",
    "    # filter out stub packages and ignored packages\n",
    "    for node, attrs in list(graph.nodes(\"payload\")):\n",
    "        if (\n",
    "            (not attrs)\n",
    "            or node.endswith(\"_stub\")\n",
    "            or node.startswith(\"m2-\")\n",
    "            or node.startswith(\"m2w64-\")\n",
    "            or node.startswith(\"__\")\n",
    "            or (node in ignored_packages)\n",
    "            or all_noarch(attrs)\n",
    "        ):\n",
    "            pluck(graph, node)\n",
    "    # post-plucking cleanup\n",
    "    graph.remove_edges_from(nx.selfloop_edges(graph))"
   ]
  },
  {
   "cell_type": "code",
   "execution_count": null,
   "metadata": {},
   "outputs": [],
   "source": []
  },
  {
   "cell_type": "code",
   "execution_count": null,
   "metadata": {},
   "outputs": [],
   "source": []
  },
  {
   "cell_type": "code",
   "execution_count": null,
   "metadata": {},
   "outputs": [],
   "source": []
  },
  {
   "cell_type": "markdown",
   "metadata": {},
   "source": [
    "## Check Some Version Stuff"
   ]
  },
  {
   "cell_type": "code",
   "execution_count": null,
   "metadata": {},
   "outputs": [],
   "source": [
    "from conda_forge_tick.update_upstream_versions import update_upstream_versions"
   ]
  },
  {
   "cell_type": "code",
   "execution_count": null,
   "metadata": {},
   "outputs": [],
   "source": [
    "import copy\n",
    "\n",
    "gxc = copy.deepcopy(gx)\n",
    "\n",
    "for node in list(gxc.nodes):\n",
    "    if node not in [\"tzdata\", \"openssl\", \"jpeg\", \"cddlib\"]:\n",
    "        gxc.remove_node(node)"
   ]
  },
  {
   "cell_type": "code",
   "execution_count": null,
   "metadata": {},
   "outputs": [],
   "source": [
    "update_upstream_versions(gxc, debug=True)"
   ]
  },
  {
   "cell_type": "code",
   "execution_count": null,
   "metadata": {},
   "outputs": [],
   "source": []
  },
  {
   "cell_type": "code",
   "execution_count": null,
   "metadata": {},
   "outputs": [],
   "source": []
  },
  {
   "cell_type": "code",
   "execution_count": null,
   "metadata": {},
   "outputs": [],
   "source": []
  },
  {
   "cell_type": "code",
   "execution_count": null,
   "metadata": {},
   "outputs": [],
   "source": []
  },
  {
   "cell_type": "markdown",
   "metadata": {},
   "source": [
    "## Look at a Migration"
   ]
  },
  {
   "cell_type": "code",
   "execution_count": 7,
   "metadata": {},
   "outputs": [],
   "source": [
    "from conda_forge_tick.auto_tick import migration_factory, add_arch_migrate"
   ]
  },
  {
   "cell_type": "code",
   "execution_count": 8,
   "metadata": {},
   "outputs": [
    {
     "name": "stdout",
     "output_type": "stream",
     "text": [
      "================================================================================\n",
      "making aarch64+ppc64le and osx-arm64 migrations\n"
     ]
    }
   ],
   "source": [
    "mgs = []\n",
    "add_arch_migrate(mgs, gx)"
   ]
  },
  {
   "cell_type": "code",
   "execution_count": 9,
   "metadata": {},
   "outputs": [],
   "source": [
    "mg = mgs[0]"
   ]
  },
  {
   "cell_type": "code",
   "execution_count": 88,
   "metadata": {},
   "outputs": [],
   "source": [
    "from conda_forge_tick.make_graph import get_deps_from_outputs_lut\n",
    "\n",
    "arches = {\n",
    "    \"linux_aarch64\": \"default\",\n",
    "    \"linux_ppc64le\": \"default\",\n",
    "}\n",
    "\n",
    "\n",
    "graph2 = nx.create_empty_copy(gx)\n",
    "for node, attrs in gx.nodes(data=\"payload\"):\n",
    "    for plat_arch in arches:\n",
    "        deps = set().union(\n",
    "            *attrs.get(\n",
    "                f\"{plat_arch}_requirements\",\n",
    "                attrs.get(\"requirements\", {}),\n",
    "            ).values()\n",
    "        )\n",
    "        for dep in get_deps_from_outputs_lut(deps, gx.graph[\"outputs_lut\"]):\n",
    "            graph2.add_edge(dep, node)"
   ]
  },
  {
   "cell_type": "code",
   "execution_count": 89,
   "metadata": {},
   "outputs": [
    {
     "name": "stdout",
     "output_type": "stream",
     "text": [
      "['c_compiler_stub', 'pip', 'pytest', 'python', 'rust_compiler_stub', 'setuptools', 'setuptools-rust']\n"
     ]
    }
   ],
   "source": [
    "print(sorted(graph2.predecessors(\"bcrypt\")))"
   ]
  },
  {
   "cell_type": "code",
   "execution_count": 90,
   "metadata": {},
   "outputs": [],
   "source": [
    "from conda_forge_tick.utils import pluck\n",
    "\n",
    "graph = graph2\n",
    "packages = mg.target_packages.copy()\n",
    "for target in mg.target_packages:\n",
    "    if target in graph.nodes:\n",
    "        packages.update(nx.ancestors(graph, target))\n",
    "for node in list(graph.nodes.keys()):\n",
    "    if node not in packages:\n",
    "        pluck(graph, node)\n",
    "# post-plucking cleanup\n",
    "graph.remove_edges_from(nx.selfloop_edges(graph))"
   ]
  },
  {
   "cell_type": "code",
   "execution_count": 91,
   "metadata": {},
   "outputs": [
    {
     "name": "stdout",
     "output_type": "stream",
     "text": [
      "['c_compiler_stub', 'pip', 'pytest', 'python', 'rust_compiler_stub', 'setuptools', 'setuptools-rust']\n"
     ]
    }
   ],
   "source": [
    "print(sorted(graph2.predecessors(\"bcrypt\")))"
   ]
  },
  {
   "cell_type": "code",
   "execution_count": 92,
   "metadata": {},
   "outputs": [
    {
     "name": "stdout",
     "output_type": "stream",
     "text": [
      "pip\n",
      "    new preds: ['c_compiler_stub', 'pytest', 'python', 'rust_compiler_stub', 'setuptools', 'setuptools-rust', 'wheel']\n",
      "    old preds: ['c_compiler_stub', 'pip', 'pytest', 'python', 'rust_compiler_stub', 'setuptools', 'setuptools-rust']\n",
      " \n",
      "pytest\n",
      "    new preds: ['c_compiler_stub', 'exceptiongroup', 'hatchling', 'iniconfig', 'python', 'rust_compiler_stub', 'setuptools', 'setuptools-rust', 'setuptools_scm', 'tomli', 'wheel']\n",
      "    old preds: ['c_compiler_stub', 'pytest', 'python', 'rust_compiler_stub', 'setuptools', 'setuptools-rust', 'wheel']\n",
      " \n",
      "setuptools\n",
      "    new preds: ['c_compiler_stub', 'exceptiongroup', 'hatchling', 'iniconfig', 'python', 'rust_compiler_stub', 'setuptools-rust', 'setuptools_scm', 'tomli', 'wheel']\n",
      "    old preds: ['c_compiler_stub', 'exceptiongroup', 'hatchling', 'iniconfig', 'python', 'rust_compiler_stub', 'setuptools', 'setuptools-rust', 'setuptools_scm', 'tomli', 'wheel']\n",
      " \n",
      "setuptools_scm\n",
      "    new preds: ['c_compiler_stub', 'exceptiongroup', 'hatchling', 'iniconfig', 'python', 'rich', 'rust_compiler_stub', 'setuptools-rust', 'tomli', 'typing_extensions', 'wheel']\n",
      "    old preds: ['c_compiler_stub', 'exceptiongroup', 'hatchling', 'iniconfig', 'python', 'rust_compiler_stub', 'setuptools-rust', 'setuptools_scm', 'tomli', 'wheel']\n",
      " \n",
      "wheel\n",
      "    new preds: ['c_compiler_stub', 'exceptiongroup', 'hatchling', 'iniconfig', 'python', 'python-installer', 'rich', 'rust_compiler_stub', 'setuptools-rust', 'tomli', 'typing_extensions']\n",
      "    old preds: ['c_compiler_stub', 'exceptiongroup', 'hatchling', 'iniconfig', 'python', 'rich', 'rust_compiler_stub', 'setuptools-rust', 'tomli', 'typing_extensions', 'wheel']\n",
      " \n",
      "typing_extensions\n",
      "    new preds: ['c_compiler_stub', 'exceptiongroup', 'hatchling', 'iniconfig', 'python', 'python-installer', 'rich', 'rust_compiler_stub', 'setuptools-rust', 'tomli']\n",
      "    old preds: ['c_compiler_stub', 'exceptiongroup', 'hatchling', 'iniconfig', 'python', 'python-installer', 'rich', 'rust_compiler_stub', 'setuptools-rust', 'tomli', 'typing_extensions']\n",
      " \n",
      "c_compiler_stub\n",
      "    new preds: ['exceptiongroup', 'hatchling', 'iniconfig', 'python', 'python-installer', 'rich', 'rust_compiler_stub', 'setuptools-rust', 'tomli']\n",
      "    old preds: ['c_compiler_stub', 'exceptiongroup', 'hatchling', 'iniconfig', 'python', 'python-installer', 'rich', 'rust_compiler_stub', 'setuptools-rust', 'tomli']\n",
      " \n",
      "setuptools-rust\n",
      "    new preds: ['exceptiongroup', 'hatchling', 'iniconfig', 'python', 'python-installer', 'rich', 'rust_compiler_stub', 'tomli']\n",
      "    old preds: ['exceptiongroup', 'hatchling', 'iniconfig', 'python', 'python-installer', 'rich', 'rust_compiler_stub', 'setuptools-rust', 'tomli']\n",
      " \n",
      "rust_compiler_stub\n",
      "    new preds: ['exceptiongroup', 'hatchling', 'iniconfig', 'python', 'python-installer', 'rich', 'tomli']\n",
      "    old preds: ['exceptiongroup', 'hatchling', 'iniconfig', 'python', 'python-installer', 'rich', 'rust_compiler_stub', 'tomli']\n",
      " \n",
      "rich\n",
      "    new preds: ['__linux', '__unix', '__win', 'argon2-cffi-bindings', 'async-lru', 'backports.zoneinfo', 'bcrypt', 'black', 'brotli', 'charset-normalizer', 'comm', 'coverage', 'cryptography', 'debugpy', 'ephemeral-port-reserve', 'exceptiongroup', 'fqdn', 'greenlet', 'hatch-fancy-pypi-readme', 'hatch-jupyter-builder', 'hatch-nodejs-version', 'hatch-vcs', 'hatchling', 'importlib_metadata', 'importlib_resources', 'iniconfig', 'isoduration', 'jsonpointer', 'jsonschema-path', 'jsonschema-specifications', 'jupyter-lsp', 'jupyter-packaging', 'jupyter_core', 'jupyter_events', 'jupyter_server_terminals', 'jupyterlab_widgets', 'lazy-object-proxy', 'm2-binary-packages', 'markupsafe', 'matplotlib', 'matplotlib-inline', 'mdurl', 'mypy', 'nbclassic', 'nodejs', 'notebook-shim', 'numpy', 'openapi-core', 'openapi-schema-validator', 'pandas', 'pandoc', 'pep440', 'pkgutil-resolve-name', 'psutil', 'psycopg2', 'pynacl', 'pyobjc-framework-cocoa', 'pyqt', 'pytest-jupyter', 'pytest-mypy-testing', 'pytest-trio', 'pytest-xprocess', 'python', 'python-build', 'python-installer', 'pywin32', 'pywinpty', 'pyzmq', 'referencing', 'rfc3339-validator', 'rfc3986-validator', 'rpds-py', 'ruamel.yaml', 'tomli', 'tornado', 'trio', 'trustme', 'types-decorator', 'types-setuptools', 'typing_utils', 'uri-template', 'uvloop', 'watchdog']\n",
      "    old preds: ['exceptiongroup', 'hatchling', 'iniconfig', 'python', 'python-installer', 'rich', 'tomli']\n",
      " \n",
      "iniconfig\n",
      "    new preds: ['__linux', '__unix', '__win', 'argon2-cffi-bindings', 'async-lru', 'backports.zoneinfo', 'bcrypt', 'black', 'brotli', 'charset-normalizer', 'comm', 'coverage', 'cryptography', 'debugpy', 'ephemeral-port-reserve', 'exceptiongroup', 'fqdn', 'greenlet', 'hatch-fancy-pypi-readme', 'hatch-jupyter-builder', 'hatch-nodejs-version', 'hatch-vcs', 'hatchling', 'importlib_metadata', 'importlib_resources', 'isoduration', 'jsonpointer', 'jsonschema-path', 'jsonschema-specifications', 'jupyter-lsp', 'jupyter-packaging', 'jupyter_core', 'jupyter_events', 'jupyter_server_terminals', 'jupyterlab_widgets', 'lazy-object-proxy', 'm2-binary-packages', 'markupsafe', 'matplotlib', 'matplotlib-inline', 'mdurl', 'mypy', 'nbclassic', 'nodejs', 'notebook-shim', 'numpy', 'openapi-core', 'openapi-schema-validator', 'pandas', 'pandoc', 'pep440', 'pkgutil-resolve-name', 'psutil', 'psycopg2', 'pynacl', 'pyobjc-framework-cocoa', 'pyqt', 'pytest-jupyter', 'pytest-mypy-testing', 'pytest-trio', 'pytest-xprocess', 'python', 'python-build', 'python-installer', 'pywin32', 'pywinpty', 'pyzmq', 'referencing', 'rfc3339-validator', 'rfc3986-validator', 'rpds-py', 'ruamel.yaml', 'tomli', 'tornado', 'trio', 'trustme', 'types-decorator', 'types-setuptools', 'typing_utils', 'uri-template', 'uvloop', 'watchdog']\n",
      "    old preds: ['__linux', '__unix', '__win', 'argon2-cffi-bindings', 'async-lru', 'backports.zoneinfo', 'bcrypt', 'black', 'brotli', 'charset-normalizer', 'comm', 'coverage', 'cryptography', 'debugpy', 'ephemeral-port-reserve', 'exceptiongroup', 'fqdn', 'greenlet', 'hatch-fancy-pypi-readme', 'hatch-jupyter-builder', 'hatch-nodejs-version', 'hatch-vcs', 'hatchling', 'importlib_metadata', 'importlib_resources', 'iniconfig', 'isoduration', 'jsonpointer', 'jsonschema-path', 'jsonschema-specifications', 'jupyter-lsp', 'jupyter-packaging', 'jupyter_core', 'jupyter_events', 'jupyter_server_terminals', 'jupyterlab_widgets', 'lazy-object-proxy', 'm2-binary-packages', 'markupsafe', 'matplotlib', 'matplotlib-inline', 'mdurl', 'mypy', 'nbclassic', 'nodejs', 'notebook-shim', 'numpy', 'openapi-core', 'openapi-schema-validator', 'pandas', 'pandoc', 'pep440', 'pkgutil-resolve-name', 'psutil', 'psycopg2', 'pynacl', 'pyobjc-framework-cocoa', 'pyqt', 'pytest-jupyter', 'pytest-mypy-testing', 'pytest-trio', 'pytest-xprocess', 'python', 'python-build', 'python-installer', 'pywin32', 'pywinpty', 'pyzmq', 'referencing', 'rfc3339-validator', 'rfc3986-validator', 'rpds-py', 'ruamel.yaml', 'tomli', 'tornado', 'trio', 'trustme', 'types-decorator', 'types-setuptools', 'typing_utils', 'uri-template', 'uvloop', 'watchdog']\n",
      " \n",
      "pytest-trio\n",
      "    new preds: ['__linux', '__unix', '__win', 'argon2-cffi-bindings', 'async-lru', 'backports.zoneinfo', 'bcrypt', 'black', 'brotli', 'charset-normalizer', 'comm', 'coverage', 'cryptography', 'debugpy', 'ephemeral-port-reserve', 'exceptiongroup', 'fqdn', 'greenlet', 'hatch-fancy-pypi-readme', 'hatch-jupyter-builder', 'hatch-nodejs-version', 'hatch-vcs', 'hatchling', 'importlib_metadata', 'importlib_resources', 'isoduration', 'jsonpointer', 'jsonschema-path', 'jsonschema-specifications', 'jupyter-lsp', 'jupyter-packaging', 'jupyter_core', 'jupyter_events', 'jupyter_server_terminals', 'jupyterlab_widgets', 'lazy-object-proxy', 'm2-binary-packages', 'markupsafe', 'matplotlib', 'matplotlib-inline', 'mdurl', 'mypy', 'nbclassic', 'nodejs', 'notebook-shim', 'numpy', 'openapi-core', 'openapi-schema-validator', 'pandas', 'pandoc', 'pep440', 'pkgutil-resolve-name', 'psutil', 'psycopg2', 'pynacl', 'pyobjc-framework-cocoa', 'pyqt', 'pytest-jupyter', 'pytest-mypy-testing', 'pytest-xprocess', 'python', 'python-build', 'python-installer', 'pywin32', 'pywinpty', 'pyzmq', 'referencing', 'rfc3339-validator', 'rfc3986-validator', 'rpds-py', 'ruamel.yaml', 'tomli', 'tornado', 'trio', 'trustme', 'types-decorator', 'types-setuptools', 'typing_utils', 'uri-template', 'uvloop', 'watchdog']\n",
      "    old preds: ['__linux', '__unix', '__win', 'argon2-cffi-bindings', 'async-lru', 'backports.zoneinfo', 'bcrypt', 'black', 'brotli', 'charset-normalizer', 'comm', 'coverage', 'cryptography', 'debugpy', 'ephemeral-port-reserve', 'exceptiongroup', 'fqdn', 'greenlet', 'hatch-fancy-pypi-readme', 'hatch-jupyter-builder', 'hatch-nodejs-version', 'hatch-vcs', 'hatchling', 'importlib_metadata', 'importlib_resources', 'isoduration', 'jsonpointer', 'jsonschema-path', 'jsonschema-specifications', 'jupyter-lsp', 'jupyter-packaging', 'jupyter_core', 'jupyter_events', 'jupyter_server_terminals', 'jupyterlab_widgets', 'lazy-object-proxy', 'm2-binary-packages', 'markupsafe', 'matplotlib', 'matplotlib-inline', 'mdurl', 'mypy', 'nbclassic', 'nodejs', 'notebook-shim', 'numpy', 'openapi-core', 'openapi-schema-validator', 'pandas', 'pandoc', 'pep440', 'pkgutil-resolve-name', 'psutil', 'psycopg2', 'pynacl', 'pyobjc-framework-cocoa', 'pyqt', 'pytest-jupyter', 'pytest-mypy-testing', 'pytest-trio', 'pytest-xprocess', 'python', 'python-build', 'python-installer', 'pywin32', 'pywinpty', 'pyzmq', 'referencing', 'rfc3339-validator', 'rfc3986-validator', 'rpds-py', 'ruamel.yaml', 'tomli', 'tornado', 'trio', 'trustme', 'types-decorator', 'types-setuptools', 'typing_utils', 'uri-template', 'uvloop', 'watchdog']\n",
      " \n",
      "rfc3986-validator\n",
      "    new preds: ['__linux', '__unix', '__win', 'argon2-cffi-bindings', 'async-lru', 'backports.zoneinfo', 'bcrypt', 'black', 'brotli', 'charset-normalizer', 'comm', 'coverage', 'cryptography', 'debugpy', 'ephemeral-port-reserve', 'exceptiongroup', 'fqdn', 'greenlet', 'hatch-fancy-pypi-readme', 'hatch-jupyter-builder', 'hatch-nodejs-version', 'hatch-vcs', 'hatchling', 'importlib_metadata', 'importlib_resources', 'isoduration', 'jsonpointer', 'jsonschema-path', 'jsonschema-specifications', 'jupyter-lsp', 'jupyter-packaging', 'jupyter_core', 'jupyter_events', 'jupyter_server_terminals', 'jupyterlab_widgets', 'lazy-object-proxy', 'm2-binary-packages', 'markupsafe', 'matplotlib', 'matplotlib-inline', 'mdurl', 'mypy', 'nbclassic', 'nodejs', 'notebook-shim', 'numpy', 'openapi-core', 'openapi-schema-validator', 'pandas', 'pandoc', 'pep440', 'pkgutil-resolve-name', 'psutil', 'psycopg2', 'pynacl', 'pyobjc-framework-cocoa', 'pyqt', 'pytest-jupyter', 'pytest-mypy-testing', 'pytest-xprocess', 'python', 'python-build', 'python-installer', 'pywin32', 'pywinpty', 'pyzmq', 'referencing', 'rfc3339-validator', 'rpds-py', 'ruamel.yaml', 'tomli', 'tornado', 'trio', 'trustme', 'types-decorator', 'types-setuptools', 'typing_utils', 'uri-template', 'uvloop', 'watchdog']\n",
      "    old preds: ['__linux', '__unix', '__win', 'argon2-cffi-bindings', 'async-lru', 'backports.zoneinfo', 'bcrypt', 'black', 'brotli', 'charset-normalizer', 'comm', 'coverage', 'cryptography', 'debugpy', 'ephemeral-port-reserve', 'exceptiongroup', 'fqdn', 'greenlet', 'hatch-fancy-pypi-readme', 'hatch-jupyter-builder', 'hatch-nodejs-version', 'hatch-vcs', 'hatchling', 'importlib_metadata', 'importlib_resources', 'isoduration', 'jsonpointer', 'jsonschema-path', 'jsonschema-specifications', 'jupyter-lsp', 'jupyter-packaging', 'jupyter_core', 'jupyter_events', 'jupyter_server_terminals', 'jupyterlab_widgets', 'lazy-object-proxy', 'm2-binary-packages', 'markupsafe', 'matplotlib', 'matplotlib-inline', 'mdurl', 'mypy', 'nbclassic', 'nodejs', 'notebook-shim', 'numpy', 'openapi-core', 'openapi-schema-validator', 'pandas', 'pandoc', 'pep440', 'pkgutil-resolve-name', 'psutil', 'psycopg2', 'pynacl', 'pyobjc-framework-cocoa', 'pyqt', 'pytest-jupyter', 'pytest-mypy-testing', 'pytest-xprocess', 'python', 'python-build', 'python-installer', 'pywin32', 'pywinpty', 'pyzmq', 'referencing', 'rfc3339-validator', 'rfc3986-validator', 'rpds-py', 'ruamel.yaml', 'tomli', 'tornado', 'trio', 'trustme', 'types-decorator', 'types-setuptools', 'typing_utils', 'uri-template', 'uvloop', 'watchdog']\n",
      " \n",
      "jupyter-lsp\n",
      "    new preds: ['__linux', '__unix', '__win', 'argon2-cffi-bindings', 'async-lru', 'backports.zoneinfo', 'bcrypt', 'black', 'brotli', 'charset-normalizer', 'chktex', 'comm', 'coverage', 'cryptography', 'debugpy', 'ephemeral-port-reserve', 'exceptiongroup', 'fqdn', 'greenlet', 'hatch-fancy-pypi-readme', 'hatch-jupyter-builder', 'hatch-nodejs-version', 'hatch-vcs', 'hatchling', 'importlib_metadata', 'importlib_resources', 'isoduration', 'jsonpointer', 'jsonschema-path', 'jsonschema-specifications', 'jupyter-packaging', 'jupyter_core', 'jupyter_events', 'jupyter_server_terminals', 'jupyterlab_widgets', 'lazy-object-proxy', 'm2-binary-packages', 'markupsafe', 'matplotlib', 'matplotlib-inline', 'mdurl', 'mypy', 'mypy-ls', 'nbclassic', 'nodejs', 'notebook-shim', 'numpy', 'openapi-core', 'openapi-schema-validator', 'pandas', 'pandoc', 'pep440', 'pkgutil-resolve-name', 'psutil', 'psycopg2', 'pyls-isort', 'pynacl', 'pyobjc-framework-cocoa', 'pyqt', 'pytest-jupyter', 'pytest-mypy-testing', 'pytest-xprocess', 'python', 'python-build', 'python-installer', 'python-lsp-server', 'pywin32', 'pywinpty', 'pyzmq', 'r-languageserver', 'referencing', 'rfc3339-validator', 'rpds-py', 'ruamel.yaml', 'texlab', 'tomli', 'tornado', 'trio', 'trustme', 'types-decorator', 'types-setuptools', 'typing_utils', 'uri-template', 'uvloop', 'watchdog']\n",
      "    old preds: ['__linux', '__unix', '__win', 'argon2-cffi-bindings', 'async-lru', 'backports.zoneinfo', 'bcrypt', 'black', 'brotli', 'charset-normalizer', 'comm', 'coverage', 'cryptography', 'debugpy', 'ephemeral-port-reserve', 'exceptiongroup', 'fqdn', 'greenlet', 'hatch-fancy-pypi-readme', 'hatch-jupyter-builder', 'hatch-nodejs-version', 'hatch-vcs', 'hatchling', 'importlib_metadata', 'importlib_resources', 'isoduration', 'jsonpointer', 'jsonschema-path', 'jsonschema-specifications', 'jupyter-lsp', 'jupyter-packaging', 'jupyter_core', 'jupyter_events', 'jupyter_server_terminals', 'jupyterlab_widgets', 'lazy-object-proxy', 'm2-binary-packages', 'markupsafe', 'matplotlib', 'matplotlib-inline', 'mdurl', 'mypy', 'nbclassic', 'nodejs', 'notebook-shim', 'numpy', 'openapi-core', 'openapi-schema-validator', 'pandas', 'pandoc', 'pep440', 'pkgutil-resolve-name', 'psutil', 'psycopg2', 'pynacl', 'pyobjc-framework-cocoa', 'pyqt', 'pytest-jupyter', 'pytest-mypy-testing', 'pytest-xprocess', 'python', 'python-build', 'python-installer', 'pywin32', 'pywinpty', 'pyzmq', 'referencing', 'rfc3339-validator', 'rpds-py', 'ruamel.yaml', 'tomli', 'tornado', 'trio', 'trustme', 'types-decorator', 'types-setuptools', 'typing_utils', 'uri-template', 'uvloop', 'watchdog']\n",
      " \n",
      "nbclassic\n",
      "    new preds: ['__linux', '__unix', '__win', 'argon2-cffi-bindings', 'async-lru', 'backports.zoneinfo', 'bcrypt', 'black', 'brotli', 'charset-normalizer', 'chktex', 'comm', 'coverage', 'cryptography', 'debugpy', 'ephemeral-port-reserve', 'exceptiongroup', 'fqdn', 'greenlet', 'hatch-fancy-pypi-readme', 'hatch-jupyter-builder', 'hatch-nodejs-version', 'hatch-vcs', 'hatchling', 'importlib_metadata', 'importlib_resources', 'isoduration', 'jsonpointer', 'jsonschema-path', 'jsonschema-specifications', 'jupyter-packaging', 'jupyter_core', 'jupyter_events', 'jupyter_server_terminals', 'jupyterlab_widgets', 'lazy-object-proxy', 'm2-binary-packages', 'markupsafe', 'matplotlib', 'matplotlib-inline', 'mdurl', 'mypy', 'mypy-ls', 'nodejs', 'notebook-shim', 'numpy', 'openapi-core', 'openapi-schema-validator', 'pandas', 'pandoc', 'pep440', 'pkgutil-resolve-name', 'psutil', 'psycopg2', 'pyls-isort', 'pynacl', 'pyobjc-framework-cocoa', 'pyqt', 'pytest-jupyter', 'pytest-mypy-testing', 'pytest-xprocess', 'python', 'python-build', 'python-installer', 'python-lsp-server', 'pywin32', 'pywinpty', 'pyzmq', 'r-languageserver', 'referencing', 'rfc3339-validator', 'rpds-py', 'ruamel.yaml', 'texlab', 'tomli', 'tornado', 'trio', 'trustme', 'types-decorator', 'types-setuptools', 'typing_utils', 'uri-template', 'uvloop', 'watchdog']\n",
      "    old preds: ['__linux', '__unix', '__win', 'argon2-cffi-bindings', 'async-lru', 'backports.zoneinfo', 'bcrypt', 'black', 'brotli', 'charset-normalizer', 'chktex', 'comm', 'coverage', 'cryptography', 'debugpy', 'ephemeral-port-reserve', 'exceptiongroup', 'fqdn', 'greenlet', 'hatch-fancy-pypi-readme', 'hatch-jupyter-builder', 'hatch-nodejs-version', 'hatch-vcs', 'hatchling', 'importlib_metadata', 'importlib_resources', 'isoduration', 'jsonpointer', 'jsonschema-path', 'jsonschema-specifications', 'jupyter-packaging', 'jupyter_core', 'jupyter_events', 'jupyter_server_terminals', 'jupyterlab_widgets', 'lazy-object-proxy', 'm2-binary-packages', 'markupsafe', 'matplotlib', 'matplotlib-inline', 'mdurl', 'mypy', 'mypy-ls', 'nbclassic', 'nodejs', 'notebook-shim', 'numpy', 'openapi-core', 'openapi-schema-validator', 'pandas', 'pandoc', 'pep440', 'pkgutil-resolve-name', 'psutil', 'psycopg2', 'pyls-isort', 'pynacl', 'pyobjc-framework-cocoa', 'pyqt', 'pytest-jupyter', 'pytest-mypy-testing', 'pytest-xprocess', 'python', 'python-build', 'python-installer', 'python-lsp-server', 'pywin32', 'pywinpty', 'pyzmq', 'r-languageserver', 'referencing', 'rfc3339-validator', 'rpds-py', 'ruamel.yaml', 'texlab', 'tomli', 'tornado', 'trio', 'trustme', 'types-decorator', 'types-setuptools', 'typing_utils', 'uri-template', 'uvloop', 'watchdog']\n",
      " \n",
      "jupyterlab_widgets\n",
      "    new preds: ['__linux', '__unix', '__win', 'argon2-cffi-bindings', 'async-lru', 'backports.zoneinfo', 'bcrypt', 'black', 'brotli', 'charset-normalizer', 'chktex', 'comm', 'coverage', 'cryptography', 'debugpy', 'ephemeral-port-reserve', 'exceptiongroup', 'fqdn', 'greenlet', 'hatch-fancy-pypi-readme', 'hatch-jupyter-builder', 'hatch-nodejs-version', 'hatch-vcs', 'hatchling', 'importlib_metadata', 'importlib_resources', 'isoduration', 'jsonpointer', 'jsonschema-path', 'jsonschema-specifications', 'jupyter-packaging', 'jupyter_core', 'jupyter_events', 'jupyter_server_terminals', 'lazy-object-proxy', 'm2-binary-packages', 'markupsafe', 'matplotlib', 'matplotlib-inline', 'mdurl', 'mypy', 'mypy-ls', 'nodejs', 'notebook-shim', 'numpy', 'openapi-core', 'openapi-schema-validator', 'pandas', 'pandoc', 'pep440', 'pkgutil-resolve-name', 'psutil', 'psycopg2', 'pyls-isort', 'pynacl', 'pyobjc-framework-cocoa', 'pyqt', 'pytest-jupyter', 'pytest-mypy-testing', 'pytest-xprocess', 'python', 'python-build', 'python-installer', 'python-lsp-server', 'pywin32', 'pywinpty', 'pyzmq', 'r-languageserver', 'referencing', 'rfc3339-validator', 'rpds-py', 'ruamel.yaml', 'texlab', 'tomli', 'tornado', 'trio', 'trustme', 'types-decorator', 'types-setuptools', 'typing_utils', 'uri-template', 'uvloop', 'watchdog']\n",
      "    old preds: ['__linux', '__unix', '__win', 'argon2-cffi-bindings', 'async-lru', 'backports.zoneinfo', 'bcrypt', 'black', 'brotli', 'charset-normalizer', 'chktex', 'comm', 'coverage', 'cryptography', 'debugpy', 'ephemeral-port-reserve', 'exceptiongroup', 'fqdn', 'greenlet', 'hatch-fancy-pypi-readme', 'hatch-jupyter-builder', 'hatch-nodejs-version', 'hatch-vcs', 'hatchling', 'importlib_metadata', 'importlib_resources', 'isoduration', 'jsonpointer', 'jsonschema-path', 'jsonschema-specifications', 'jupyter-packaging', 'jupyter_core', 'jupyter_events', 'jupyter_server_terminals', 'jupyterlab_widgets', 'lazy-object-proxy', 'm2-binary-packages', 'markupsafe', 'matplotlib', 'matplotlib-inline', 'mdurl', 'mypy', 'mypy-ls', 'nodejs', 'notebook-shim', 'numpy', 'openapi-core', 'openapi-schema-validator', 'pandas', 'pandoc', 'pep440', 'pkgutil-resolve-name', 'psutil', 'psycopg2', 'pyls-isort', 'pynacl', 'pyobjc-framework-cocoa', 'pyqt', 'pytest-jupyter', 'pytest-mypy-testing', 'pytest-xprocess', 'python', 'python-build', 'python-installer', 'python-lsp-server', 'pywin32', 'pywinpty', 'pyzmq', 'r-languageserver', 'referencing', 'rfc3339-validator', 'rpds-py', 'ruamel.yaml', 'texlab', 'tomli', 'tornado', 'trio', 'trustme', 'types-decorator', 'types-setuptools', 'typing_utils', 'uri-template', 'uvloop', 'watchdog']\n",
      " \n",
      "mypy-ls\n",
      "    new preds: ['__linux', '__unix', '__win', 'argon2-cffi-bindings', 'async-lru', 'backports.zoneinfo', 'bcrypt', 'black', 'brotli', 'charset-normalizer', 'chktex', 'comm', 'coverage', 'cryptography', 'debugpy', 'ephemeral-port-reserve', 'exceptiongroup', 'fqdn', 'greenlet', 'hatch-fancy-pypi-readme', 'hatch-jupyter-builder', 'hatch-nodejs-version', 'hatch-vcs', 'hatchling', 'importlib_metadata', 'importlib_resources', 'isoduration', 'jsonpointer', 'jsonschema-path', 'jsonschema-specifications', 'jupyter-packaging', 'jupyter_core', 'jupyter_events', 'jupyter_server_terminals', 'lazy-object-proxy', 'm2-binary-packages', 'markupsafe', 'matplotlib', 'matplotlib-inline', 'mdurl', 'mypy', 'nodejs', 'notebook-shim', 'numpy', 'openapi-core', 'openapi-schema-validator', 'pandas', 'pandoc', 'pep440', 'pkgutil-resolve-name', 'psutil', 'psycopg2', 'pyls-isort', 'pynacl', 'pyobjc-framework-cocoa', 'pyqt', 'pytest-jupyter', 'pytest-mypy-testing', 'pytest-xprocess', 'python', 'python-build', 'python-installer', 'python-lsp-server', 'pywin32', 'pywinpty', 'pyzmq', 'r-languageserver', 'referencing', 'rfc3339-validator', 'rpds-py', 'ruamel.yaml', 'texlab', 'tomli', 'tornado', 'trio', 'trustme', 'types-decorator', 'types-setuptools', 'typing_utils', 'uri-template', 'uvloop', 'watchdog']\n",
      "    old preds: ['__linux', '__unix', '__win', 'argon2-cffi-bindings', 'async-lru', 'backports.zoneinfo', 'bcrypt', 'black', 'brotli', 'charset-normalizer', 'chktex', 'comm', 'coverage', 'cryptography', 'debugpy', 'ephemeral-port-reserve', 'exceptiongroup', 'fqdn', 'greenlet', 'hatch-fancy-pypi-readme', 'hatch-jupyter-builder', 'hatch-nodejs-version', 'hatch-vcs', 'hatchling', 'importlib_metadata', 'importlib_resources', 'isoduration', 'jsonpointer', 'jsonschema-path', 'jsonschema-specifications', 'jupyter-packaging', 'jupyter_core', 'jupyter_events', 'jupyter_server_terminals', 'lazy-object-proxy', 'm2-binary-packages', 'markupsafe', 'matplotlib', 'matplotlib-inline', 'mdurl', 'mypy', 'mypy-ls', 'nodejs', 'notebook-shim', 'numpy', 'openapi-core', 'openapi-schema-validator', 'pandas', 'pandoc', 'pep440', 'pkgutil-resolve-name', 'psutil', 'psycopg2', 'pyls-isort', 'pynacl', 'pyobjc-framework-cocoa', 'pyqt', 'pytest-jupyter', 'pytest-mypy-testing', 'pytest-xprocess', 'python', 'python-build', 'python-installer', 'python-lsp-server', 'pywin32', 'pywinpty', 'pyzmq', 'r-languageserver', 'referencing', 'rfc3339-validator', 'rpds-py', 'ruamel.yaml', 'texlab', 'tomli', 'tornado', 'trio', 'trustme', 'types-decorator', 'types-setuptools', 'typing_utils', 'uri-template', 'uvloop', 'watchdog']\n",
      " \n",
      "pyls-isort\n",
      "    new preds: ['__linux', '__unix', '__win', 'argon2-cffi-bindings', 'async-lru', 'backports.zoneinfo', 'bcrypt', 'black', 'brotli', 'charset-normalizer', 'chktex', 'comm', 'coverage', 'cryptography', 'debugpy', 'ephemeral-port-reserve', 'exceptiongroup', 'fqdn', 'greenlet', 'hatch-fancy-pypi-readme', 'hatch-jupyter-builder', 'hatch-nodejs-version', 'hatch-vcs', 'hatchling', 'importlib_metadata', 'importlib_resources', 'isoduration', 'jsonpointer', 'jsonschema-path', 'jsonschema-specifications', 'jupyter-packaging', 'jupyter_core', 'jupyter_events', 'jupyter_server_terminals', 'lazy-object-proxy', 'm2-binary-packages', 'markupsafe', 'matplotlib', 'matplotlib-inline', 'mdurl', 'mypy', 'nodejs', 'notebook-shim', 'numpy', 'openapi-core', 'openapi-schema-validator', 'pandas', 'pandoc', 'pep440', 'pkgutil-resolve-name', 'psutil', 'psycopg2', 'pynacl', 'pyobjc-framework-cocoa', 'pyqt', 'pytest-jupyter', 'pytest-mypy-testing', 'pytest-xprocess', 'python', 'python-build', 'python-installer', 'python-lsp-server', 'pywin32', 'pywinpty', 'pyzmq', 'r-languageserver', 'referencing', 'rfc3339-validator', 'rpds-py', 'ruamel.yaml', 'texlab', 'tomli', 'tornado', 'trio', 'trustme', 'types-decorator', 'types-setuptools', 'typing_utils', 'uri-template', 'uvloop', 'watchdog']\n",
      "    old preds: ['__linux', '__unix', '__win', 'argon2-cffi-bindings', 'async-lru', 'backports.zoneinfo', 'bcrypt', 'black', 'brotli', 'charset-normalizer', 'chktex', 'comm', 'coverage', 'cryptography', 'debugpy', 'ephemeral-port-reserve', 'exceptiongroup', 'fqdn', 'greenlet', 'hatch-fancy-pypi-readme', 'hatch-jupyter-builder', 'hatch-nodejs-version', 'hatch-vcs', 'hatchling', 'importlib_metadata', 'importlib_resources', 'isoduration', 'jsonpointer', 'jsonschema-path', 'jsonschema-specifications', 'jupyter-packaging', 'jupyter_core', 'jupyter_events', 'jupyter_server_terminals', 'lazy-object-proxy', 'm2-binary-packages', 'markupsafe', 'matplotlib', 'matplotlib-inline', 'mdurl', 'mypy', 'nodejs', 'notebook-shim', 'numpy', 'openapi-core', 'openapi-schema-validator', 'pandas', 'pandoc', 'pep440', 'pkgutil-resolve-name', 'psutil', 'psycopg2', 'pyls-isort', 'pynacl', 'pyobjc-framework-cocoa', 'pyqt', 'pytest-jupyter', 'pytest-mypy-testing', 'pytest-xprocess', 'python', 'python-build', 'python-installer', 'python-lsp-server', 'pywin32', 'pywinpty', 'pyzmq', 'r-languageserver', 'referencing', 'rfc3339-validator', 'rpds-py', 'ruamel.yaml', 'texlab', 'tomli', 'tornado', 'trio', 'trustme', 'types-decorator', 'types-setuptools', 'typing_utils', 'uri-template', 'uvloop', 'watchdog']\n",
      " \n",
      "python-build\n",
      "    new preds: ['__linux', '__unix', '__win', 'argon2-cffi-bindings', 'async-lru', 'backports.zoneinfo', 'bcrypt', 'black', 'brotli', 'charset-normalizer', 'chktex', 'comm', 'coverage', 'cryptography', 'debugpy', 'ephemeral-port-reserve', 'exceptiongroup', 'fqdn', 'greenlet', 'hatch-fancy-pypi-readme', 'hatch-jupyter-builder', 'hatch-nodejs-version', 'hatch-vcs', 'hatchling', 'importlib_metadata', 'importlib_resources', 'isoduration', 'jsonpointer', 'jsonschema-path', 'jsonschema-specifications', 'jupyter-packaging', 'jupyter_core', 'jupyter_events', 'jupyter_server_terminals', 'lazy-object-proxy', 'm2-binary-packages', 'markupsafe', 'matplotlib', 'matplotlib-inline', 'mdurl', 'mypy', 'nodejs', 'notebook-shim', 'numpy', 'openapi-core', 'openapi-schema-validator', 'pandas', 'pandoc', 'pep440', 'pkgutil-resolve-name', 'psutil', 'psycopg2', 'pynacl', 'pyobjc-framework-cocoa', 'pyproject_hooks', 'pyqt', 'pytest-jupyter', 'pytest-mypy-testing', 'pytest-xprocess', 'python', 'python-installer', 'python-lsp-server', 'pywin32', 'pywinpty', 'pyzmq', 'r-languageserver', 'referencing', 'rfc3339-validator', 'rpds-py', 'ruamel.yaml', 'texlab', 'tomli', 'tornado', 'trio', 'trustme', 'types-decorator', 'types-setuptools', 'typing_utils', 'uri-template', 'uvloop', 'watchdog']\n",
      "    old preds: ['__linux', '__unix', '__win', 'argon2-cffi-bindings', 'async-lru', 'backports.zoneinfo', 'bcrypt', 'black', 'brotli', 'charset-normalizer', 'chktex', 'comm', 'coverage', 'cryptography', 'debugpy', 'ephemeral-port-reserve', 'exceptiongroup', 'fqdn', 'greenlet', 'hatch-fancy-pypi-readme', 'hatch-jupyter-builder', 'hatch-nodejs-version', 'hatch-vcs', 'hatchling', 'importlib_metadata', 'importlib_resources', 'isoduration', 'jsonpointer', 'jsonschema-path', 'jsonschema-specifications', 'jupyter-packaging', 'jupyter_core', 'jupyter_events', 'jupyter_server_terminals', 'lazy-object-proxy', 'm2-binary-packages', 'markupsafe', 'matplotlib', 'matplotlib-inline', 'mdurl', 'mypy', 'nodejs', 'notebook-shim', 'numpy', 'openapi-core', 'openapi-schema-validator', 'pandas', 'pandoc', 'pep440', 'pkgutil-resolve-name', 'psutil', 'psycopg2', 'pynacl', 'pyobjc-framework-cocoa', 'pyqt', 'pytest-jupyter', 'pytest-mypy-testing', 'pytest-xprocess', 'python', 'python-build', 'python-installer', 'python-lsp-server', 'pywin32', 'pywinpty', 'pyzmq', 'r-languageserver', 'referencing', 'rfc3339-validator', 'rpds-py', 'ruamel.yaml', 'texlab', 'tomli', 'tornado', 'trio', 'trustme', 'types-decorator', 'types-setuptools', 'typing_utils', 'uri-template', 'uvloop', 'watchdog']\n",
      " \n",
      "async-lru\n",
      "    new preds: ['__linux', '__unix', '__win', 'argon2-cffi-bindings', 'backports.zoneinfo', 'bcrypt', 'black', 'brotli', 'charset-normalizer', 'chktex', 'comm', 'coverage', 'cryptography', 'debugpy', 'ephemeral-port-reserve', 'exceptiongroup', 'fqdn', 'greenlet', 'hatch-fancy-pypi-readme', 'hatch-jupyter-builder', 'hatch-nodejs-version', 'hatch-vcs', 'hatchling', 'importlib_metadata', 'importlib_resources', 'isoduration', 'jsonpointer', 'jsonschema-path', 'jsonschema-specifications', 'jupyter-packaging', 'jupyter_core', 'jupyter_events', 'jupyter_server_terminals', 'lazy-object-proxy', 'm2-binary-packages', 'markupsafe', 'matplotlib', 'matplotlib-inline', 'mdurl', 'mypy', 'nodejs', 'notebook-shim', 'numpy', 'openapi-core', 'openapi-schema-validator', 'pandas', 'pandoc', 'pep440', 'pkgutil-resolve-name', 'psutil', 'psycopg2', 'pynacl', 'pyobjc-framework-cocoa', 'pyproject_hooks', 'pyqt', 'pytest-jupyter', 'pytest-mypy-testing', 'pytest-xprocess', 'python', 'python-installer', 'python-lsp-server', 'pywin32', 'pywinpty', 'pyzmq', 'r-languageserver', 'referencing', 'rfc3339-validator', 'rpds-py', 'ruamel.yaml', 'texlab', 'tomli', 'tornado', 'trio', 'trustme', 'types-decorator', 'types-setuptools', 'typing_utils', 'uri-template', 'uvloop', 'watchdog']\n",
      "    old preds: ['__linux', '__unix', '__win', 'argon2-cffi-bindings', 'async-lru', 'backports.zoneinfo', 'bcrypt', 'black', 'brotli', 'charset-normalizer', 'chktex', 'comm', 'coverage', 'cryptography', 'debugpy', 'ephemeral-port-reserve', 'exceptiongroup', 'fqdn', 'greenlet', 'hatch-fancy-pypi-readme', 'hatch-jupyter-builder', 'hatch-nodejs-version', 'hatch-vcs', 'hatchling', 'importlib_metadata', 'importlib_resources', 'isoduration', 'jsonpointer', 'jsonschema-path', 'jsonschema-specifications', 'jupyter-packaging', 'jupyter_core', 'jupyter_events', 'jupyter_server_terminals', 'lazy-object-proxy', 'm2-binary-packages', 'markupsafe', 'matplotlib', 'matplotlib-inline', 'mdurl', 'mypy', 'nodejs', 'notebook-shim', 'numpy', 'openapi-core', 'openapi-schema-validator', 'pandas', 'pandoc', 'pep440', 'pkgutil-resolve-name', 'psutil', 'psycopg2', 'pynacl', 'pyobjc-framework-cocoa', 'pyproject_hooks', 'pyqt', 'pytest-jupyter', 'pytest-mypy-testing', 'pytest-xprocess', 'python', 'python-installer', 'python-lsp-server', 'pywin32', 'pywinpty', 'pyzmq', 'r-languageserver', 'referencing', 'rfc3339-validator', 'rpds-py', 'ruamel.yaml', 'texlab', 'tomli', 'tornado', 'trio', 'trustme', 'types-decorator', 'types-setuptools', 'typing_utils', 'uri-template', 'uvloop', 'watchdog']\n",
      " \n",
      "trustme\n",
      "    new preds: ['__linux', '__unix', '__win', 'argon2-cffi-bindings', 'backports.zoneinfo', 'bcrypt', 'black', 'brotli', 'charset-normalizer', 'chktex', 'comm', 'coverage', 'cryptography', 'debugpy', 'ephemeral-port-reserve', 'exceptiongroup', 'fqdn', 'greenlet', 'hatch-fancy-pypi-readme', 'hatch-jupyter-builder', 'hatch-nodejs-version', 'hatch-vcs', 'hatchling', 'importlib_metadata', 'importlib_resources', 'isoduration', 'jsonpointer', 'jsonschema-path', 'jsonschema-specifications', 'jupyter-packaging', 'jupyter_core', 'jupyter_events', 'jupyter_server_terminals', 'lazy-object-proxy', 'm2-binary-packages', 'markupsafe', 'matplotlib', 'matplotlib-inline', 'mdurl', 'mypy', 'nodejs', 'notebook-shim', 'numpy', 'openapi-core', 'openapi-schema-validator', 'pandas', 'pandoc', 'pep440', 'pkgutil-resolve-name', 'psutil', 'psycopg2', 'pynacl', 'pyobjc-framework-cocoa', 'pyproject_hooks', 'pyqt', 'pytest-jupyter', 'pytest-mypy-testing', 'pytest-xprocess', 'python', 'python-installer', 'python-lsp-server', 'pywin32', 'pywinpty', 'pyzmq', 'r-languageserver', 'referencing', 'rfc3339-validator', 'rpds-py', 'ruamel.yaml', 'texlab', 'tomli', 'tornado', 'trio', 'types-decorator', 'types-setuptools', 'typing_utils', 'uri-template', 'uvloop', 'watchdog']\n",
      "    old preds: ['__linux', '__unix', '__win', 'argon2-cffi-bindings', 'backports.zoneinfo', 'bcrypt', 'black', 'brotli', 'charset-normalizer', 'chktex', 'comm', 'coverage', 'cryptography', 'debugpy', 'ephemeral-port-reserve', 'exceptiongroup', 'fqdn', 'greenlet', 'hatch-fancy-pypi-readme', 'hatch-jupyter-builder', 'hatch-nodejs-version', 'hatch-vcs', 'hatchling', 'importlib_metadata', 'importlib_resources', 'isoduration', 'jsonpointer', 'jsonschema-path', 'jsonschema-specifications', 'jupyter-packaging', 'jupyter_core', 'jupyter_events', 'jupyter_server_terminals', 'lazy-object-proxy', 'm2-binary-packages', 'markupsafe', 'matplotlib', 'matplotlib-inline', 'mdurl', 'mypy', 'nodejs', 'notebook-shim', 'numpy', 'openapi-core', 'openapi-schema-validator', 'pandas', 'pandoc', 'pep440', 'pkgutil-resolve-name', 'psutil', 'psycopg2', 'pynacl', 'pyobjc-framework-cocoa', 'pyproject_hooks', 'pyqt', 'pytest-jupyter', 'pytest-mypy-testing', 'pytest-xprocess', 'python', 'python-installer', 'python-lsp-server', 'pywin32', 'pywinpty', 'pyzmq', 'r-languageserver', 'referencing', 'rfc3339-validator', 'rpds-py', 'ruamel.yaml', 'texlab', 'tomli', 'tornado', 'trio', 'trustme', 'types-decorator', 'types-setuptools', 'typing_utils', 'uri-template', 'uvloop', 'watchdog']\n",
      " \n",
      "__unix\n",
      "    new preds: ['__linux', '__win', 'argon2-cffi-bindings', 'backports.zoneinfo', 'bcrypt', 'black', 'brotli', 'charset-normalizer', 'chktex', 'comm', 'coverage', 'cryptography', 'debugpy', 'ephemeral-port-reserve', 'exceptiongroup', 'fqdn', 'greenlet', 'hatch-fancy-pypi-readme', 'hatch-jupyter-builder', 'hatch-nodejs-version', 'hatch-vcs', 'hatchling', 'importlib_metadata', 'importlib_resources', 'isoduration', 'jsonpointer', 'jsonschema-path', 'jsonschema-specifications', 'jupyter-packaging', 'jupyter_core', 'jupyter_events', 'jupyter_server_terminals', 'lazy-object-proxy', 'm2-binary-packages', 'markupsafe', 'matplotlib', 'matplotlib-inline', 'mdurl', 'mypy', 'nodejs', 'notebook-shim', 'numpy', 'openapi-core', 'openapi-schema-validator', 'pandas', 'pandoc', 'pep440', 'pkgutil-resolve-name', 'psutil', 'psycopg2', 'pynacl', 'pyobjc-framework-cocoa', 'pyproject_hooks', 'pyqt', 'pytest-jupyter', 'pytest-mypy-testing', 'pytest-xprocess', 'python', 'python-installer', 'python-lsp-server', 'pywin32', 'pywinpty', 'pyzmq', 'r-languageserver', 'referencing', 'rfc3339-validator', 'rpds-py', 'ruamel.yaml', 'texlab', 'tomli', 'tornado', 'trio', 'types-decorator', 'types-setuptools', 'typing_utils', 'uri-template', 'uvloop', 'watchdog']\n",
      "    old preds: ['__linux', '__unix', '__win', 'argon2-cffi-bindings', 'backports.zoneinfo', 'bcrypt', 'black', 'brotli', 'charset-normalizer', 'chktex', 'comm', 'coverage', 'cryptography', 'debugpy', 'ephemeral-port-reserve', 'exceptiongroup', 'fqdn', 'greenlet', 'hatch-fancy-pypi-readme', 'hatch-jupyter-builder', 'hatch-nodejs-version', 'hatch-vcs', 'hatchling', 'importlib_metadata', 'importlib_resources', 'isoduration', 'jsonpointer', 'jsonschema-path', 'jsonschema-specifications', 'jupyter-packaging', 'jupyter_core', 'jupyter_events', 'jupyter_server_terminals', 'lazy-object-proxy', 'm2-binary-packages', 'markupsafe', 'matplotlib', 'matplotlib-inline', 'mdurl', 'mypy', 'nodejs', 'notebook-shim', 'numpy', 'openapi-core', 'openapi-schema-validator', 'pandas', 'pandoc', 'pep440', 'pkgutil-resolve-name', 'psutil', 'psycopg2', 'pynacl', 'pyobjc-framework-cocoa', 'pyproject_hooks', 'pyqt', 'pytest-jupyter', 'pytest-mypy-testing', 'pytest-xprocess', 'python', 'python-installer', 'python-lsp-server', 'pywin32', 'pywinpty', 'pyzmq', 'r-languageserver', 'referencing', 'rfc3339-validator', 'rpds-py', 'ruamel.yaml', 'texlab', 'tomli', 'tornado', 'trio', 'types-decorator', 'types-setuptools', 'typing_utils', 'uri-template', 'uvloop', 'watchdog']\n",
      " \n",
      "__linux\n",
      "    new preds: ['__win', 'argon2-cffi-bindings', 'backports.zoneinfo', 'bcrypt', 'black', 'brotli', 'charset-normalizer', 'chktex', 'comm', 'coverage', 'cryptography', 'debugpy', 'ephemeral-port-reserve', 'exceptiongroup', 'fqdn', 'greenlet', 'hatch-fancy-pypi-readme', 'hatch-jupyter-builder', 'hatch-nodejs-version', 'hatch-vcs', 'hatchling', 'importlib_metadata', 'importlib_resources', 'isoduration', 'jsonpointer', 'jsonschema-path', 'jsonschema-specifications', 'jupyter-packaging', 'jupyter_core', 'jupyter_events', 'jupyter_server_terminals', 'lazy-object-proxy', 'm2-binary-packages', 'markupsafe', 'matplotlib', 'matplotlib-inline', 'mdurl', 'mypy', 'nodejs', 'notebook-shim', 'numpy', 'openapi-core', 'openapi-schema-validator', 'pandas', 'pandoc', 'pep440', 'pkgutil-resolve-name', 'psutil', 'psycopg2', 'pynacl', 'pyobjc-framework-cocoa', 'pyproject_hooks', 'pyqt', 'pytest-jupyter', 'pytest-mypy-testing', 'pytest-xprocess', 'python', 'python-installer', 'python-lsp-server', 'pywin32', 'pywinpty', 'pyzmq', 'r-languageserver', 'referencing', 'rfc3339-validator', 'rpds-py', 'ruamel.yaml', 'texlab', 'tomli', 'tornado', 'trio', 'types-decorator', 'types-setuptools', 'typing_utils', 'uri-template', 'uvloop', 'watchdog']\n",
      "    old preds: ['__linux', '__win', 'argon2-cffi-bindings', 'backports.zoneinfo', 'bcrypt', 'black', 'brotli', 'charset-normalizer', 'chktex', 'comm', 'coverage', 'cryptography', 'debugpy', 'ephemeral-port-reserve', 'exceptiongroup', 'fqdn', 'greenlet', 'hatch-fancy-pypi-readme', 'hatch-jupyter-builder', 'hatch-nodejs-version', 'hatch-vcs', 'hatchling', 'importlib_metadata', 'importlib_resources', 'isoduration', 'jsonpointer', 'jsonschema-path', 'jsonschema-specifications', 'jupyter-packaging', 'jupyter_core', 'jupyter_events', 'jupyter_server_terminals', 'lazy-object-proxy', 'm2-binary-packages', 'markupsafe', 'matplotlib', 'matplotlib-inline', 'mdurl', 'mypy', 'nodejs', 'notebook-shim', 'numpy', 'openapi-core', 'openapi-schema-validator', 'pandas', 'pandoc', 'pep440', 'pkgutil-resolve-name', 'psutil', 'psycopg2', 'pynacl', 'pyobjc-framework-cocoa', 'pyproject_hooks', 'pyqt', 'pytest-jupyter', 'pytest-mypy-testing', 'pytest-xprocess', 'python', 'python-installer', 'python-lsp-server', 'pywin32', 'pywinpty', 'pyzmq', 'r-languageserver', 'referencing', 'rfc3339-validator', 'rpds-py', 'ruamel.yaml', 'texlab', 'tomli', 'tornado', 'trio', 'types-decorator', 'types-setuptools', 'typing_utils', 'uri-template', 'uvloop', 'watchdog']\n",
      " \n",
      "matplotlib-inline\n",
      "    new preds: ['__win', 'argon2-cffi-bindings', 'backports.zoneinfo', 'bcrypt', 'black', 'brotli', 'charset-normalizer', 'chktex', 'comm', 'coverage', 'cryptography', 'debugpy', 'ephemeral-port-reserve', 'exceptiongroup', 'fqdn', 'greenlet', 'hatch-fancy-pypi-readme', 'hatch-jupyter-builder', 'hatch-nodejs-version', 'hatch-vcs', 'hatchling', 'importlib_metadata', 'importlib_resources', 'isoduration', 'jsonpointer', 'jsonschema-path', 'jsonschema-specifications', 'jupyter-packaging', 'jupyter_core', 'jupyter_events', 'jupyter_server_terminals', 'lazy-object-proxy', 'm2-binary-packages', 'markupsafe', 'matplotlib', 'mdurl', 'mypy', 'nodejs', 'notebook-shim', 'numpy', 'openapi-core', 'openapi-schema-validator', 'pandas', 'pandoc', 'pep440', 'pkgutil-resolve-name', 'psutil', 'psycopg2', 'pynacl', 'pyobjc-framework-cocoa', 'pyproject_hooks', 'pyqt', 'pytest-jupyter', 'pytest-mypy-testing', 'pytest-xprocess', 'python', 'python-installer', 'python-lsp-server', 'pywin32', 'pywinpty', 'pyzmq', 'r-languageserver', 'referencing', 'rfc3339-validator', 'rpds-py', 'ruamel.yaml', 'texlab', 'tomli', 'tornado', 'trio', 'types-decorator', 'types-setuptools', 'typing_utils', 'uri-template', 'uvloop', 'watchdog']\n",
      "    old preds: ['__win', 'argon2-cffi-bindings', 'backports.zoneinfo', 'bcrypt', 'black', 'brotli', 'charset-normalizer', 'chktex', 'comm', 'coverage', 'cryptography', 'debugpy', 'ephemeral-port-reserve', 'exceptiongroup', 'fqdn', 'greenlet', 'hatch-fancy-pypi-readme', 'hatch-jupyter-builder', 'hatch-nodejs-version', 'hatch-vcs', 'hatchling', 'importlib_metadata', 'importlib_resources', 'isoduration', 'jsonpointer', 'jsonschema-path', 'jsonschema-specifications', 'jupyter-packaging', 'jupyter_core', 'jupyter_events', 'jupyter_server_terminals', 'lazy-object-proxy', 'm2-binary-packages', 'markupsafe', 'matplotlib', 'matplotlib-inline', 'mdurl', 'mypy', 'nodejs', 'notebook-shim', 'numpy', 'openapi-core', 'openapi-schema-validator', 'pandas', 'pandoc', 'pep440', 'pkgutil-resolve-name', 'psutil', 'psycopg2', 'pynacl', 'pyobjc-framework-cocoa', 'pyproject_hooks', 'pyqt', 'pytest-jupyter', 'pytest-mypy-testing', 'pytest-xprocess', 'python', 'python-installer', 'python-lsp-server', 'pywin32', 'pywinpty', 'pyzmq', 'r-languageserver', 'referencing', 'rfc3339-validator', 'rpds-py', 'ruamel.yaml', 'texlab', 'tomli', 'tornado', 'trio', 'types-decorator', 'types-setuptools', 'typing_utils', 'uri-template', 'uvloop', 'watchdog']\n",
      " \n",
      "python-lsp-server\n",
      "    new preds: ['__win', 'argon2-cffi-bindings', 'astroid', 'backports.zoneinfo', 'bcrypt', 'black', 'brotli', 'charset-normalizer', 'chktex', 'comm', 'coverage', 'cryptography', 'debugpy', 'ephemeral-port-reserve', 'exceptiongroup', 'fqdn', 'greenlet', 'hatch-fancy-pypi-readme', 'hatch-jupyter-builder', 'hatch-nodejs-version', 'hatch-vcs', 'hatchling', 'importlib_metadata', 'importlib_resources', 'isoduration', 'jsonpointer', 'jsonschema-path', 'jsonschema-specifications', 'jupyter-packaging', 'jupyter_core', 'jupyter_events', 'jupyter_server_terminals', 'lazy-object-proxy', 'm2-binary-packages', 'markupsafe', 'matplotlib', 'mdurl', 'mypy', 'nodejs', 'notebook-shim', 'numpy', 'openapi-core', 'openapi-schema-validator', 'pandas', 'pandoc', 'pep440', 'pkgutil-resolve-name', 'platformdirs', 'psutil', 'psycopg2', 'pynacl', 'pyobjc-framework-cocoa', 'pyproject_hooks', 'pyqt', 'pytest-jupyter', 'pytest-mypy-testing', 'pytest-xprocess', 'python', 'python-installer', 'pytoolconfig', 'pywin32', 'pywinpty', 'pyzmq', 'r-languageserver', 'referencing', 'rfc3339-validator', 'rpds-py', 'ruamel.yaml', 'texlab', 'tomli', 'tornado', 'trio', 'types-decorator', 'types-setuptools', 'typing_utils', 'ujson', 'uri-template', 'uvloop', 'watchdog', 'whatthepatch']\n",
      "    old preds: ['__win', 'argon2-cffi-bindings', 'backports.zoneinfo', 'bcrypt', 'black', 'brotli', 'charset-normalizer', 'chktex', 'comm', 'coverage', 'cryptography', 'debugpy', 'ephemeral-port-reserve', 'exceptiongroup', 'fqdn', 'greenlet', 'hatch-fancy-pypi-readme', 'hatch-jupyter-builder', 'hatch-nodejs-version', 'hatch-vcs', 'hatchling', 'importlib_metadata', 'importlib_resources', 'isoduration', 'jsonpointer', 'jsonschema-path', 'jsonschema-specifications', 'jupyter-packaging', 'jupyter_core', 'jupyter_events', 'jupyter_server_terminals', 'lazy-object-proxy', 'm2-binary-packages', 'markupsafe', 'matplotlib', 'mdurl', 'mypy', 'nodejs', 'notebook-shim', 'numpy', 'openapi-core', 'openapi-schema-validator', 'pandas', 'pandoc', 'pep440', 'pkgutil-resolve-name', 'psutil', 'psycopg2', 'pynacl', 'pyobjc-framework-cocoa', 'pyproject_hooks', 'pyqt', 'pytest-jupyter', 'pytest-mypy-testing', 'pytest-xprocess', 'python', 'python-installer', 'python-lsp-server', 'pywin32', 'pywinpty', 'pyzmq', 'r-languageserver', 'referencing', 'rfc3339-validator', 'rpds-py', 'ruamel.yaml', 'texlab', 'tomli', 'tornado', 'trio', 'types-decorator', 'types-setuptools', 'typing_utils', 'uri-template', 'uvloop', 'watchdog']\n",
      " \n",
      "openapi-schema-validator\n",
      "    new preds: ['__win', 'argon2-cffi-bindings', 'astroid', 'backports.zoneinfo', 'bcrypt', 'black', 'brotli', 'charset-normalizer', 'chktex', 'comm', 'coverage', 'cryptography', 'debugpy', 'ephemeral-port-reserve', 'exceptiongroup', 'fqdn', 'greenlet', 'hatch-fancy-pypi-readme', 'hatch-jupyter-builder', 'hatch-nodejs-version', 'hatch-vcs', 'hatchling', 'importlib_metadata', 'importlib_resources', 'isoduration', 'jsonpointer', 'jsonschema-path', 'jsonschema-specifications', 'jupyter-packaging', 'jupyter_core', 'jupyter_events', 'jupyter_server_terminals', 'lazy-object-proxy', 'm2-binary-packages', 'markupsafe', 'matplotlib', 'mdurl', 'mypy', 'nodejs', 'notebook-shim', 'numpy', 'openapi-core', 'pandas', 'pandoc', 'pep440', 'pkgutil-resolve-name', 'platformdirs', 'psutil', 'psycopg2', 'pynacl', 'pyobjc-framework-cocoa', 'pyproject_hooks', 'pyqt', 'pytest-jupyter', 'pytest-mypy-testing', 'pytest-xprocess', 'python', 'python-installer', 'pytoolconfig', 'pywin32', 'pywinpty', 'pyzmq', 'r-languageserver', 'referencing', 'rfc3339-validator', 'rpds-py', 'ruamel.yaml', 'texlab', 'tomli', 'tornado', 'trio', 'types-decorator', 'types-setuptools', 'typing_utils', 'ujson', 'uri-template', 'uvloop', 'watchdog', 'whatthepatch']\n",
      "    old preds: ['__win', 'argon2-cffi-bindings', 'astroid', 'backports.zoneinfo', 'bcrypt', 'black', 'brotli', 'charset-normalizer', 'chktex', 'comm', 'coverage', 'cryptography', 'debugpy', 'ephemeral-port-reserve', 'exceptiongroup', 'fqdn', 'greenlet', 'hatch-fancy-pypi-readme', 'hatch-jupyter-builder', 'hatch-nodejs-version', 'hatch-vcs', 'hatchling', 'importlib_metadata', 'importlib_resources', 'isoduration', 'jsonpointer', 'jsonschema-path', 'jsonschema-specifications', 'jupyter-packaging', 'jupyter_core', 'jupyter_events', 'jupyter_server_terminals', 'lazy-object-proxy', 'm2-binary-packages', 'markupsafe', 'matplotlib', 'mdurl', 'mypy', 'nodejs', 'notebook-shim', 'numpy', 'openapi-core', 'openapi-schema-validator', 'pandas', 'pandoc', 'pep440', 'pkgutil-resolve-name', 'platformdirs', 'psutil', 'psycopg2', 'pynacl', 'pyobjc-framework-cocoa', 'pyproject_hooks', 'pyqt', 'pytest-jupyter', 'pytest-mypy-testing', 'pytest-xprocess', 'python', 'python-installer', 'pytoolconfig', 'pywin32', 'pywinpty', 'pyzmq', 'r-languageserver', 'referencing', 'rfc3339-validator', 'rpds-py', 'ruamel.yaml', 'texlab', 'tomli', 'tornado', 'trio', 'types-decorator', 'types-setuptools', 'typing_utils', 'ujson', 'uri-template', 'uvloop', 'watchdog', 'whatthepatch']\n",
      " \n",
      "openapi-core\n",
      "    new preds: ['__win', 'aiohttp', 'annotated-types', 'argon2-cffi-bindings', 'astroid', 'backports.zoneinfo', 'bcrypt', 'black', 'brotli', 'charset-normalizer', 'chktex', 'comm', 'coverage', 'cryptography', 'debugpy', 'ephemeral-port-reserve', 'exceptiongroup', 'falcon', 'fqdn', 'greenlet', 'hatch-fancy-pypi-readme', 'hatch-jupyter-builder', 'hatch-nodejs-version', 'hatch-vcs', 'hatchling', 'importlib_metadata', 'importlib_resources', 'isoduration', 'jsonpointer', 'jsonschema-path', 'jsonschema-specifications', 'jupyter-packaging', 'jupyter_core', 'jupyter_events', 'jupyter_server_terminals', 'lazy-object-proxy', 'm2-binary-packages', 'markupsafe', 'matplotlib', 'mdurl', 'mypy', 'nodejs', 'notebook-shim', 'numpy', 'pandas', 'pandoc', 'pep440', 'pkgutil-resolve-name', 'platformdirs', 'psutil', 'psycopg2', 'pydantic-core', 'pynacl', 'pyobjc-framework-cocoa', 'pyproject_hooks', 'pyqt', 'pytest-jupyter', 'pytest-mypy-testing', 'pytest-xprocess', 'python', 'python-installer', 'pytoolconfig', 'pywin32', 'pywinpty', 'pyyaml', 'pyzmq', 'r-languageserver', 'referencing', 'rfc3339-validator', 'rpds-py', 'ruamel.yaml', 'texlab', 'tomli', 'tornado', 'trio', 'types-decorator', 'types-pyyaml', 'types-setuptools', 'typing_utils', 'ujson', 'uri-template', 'uvloop', 'watchdog', 'whatthepatch']\n",
      "    old preds: ['__win', 'argon2-cffi-bindings', 'astroid', 'backports.zoneinfo', 'bcrypt', 'black', 'brotli', 'charset-normalizer', 'chktex', 'comm', 'coverage', 'cryptography', 'debugpy', 'ephemeral-port-reserve', 'exceptiongroup', 'fqdn', 'greenlet', 'hatch-fancy-pypi-readme', 'hatch-jupyter-builder', 'hatch-nodejs-version', 'hatch-vcs', 'hatchling', 'importlib_metadata', 'importlib_resources', 'isoduration', 'jsonpointer', 'jsonschema-path', 'jsonschema-specifications', 'jupyter-packaging', 'jupyter_core', 'jupyter_events', 'jupyter_server_terminals', 'lazy-object-proxy', 'm2-binary-packages', 'markupsafe', 'matplotlib', 'mdurl', 'mypy', 'nodejs', 'notebook-shim', 'numpy', 'openapi-core', 'pandas', 'pandoc', 'pep440', 'pkgutil-resolve-name', 'platformdirs', 'psutil', 'psycopg2', 'pynacl', 'pyobjc-framework-cocoa', 'pyproject_hooks', 'pyqt', 'pytest-jupyter', 'pytest-mypy-testing', 'pytest-xprocess', 'python', 'python-installer', 'pytoolconfig', 'pywin32', 'pywinpty', 'pyzmq', 'r-languageserver', 'referencing', 'rfc3339-validator', 'rpds-py', 'ruamel.yaml', 'texlab', 'tomli', 'tornado', 'trio', 'types-decorator', 'types-setuptools', 'typing_utils', 'ujson', 'uri-template', 'uvloop', 'watchdog', 'whatthepatch']\n",
      " \n",
      "typing_utils\n",
      "    new preds: ['__win', 'aiohttp', 'annotated-types', 'argon2-cffi-bindings', 'astroid', 'backports.zoneinfo', 'bcrypt', 'black', 'brotli', 'charset-normalizer', 'chktex', 'comm', 'coverage', 'cryptography', 'debugpy', 'ephemeral-port-reserve', 'exceptiongroup', 'falcon', 'fqdn', 'greenlet', 'hatch-fancy-pypi-readme', 'hatch-jupyter-builder', 'hatch-nodejs-version', 'hatch-vcs', 'hatchling', 'importlib_metadata', 'importlib_resources', 'isoduration', 'jsonpointer', 'jsonschema-path', 'jsonschema-specifications', 'jupyter-packaging', 'jupyter_core', 'jupyter_events', 'jupyter_server_terminals', 'lazy-object-proxy', 'm2-binary-packages', 'markupsafe', 'matplotlib', 'mdurl', 'mypy', 'nodejs', 'notebook-shim', 'numpy', 'pandas', 'pandoc', 'pep440', 'pkgutil-resolve-name', 'platformdirs', 'psutil', 'psycopg2', 'pydantic-core', 'pynacl', 'pyobjc-framework-cocoa', 'pyproject_hooks', 'pyqt', 'pytest-jupyter', 'pytest-mypy-testing', 'pytest-xprocess', 'python', 'python-installer', 'pytoolconfig', 'pywin32', 'pywinpty', 'pyyaml', 'pyzmq', 'r-languageserver', 'referencing', 'rfc3339-validator', 'rpds-py', 'ruamel.yaml', 'texlab', 'tomli', 'tornado', 'trio', 'types-decorator', 'types-pyyaml', 'types-setuptools', 'ujson', 'uri-template', 'uvloop', 'watchdog', 'whatthepatch']\n",
      "    old preds: ['__win', 'aiohttp', 'annotated-types', 'argon2-cffi-bindings', 'astroid', 'backports.zoneinfo', 'bcrypt', 'black', 'brotli', 'charset-normalizer', 'chktex', 'comm', 'coverage', 'cryptography', 'debugpy', 'ephemeral-port-reserve', 'exceptiongroup', 'falcon', 'fqdn', 'greenlet', 'hatch-fancy-pypi-readme', 'hatch-jupyter-builder', 'hatch-nodejs-version', 'hatch-vcs', 'hatchling', 'importlib_metadata', 'importlib_resources', 'isoduration', 'jsonpointer', 'jsonschema-path', 'jsonschema-specifications', 'jupyter-packaging', 'jupyter_core', 'jupyter_events', 'jupyter_server_terminals', 'lazy-object-proxy', 'm2-binary-packages', 'markupsafe', 'matplotlib', 'mdurl', 'mypy', 'nodejs', 'notebook-shim', 'numpy', 'pandas', 'pandoc', 'pep440', 'pkgutil-resolve-name', 'platformdirs', 'psutil', 'psycopg2', 'pydantic-core', 'pynacl', 'pyobjc-framework-cocoa', 'pyproject_hooks', 'pyqt', 'pytest-jupyter', 'pytest-mypy-testing', 'pytest-xprocess', 'python', 'python-installer', 'pytoolconfig', 'pywin32', 'pywinpty', 'pyyaml', 'pyzmq', 'r-languageserver', 'referencing', 'rfc3339-validator', 'rpds-py', 'ruamel.yaml', 'texlab', 'tomli', 'tornado', 'trio', 'types-decorator', 'types-pyyaml', 'types-setuptools', 'typing_utils', 'ujson', 'uri-template', 'uvloop', 'watchdog', 'whatthepatch']\n",
      " \n",
      "tomli\n",
      "    new preds: ['__win', 'aiohttp', 'annotated-types', 'argon2-cffi-bindings', 'astroid', 'backports.zoneinfo', 'bcrypt', 'black', 'brotli', 'charset-normalizer', 'chktex', 'comm', 'coverage', 'cryptography', 'debugpy', 'ephemeral-port-reserve', 'exceptiongroup', 'falcon', 'fqdn', 'greenlet', 'hatch-fancy-pypi-readme', 'hatch-jupyter-builder', 'hatch-nodejs-version', 'hatch-vcs', 'hatchling', 'importlib_metadata', 'importlib_resources', 'isoduration', 'jsonpointer', 'jsonschema-path', 'jsonschema-specifications', 'jupyter-packaging', 'jupyter_core', 'jupyter_events', 'jupyter_server_terminals', 'lazy-object-proxy', 'm2-binary-packages', 'markupsafe', 'matplotlib', 'mdurl', 'mypy', 'nodejs', 'notebook-shim', 'numpy', 'pandas', 'pandoc', 'pep440', 'pkgutil-resolve-name', 'platformdirs', 'psutil', 'psycopg2', 'pydantic-core', 'pynacl', 'pyobjc-framework-cocoa', 'pyproject_hooks', 'pyqt', 'pytest-jupyter', 'pytest-mypy-testing', 'pytest-xprocess', 'python', 'python-installer', 'pytoolconfig', 'pywin32', 'pywinpty', 'pyyaml', 'pyzmq', 'r-languageserver', 'referencing', 'rfc3339-validator', 'rpds-py', 'ruamel.yaml', 'texlab', 'tornado', 'trio', 'types-decorator', 'types-pyyaml', 'types-setuptools', 'ujson', 'uri-template', 'uvloop', 'watchdog', 'whatthepatch']\n",
      "    old preds: ['__win', 'aiohttp', 'annotated-types', 'argon2-cffi-bindings', 'astroid', 'backports.zoneinfo', 'bcrypt', 'black', 'brotli', 'charset-normalizer', 'chktex', 'comm', 'coverage', 'cryptography', 'debugpy', 'ephemeral-port-reserve', 'exceptiongroup', 'falcon', 'fqdn', 'greenlet', 'hatch-fancy-pypi-readme', 'hatch-jupyter-builder', 'hatch-nodejs-version', 'hatch-vcs', 'hatchling', 'importlib_metadata', 'importlib_resources', 'isoduration', 'jsonpointer', 'jsonschema-path', 'jsonschema-specifications', 'jupyter-packaging', 'jupyter_core', 'jupyter_events', 'jupyter_server_terminals', 'lazy-object-proxy', 'm2-binary-packages', 'markupsafe', 'matplotlib', 'mdurl', 'mypy', 'nodejs', 'notebook-shim', 'numpy', 'pandas', 'pandoc', 'pep440', 'pkgutil-resolve-name', 'platformdirs', 'psutil', 'psycopg2', 'pydantic-core', 'pynacl', 'pyobjc-framework-cocoa', 'pyproject_hooks', 'pyqt', 'pytest-jupyter', 'pytest-mypy-testing', 'pytest-xprocess', 'python', 'python-installer', 'pytoolconfig', 'pywin32', 'pywinpty', 'pyyaml', 'pyzmq', 'r-languageserver', 'referencing', 'rfc3339-validator', 'rpds-py', 'ruamel.yaml', 'texlab', 'tomli', 'tornado', 'trio', 'types-decorator', 'types-pyyaml', 'types-setuptools', 'ujson', 'uri-template', 'uvloop', 'watchdog', 'whatthepatch']\n",
      " \n",
      "types-pyyaml\n",
      "    new preds: ['__win', 'aiohttp', 'annotated-types', 'argon2-cffi-bindings', 'astroid', 'backports.zoneinfo', 'bcrypt', 'black', 'brotli', 'charset-normalizer', 'chktex', 'comm', 'coverage', 'cryptography', 'debugpy', 'ephemeral-port-reserve', 'exceptiongroup', 'falcon', 'fqdn', 'greenlet', 'hatch-fancy-pypi-readme', 'hatch-jupyter-builder', 'hatch-nodejs-version', 'hatch-vcs', 'hatchling', 'importlib_metadata', 'importlib_resources', 'isoduration', 'jsonpointer', 'jsonschema-path', 'jsonschema-specifications', 'jupyter-packaging', 'jupyter_core', 'jupyter_events', 'jupyter_server_terminals', 'lazy-object-proxy', 'm2-binary-packages', 'markupsafe', 'matplotlib', 'mdurl', 'mypy', 'nodejs', 'notebook-shim', 'numpy', 'pandas', 'pandoc', 'pep440', 'pkgutil-resolve-name', 'platformdirs', 'psutil', 'psycopg2', 'pydantic-core', 'pynacl', 'pyobjc-framework-cocoa', 'pyproject_hooks', 'pyqt', 'pytest-jupyter', 'pytest-mypy-testing', 'pytest-xprocess', 'python', 'python-installer', 'pytoolconfig', 'pywin32', 'pywinpty', 'pyyaml', 'pyzmq', 'r-languageserver', 'referencing', 'rfc3339-validator', 'rpds-py', 'ruamel.yaml', 'texlab', 'tornado', 'trio', 'types-decorator', 'types-setuptools', 'ujson', 'uri-template', 'uvloop', 'watchdog', 'whatthepatch']\n",
      "    old preds: ['__win', 'aiohttp', 'annotated-types', 'argon2-cffi-bindings', 'astroid', 'backports.zoneinfo', 'bcrypt', 'black', 'brotli', 'charset-normalizer', 'chktex', 'comm', 'coverage', 'cryptography', 'debugpy', 'ephemeral-port-reserve', 'exceptiongroup', 'falcon', 'fqdn', 'greenlet', 'hatch-fancy-pypi-readme', 'hatch-jupyter-builder', 'hatch-nodejs-version', 'hatch-vcs', 'hatchling', 'importlib_metadata', 'importlib_resources', 'isoduration', 'jsonpointer', 'jsonschema-path', 'jsonschema-specifications', 'jupyter-packaging', 'jupyter_core', 'jupyter_events', 'jupyter_server_terminals', 'lazy-object-proxy', 'm2-binary-packages', 'markupsafe', 'matplotlib', 'mdurl', 'mypy', 'nodejs', 'notebook-shim', 'numpy', 'pandas', 'pandoc', 'pep440', 'pkgutil-resolve-name', 'platformdirs', 'psutil', 'psycopg2', 'pydantic-core', 'pynacl', 'pyobjc-framework-cocoa', 'pyproject_hooks', 'pyqt', 'pytest-jupyter', 'pytest-mypy-testing', 'pytest-xprocess', 'python', 'python-installer', 'pytoolconfig', 'pywin32', 'pywinpty', 'pyyaml', 'pyzmq', 'r-languageserver', 'referencing', 'rfc3339-validator', 'rpds-py', 'ruamel.yaml', 'texlab', 'tornado', 'trio', 'types-decorator', 'types-pyyaml', 'types-setuptools', 'ujson', 'uri-template', 'uvloop', 'watchdog', 'whatthepatch']\n",
      " \n",
      "types-decorator\n",
      "    new preds: ['__win', 'aiohttp', 'annotated-types', 'argon2-cffi-bindings', 'astroid', 'backports.zoneinfo', 'bcrypt', 'black', 'brotli', 'charset-normalizer', 'chktex', 'comm', 'coverage', 'cryptography', 'debugpy', 'ephemeral-port-reserve', 'exceptiongroup', 'falcon', 'fqdn', 'greenlet', 'hatch-fancy-pypi-readme', 'hatch-jupyter-builder', 'hatch-nodejs-version', 'hatch-vcs', 'hatchling', 'importlib_metadata', 'importlib_resources', 'isoduration', 'jsonpointer', 'jsonschema-path', 'jsonschema-specifications', 'jupyter-packaging', 'jupyter_core', 'jupyter_events', 'jupyter_server_terminals', 'lazy-object-proxy', 'm2-binary-packages', 'markupsafe', 'matplotlib', 'mdurl', 'mypy', 'nodejs', 'notebook-shim', 'numpy', 'pandas', 'pandoc', 'pep440', 'pkgutil-resolve-name', 'platformdirs', 'psutil', 'psycopg2', 'pydantic-core', 'pynacl', 'pyobjc-framework-cocoa', 'pyproject_hooks', 'pyqt', 'pytest-jupyter', 'pytest-mypy-testing', 'pytest-xprocess', 'python', 'python-installer', 'pytoolconfig', 'pywin32', 'pywinpty', 'pyyaml', 'pyzmq', 'r-languageserver', 'referencing', 'rfc3339-validator', 'rpds-py', 'ruamel.yaml', 'texlab', 'tornado', 'trio', 'types-setuptools', 'ujson', 'uri-template', 'uvloop', 'watchdog', 'whatthepatch']\n",
      "    old preds: ['__win', 'aiohttp', 'annotated-types', 'argon2-cffi-bindings', 'astroid', 'backports.zoneinfo', 'bcrypt', 'black', 'brotli', 'charset-normalizer', 'chktex', 'comm', 'coverage', 'cryptography', 'debugpy', 'ephemeral-port-reserve', 'exceptiongroup', 'falcon', 'fqdn', 'greenlet', 'hatch-fancy-pypi-readme', 'hatch-jupyter-builder', 'hatch-nodejs-version', 'hatch-vcs', 'hatchling', 'importlib_metadata', 'importlib_resources', 'isoduration', 'jsonpointer', 'jsonschema-path', 'jsonschema-specifications', 'jupyter-packaging', 'jupyter_core', 'jupyter_events', 'jupyter_server_terminals', 'lazy-object-proxy', 'm2-binary-packages', 'markupsafe', 'matplotlib', 'mdurl', 'mypy', 'nodejs', 'notebook-shim', 'numpy', 'pandas', 'pandoc', 'pep440', 'pkgutil-resolve-name', 'platformdirs', 'psutil', 'psycopg2', 'pydantic-core', 'pynacl', 'pyobjc-framework-cocoa', 'pyproject_hooks', 'pyqt', 'pytest-jupyter', 'pytest-mypy-testing', 'pytest-xprocess', 'python', 'python-installer', 'pytoolconfig', 'pywin32', 'pywinpty', 'pyyaml', 'pyzmq', 'r-languageserver', 'referencing', 'rfc3339-validator', 'rpds-py', 'ruamel.yaml', 'texlab', 'tornado', 'trio', 'types-decorator', 'types-setuptools', 'ujson', 'uri-template', 'uvloop', 'watchdog', 'whatthepatch']\n",
      " \n",
      "types-setuptools\n",
      "    new preds: ['__win', 'aiohttp', 'annotated-types', 'argon2-cffi-bindings', 'astroid', 'backports.zoneinfo', 'bcrypt', 'black', 'brotli', 'charset-normalizer', 'chktex', 'comm', 'coverage', 'cryptography', 'debugpy', 'ephemeral-port-reserve', 'exceptiongroup', 'falcon', 'fqdn', 'greenlet', 'hatch-fancy-pypi-readme', 'hatch-jupyter-builder', 'hatch-nodejs-version', 'hatch-vcs', 'hatchling', 'importlib_metadata', 'importlib_resources', 'isoduration', 'jsonpointer', 'jsonschema-path', 'jsonschema-specifications', 'jupyter-packaging', 'jupyter_core', 'jupyter_events', 'jupyter_server_terminals', 'lazy-object-proxy', 'm2-binary-packages', 'markupsafe', 'matplotlib', 'mdurl', 'mypy', 'nodejs', 'notebook-shim', 'numpy', 'pandas', 'pandoc', 'pep440', 'pkgutil-resolve-name', 'platformdirs', 'psutil', 'psycopg2', 'pydantic-core', 'pynacl', 'pyobjc-framework-cocoa', 'pyproject_hooks', 'pyqt', 'pytest-jupyter', 'pytest-mypy-testing', 'pytest-xprocess', 'python', 'python-installer', 'pytoolconfig', 'pywin32', 'pywinpty', 'pyyaml', 'pyzmq', 'r-languageserver', 'referencing', 'rfc3339-validator', 'rpds-py', 'ruamel.yaml', 'texlab', 'tornado', 'trio', 'ujson', 'uri-template', 'uvloop', 'watchdog', 'whatthepatch']\n",
      "    old preds: ['__win', 'aiohttp', 'annotated-types', 'argon2-cffi-bindings', 'astroid', 'backports.zoneinfo', 'bcrypt', 'black', 'brotli', 'charset-normalizer', 'chktex', 'comm', 'coverage', 'cryptography', 'debugpy', 'ephemeral-port-reserve', 'exceptiongroup', 'falcon', 'fqdn', 'greenlet', 'hatch-fancy-pypi-readme', 'hatch-jupyter-builder', 'hatch-nodejs-version', 'hatch-vcs', 'hatchling', 'importlib_metadata', 'importlib_resources', 'isoduration', 'jsonpointer', 'jsonschema-path', 'jsonschema-specifications', 'jupyter-packaging', 'jupyter_core', 'jupyter_events', 'jupyter_server_terminals', 'lazy-object-proxy', 'm2-binary-packages', 'markupsafe', 'matplotlib', 'mdurl', 'mypy', 'nodejs', 'notebook-shim', 'numpy', 'pandas', 'pandoc', 'pep440', 'pkgutil-resolve-name', 'platformdirs', 'psutil', 'psycopg2', 'pydantic-core', 'pynacl', 'pyobjc-framework-cocoa', 'pyproject_hooks', 'pyqt', 'pytest-jupyter', 'pytest-mypy-testing', 'pytest-xprocess', 'python', 'python-installer', 'pytoolconfig', 'pywin32', 'pywinpty', 'pyyaml', 'pyzmq', 'r-languageserver', 'referencing', 'rfc3339-validator', 'rpds-py', 'ruamel.yaml', 'texlab', 'tornado', 'trio', 'types-setuptools', 'ujson', 'uri-template', 'uvloop', 'watchdog', 'whatthepatch']\n",
      " \n",
      "charset-normalizer\n",
      "    new preds: ['__win', 'aiohttp', 'annotated-types', 'argon2-cffi-bindings', 'astroid', 'backports.zoneinfo', 'bcrypt', 'black', 'brotli', 'chktex', 'comm', 'coverage', 'cryptography', 'debugpy', 'ephemeral-port-reserve', 'exceptiongroup', 'falcon', 'fqdn', 'greenlet', 'hatch-fancy-pypi-readme', 'hatch-jupyter-builder', 'hatch-nodejs-version', 'hatch-vcs', 'hatchling', 'importlib_metadata', 'importlib_resources', 'isoduration', 'jsonpointer', 'jsonschema-path', 'jsonschema-specifications', 'jupyter-packaging', 'jupyter_core', 'jupyter_events', 'jupyter_server_terminals', 'lazy-object-proxy', 'm2-binary-packages', 'markupsafe', 'matplotlib', 'mdurl', 'mypy', 'nodejs', 'notebook-shim', 'numpy', 'pandas', 'pandoc', 'pep440', 'pkgutil-resolve-name', 'platformdirs', 'psutil', 'psycopg2', 'pydantic-core', 'pynacl', 'pyobjc-framework-cocoa', 'pyproject_hooks', 'pyqt', 'pytest-jupyter', 'pytest-mypy-testing', 'pytest-xprocess', 'python', 'python-installer', 'pytoolconfig', 'pywin32', 'pywinpty', 'pyyaml', 'pyzmq', 'r-languageserver', 'referencing', 'rfc3339-validator', 'rpds-py', 'ruamel.yaml', 'texlab', 'tornado', 'trio', 'ujson', 'uri-template', 'uvloop', 'watchdog', 'whatthepatch']\n",
      "    old preds: ['__win', 'aiohttp', 'annotated-types', 'argon2-cffi-bindings', 'astroid', 'backports.zoneinfo', 'bcrypt', 'black', 'brotli', 'charset-normalizer', 'chktex', 'comm', 'coverage', 'cryptography', 'debugpy', 'ephemeral-port-reserve', 'exceptiongroup', 'falcon', 'fqdn', 'greenlet', 'hatch-fancy-pypi-readme', 'hatch-jupyter-builder', 'hatch-nodejs-version', 'hatch-vcs', 'hatchling', 'importlib_metadata', 'importlib_resources', 'isoduration', 'jsonpointer', 'jsonschema-path', 'jsonschema-specifications', 'jupyter-packaging', 'jupyter_core', 'jupyter_events', 'jupyter_server_terminals', 'lazy-object-proxy', 'm2-binary-packages', 'markupsafe', 'matplotlib', 'mdurl', 'mypy', 'nodejs', 'notebook-shim', 'numpy', 'pandas', 'pandoc', 'pep440', 'pkgutil-resolve-name', 'platformdirs', 'psutil', 'psycopg2', 'pydantic-core', 'pynacl', 'pyobjc-framework-cocoa', 'pyproject_hooks', 'pyqt', 'pytest-jupyter', 'pytest-mypy-testing', 'pytest-xprocess', 'python', 'python-installer', 'pytoolconfig', 'pywin32', 'pywinpty', 'pyyaml', 'pyzmq', 'r-languageserver', 'referencing', 'rfc3339-validator', 'rpds-py', 'ruamel.yaml', 'texlab', 'tornado', 'trio', 'ujson', 'uri-template', 'uvloop', 'watchdog', 'whatthepatch']\n",
      " \n",
      "platformdirs\n",
      "    new preds: ['__win', 'aiohttp', 'annotated-types', 'argon2-cffi-bindings', 'astroid', 'backports.zoneinfo', 'bcrypt', 'black', 'brotli', 'chktex', 'comm', 'coverage', 'cryptography', 'debugpy', 'ephemeral-port-reserve', 'exceptiongroup', 'falcon', 'fqdn', 'greenlet', 'hatch-fancy-pypi-readme', 'hatch-jupyter-builder', 'hatch-nodejs-version', 'hatch-vcs', 'hatchling', 'importlib_metadata', 'importlib_resources', 'isoduration', 'jsonpointer', 'jsonschema-path', 'jsonschema-specifications', 'jupyter-packaging', 'jupyter_core', 'jupyter_events', 'jupyter_server_terminals', 'lazy-object-proxy', 'm2-binary-packages', 'markupsafe', 'matplotlib', 'mdurl', 'mypy', 'nodejs', 'notebook-shim', 'numpy', 'pandas', 'pandoc', 'pep440', 'pkgutil-resolve-name', 'psutil', 'psycopg2', 'pydantic-core', 'pynacl', 'pyobjc-framework-cocoa', 'pyproject_hooks', 'pyqt', 'pytest-jupyter', 'pytest-mypy-testing', 'pytest-xprocess', 'python', 'python-installer', 'pytoolconfig', 'pywin32', 'pywinpty', 'pyyaml', 'pyzmq', 'r-languageserver', 'referencing', 'rfc3339-validator', 'rpds-py', 'ruamel.yaml', 'texlab', 'tornado', 'trio', 'ujson', 'uri-template', 'uvloop', 'watchdog', 'whatthepatch']\n",
      "    old preds: ['__win', 'aiohttp', 'annotated-types', 'argon2-cffi-bindings', 'astroid', 'backports.zoneinfo', 'bcrypt', 'black', 'brotli', 'chktex', 'comm', 'coverage', 'cryptography', 'debugpy', 'ephemeral-port-reserve', 'exceptiongroup', 'falcon', 'fqdn', 'greenlet', 'hatch-fancy-pypi-readme', 'hatch-jupyter-builder', 'hatch-nodejs-version', 'hatch-vcs', 'hatchling', 'importlib_metadata', 'importlib_resources', 'isoduration', 'jsonpointer', 'jsonschema-path', 'jsonschema-specifications', 'jupyter-packaging', 'jupyter_core', 'jupyter_events', 'jupyter_server_terminals', 'lazy-object-proxy', 'm2-binary-packages', 'markupsafe', 'matplotlib', 'mdurl', 'mypy', 'nodejs', 'notebook-shim', 'numpy', 'pandas', 'pandoc', 'pep440', 'pkgutil-resolve-name', 'platformdirs', 'psutil', 'psycopg2', 'pydantic-core', 'pynacl', 'pyobjc-framework-cocoa', 'pyproject_hooks', 'pyqt', 'pytest-jupyter', 'pytest-mypy-testing', 'pytest-xprocess', 'python', 'python-installer', 'pytoolconfig', 'pywin32', 'pywinpty', 'pyyaml', 'pyzmq', 'r-languageserver', 'referencing', 'rfc3339-validator', 'rpds-py', 'ruamel.yaml', 'texlab', 'tornado', 'trio', 'ujson', 'uri-template', 'uvloop', 'watchdog', 'whatthepatch']\n",
      " \n",
      "python-installer\n",
      "    new preds: ['__win', 'aiohttp', 'annotated-types', 'argon2-cffi-bindings', 'astroid', 'backports.zoneinfo', 'bcrypt', 'black', 'brotli', 'chktex', 'comm', 'coverage', 'cryptography', 'debugpy', 'ephemeral-port-reserve', 'exceptiongroup', 'falcon', 'fqdn', 'greenlet', 'hatch-fancy-pypi-readme', 'hatch-jupyter-builder', 'hatch-nodejs-version', 'hatch-vcs', 'hatchling', 'importlib_metadata', 'importlib_resources', 'isoduration', 'jsonpointer', 'jsonschema-path', 'jsonschema-specifications', 'jupyter-packaging', 'jupyter_core', 'jupyter_events', 'jupyter_server_terminals', 'lazy-object-proxy', 'm2-binary-packages', 'markupsafe', 'matplotlib', 'mdurl', 'mypy', 'nodejs', 'notebook-shim', 'numpy', 'pandas', 'pandoc', 'pep440', 'pkgutil-resolve-name', 'psutil', 'psycopg2', 'pydantic-core', 'pynacl', 'pyobjc-framework-cocoa', 'pyproject_hooks', 'pyqt', 'pytest-jupyter', 'pytest-mypy-testing', 'pytest-xprocess', 'python', 'pytoolconfig', 'pywin32', 'pywinpty', 'pyyaml', 'pyzmq', 'r-languageserver', 'referencing', 'rfc3339-validator', 'rpds-py', 'ruamel.yaml', 'texlab', 'tornado', 'trio', 'ujson', 'uri-template', 'uvloop', 'watchdog', 'whatthepatch']\n",
      "    old preds: ['__win', 'aiohttp', 'annotated-types', 'argon2-cffi-bindings', 'astroid', 'backports.zoneinfo', 'bcrypt', 'black', 'brotli', 'chktex', 'comm', 'coverage', 'cryptography', 'debugpy', 'ephemeral-port-reserve', 'exceptiongroup', 'falcon', 'fqdn', 'greenlet', 'hatch-fancy-pypi-readme', 'hatch-jupyter-builder', 'hatch-nodejs-version', 'hatch-vcs', 'hatchling', 'importlib_metadata', 'importlib_resources', 'isoduration', 'jsonpointer', 'jsonschema-path', 'jsonschema-specifications', 'jupyter-packaging', 'jupyter_core', 'jupyter_events', 'jupyter_server_terminals', 'lazy-object-proxy', 'm2-binary-packages', 'markupsafe', 'matplotlib', 'mdurl', 'mypy', 'nodejs', 'notebook-shim', 'numpy', 'pandas', 'pandoc', 'pep440', 'pkgutil-resolve-name', 'psutil', 'psycopg2', 'pydantic-core', 'pynacl', 'pyobjc-framework-cocoa', 'pyproject_hooks', 'pyqt', 'pytest-jupyter', 'pytest-mypy-testing', 'pytest-xprocess', 'python', 'python-installer', 'pytoolconfig', 'pywin32', 'pywinpty', 'pyyaml', 'pyzmq', 'r-languageserver', 'referencing', 'rfc3339-validator', 'rpds-py', 'ruamel.yaml', 'texlab', 'tornado', 'trio', 'ujson', 'uri-template', 'uvloop', 'watchdog', 'whatthepatch']\n",
      " \n",
      "pkgutil-resolve-name\n",
      "    new preds: ['__win', 'aiohttp', 'annotated-types', 'argon2-cffi-bindings', 'astroid', 'backports.zoneinfo', 'bcrypt', 'black', 'brotli', 'chktex', 'comm', 'coverage', 'cryptography', 'debugpy', 'ephemeral-port-reserve', 'exceptiongroup', 'falcon', 'fqdn', 'greenlet', 'hatch-fancy-pypi-readme', 'hatch-jupyter-builder', 'hatch-nodejs-version', 'hatch-vcs', 'hatchling', 'importlib_metadata', 'importlib_resources', 'isoduration', 'jsonpointer', 'jsonschema-path', 'jsonschema-specifications', 'jupyter-packaging', 'jupyter_core', 'jupyter_events', 'jupyter_server_terminals', 'lazy-object-proxy', 'm2-binary-packages', 'markupsafe', 'matplotlib', 'mdurl', 'mypy', 'nodejs', 'notebook-shim', 'numpy', 'pandas', 'pandoc', 'pep440', 'psutil', 'psycopg2', 'pydantic-core', 'pynacl', 'pyobjc-framework-cocoa', 'pyproject_hooks', 'pyqt', 'pytest-jupyter', 'pytest-mypy-testing', 'pytest-xprocess', 'python', 'pytoolconfig', 'pywin32', 'pywinpty', 'pyyaml', 'pyzmq', 'r-languageserver', 'referencing', 'rfc3339-validator', 'rpds-py', 'ruamel.yaml', 'texlab', 'tornado', 'trio', 'ujson', 'uri-template', 'uvloop', 'watchdog', 'whatthepatch']\n",
      "    old preds: ['__win', 'aiohttp', 'annotated-types', 'argon2-cffi-bindings', 'astroid', 'backports.zoneinfo', 'bcrypt', 'black', 'brotli', 'chktex', 'comm', 'coverage', 'cryptography', 'debugpy', 'ephemeral-port-reserve', 'exceptiongroup', 'falcon', 'fqdn', 'greenlet', 'hatch-fancy-pypi-readme', 'hatch-jupyter-builder', 'hatch-nodejs-version', 'hatch-vcs', 'hatchling', 'importlib_metadata', 'importlib_resources', 'isoduration', 'jsonpointer', 'jsonschema-path', 'jsonschema-specifications', 'jupyter-packaging', 'jupyter_core', 'jupyter_events', 'jupyter_server_terminals', 'lazy-object-proxy', 'm2-binary-packages', 'markupsafe', 'matplotlib', 'mdurl', 'mypy', 'nodejs', 'notebook-shim', 'numpy', 'pandas', 'pandoc', 'pep440', 'pkgutil-resolve-name', 'psutil', 'psycopg2', 'pydantic-core', 'pynacl', 'pyobjc-framework-cocoa', 'pyproject_hooks', 'pyqt', 'pytest-jupyter', 'pytest-mypy-testing', 'pytest-xprocess', 'python', 'pytoolconfig', 'pywin32', 'pywinpty', 'pyyaml', 'pyzmq', 'r-languageserver', 'referencing', 'rfc3339-validator', 'rpds-py', 'ruamel.yaml', 'texlab', 'tornado', 'trio', 'ujson', 'uri-template', 'uvloop', 'watchdog', 'whatthepatch']\n",
      " \n",
      "fqdn\n",
      "    new preds: ['__win', 'aiohttp', 'annotated-types', 'argon2-cffi-bindings', 'astroid', 'backports.zoneinfo', 'bcrypt', 'black', 'brotli', 'chktex', 'comm', 'coverage', 'cryptography', 'debugpy', 'ephemeral-port-reserve', 'exceptiongroup', 'falcon', 'greenlet', 'hatch-fancy-pypi-readme', 'hatch-jupyter-builder', 'hatch-nodejs-version', 'hatch-vcs', 'hatchling', 'importlib_metadata', 'importlib_resources', 'isoduration', 'jsonpointer', 'jsonschema-path', 'jsonschema-specifications', 'jupyter-packaging', 'jupyter_core', 'jupyter_events', 'jupyter_server_terminals', 'lazy-object-proxy', 'm2-binary-packages', 'markupsafe', 'matplotlib', 'mdurl', 'mypy', 'nodejs', 'notebook-shim', 'numpy', 'pandas', 'pandoc', 'pep440', 'psutil', 'psycopg2', 'pydantic-core', 'pynacl', 'pyobjc-framework-cocoa', 'pyproject_hooks', 'pyqt', 'pytest-jupyter', 'pytest-mypy-testing', 'pytest-xprocess', 'python', 'pytoolconfig', 'pywin32', 'pywinpty', 'pyyaml', 'pyzmq', 'r-languageserver', 'referencing', 'rfc3339-validator', 'rpds-py', 'ruamel.yaml', 'texlab', 'tornado', 'trio', 'ujson', 'uri-template', 'uvloop', 'watchdog', 'whatthepatch']\n",
      "    old preds: ['__win', 'aiohttp', 'annotated-types', 'argon2-cffi-bindings', 'astroid', 'backports.zoneinfo', 'bcrypt', 'black', 'brotli', 'chktex', 'comm', 'coverage', 'cryptography', 'debugpy', 'ephemeral-port-reserve', 'exceptiongroup', 'falcon', 'fqdn', 'greenlet', 'hatch-fancy-pypi-readme', 'hatch-jupyter-builder', 'hatch-nodejs-version', 'hatch-vcs', 'hatchling', 'importlib_metadata', 'importlib_resources', 'isoduration', 'jsonpointer', 'jsonschema-path', 'jsonschema-specifications', 'jupyter-packaging', 'jupyter_core', 'jupyter_events', 'jupyter_server_terminals', 'lazy-object-proxy', 'm2-binary-packages', 'markupsafe', 'matplotlib', 'mdurl', 'mypy', 'nodejs', 'notebook-shim', 'numpy', 'pandas', 'pandoc', 'pep440', 'psutil', 'psycopg2', 'pydantic-core', 'pynacl', 'pyobjc-framework-cocoa', 'pyproject_hooks', 'pyqt', 'pytest-jupyter', 'pytest-mypy-testing', 'pytest-xprocess', 'python', 'pytoolconfig', 'pywin32', 'pywinpty', 'pyyaml', 'pyzmq', 'r-languageserver', 'referencing', 'rfc3339-validator', 'rpds-py', 'ruamel.yaml', 'texlab', 'tornado', 'trio', 'ujson', 'uri-template', 'uvloop', 'watchdog', 'whatthepatch']\n",
      " \n",
      "isoduration\n",
      "    new preds: ['__win', 'aiohttp', 'annotated-types', 'argon2-cffi-bindings', 'astroid', 'backports.zoneinfo', 'bcrypt', 'black', 'brotli', 'chktex', 'comm', 'coverage', 'cryptography', 'debugpy', 'ephemeral-port-reserve', 'exceptiongroup', 'falcon', 'greenlet', 'hatch-fancy-pypi-readme', 'hatch-jupyter-builder', 'hatch-nodejs-version', 'hatch-vcs', 'hatchling', 'importlib_metadata', 'importlib_resources', 'jsonpointer', 'jsonschema-path', 'jsonschema-specifications', 'jupyter-packaging', 'jupyter_core', 'jupyter_events', 'jupyter_server_terminals', 'lazy-object-proxy', 'm2-binary-packages', 'markupsafe', 'matplotlib', 'mdurl', 'mypy', 'nodejs', 'notebook-shim', 'numpy', 'pandas', 'pandoc', 'pep440', 'psutil', 'psycopg2', 'pydantic-core', 'pynacl', 'pyobjc-framework-cocoa', 'pyproject_hooks', 'pyqt', 'pytest-jupyter', 'pytest-mypy-testing', 'pytest-xprocess', 'python', 'pytoolconfig', 'pywin32', 'pywinpty', 'pyyaml', 'pyzmq', 'r-languageserver', 'referencing', 'regex', 'rfc3339-validator', 'rpds-py', 'ruamel.yaml', 'simplejson', 'texlab', 'tornado', 'trio', 'tzlocal', 'ujson', 'uri-template', 'uvloop', 'watchdog', 'whatthepatch']\n",
      "    old preds: ['__win', 'aiohttp', 'annotated-types', 'argon2-cffi-bindings', 'astroid', 'backports.zoneinfo', 'bcrypt', 'black', 'brotli', 'chktex', 'comm', 'coverage', 'cryptography', 'debugpy', 'ephemeral-port-reserve', 'exceptiongroup', 'falcon', 'greenlet', 'hatch-fancy-pypi-readme', 'hatch-jupyter-builder', 'hatch-nodejs-version', 'hatch-vcs', 'hatchling', 'importlib_metadata', 'importlib_resources', 'isoduration', 'jsonpointer', 'jsonschema-path', 'jsonschema-specifications', 'jupyter-packaging', 'jupyter_core', 'jupyter_events', 'jupyter_server_terminals', 'lazy-object-proxy', 'm2-binary-packages', 'markupsafe', 'matplotlib', 'mdurl', 'mypy', 'nodejs', 'notebook-shim', 'numpy', 'pandas', 'pandoc', 'pep440', 'psutil', 'psycopg2', 'pydantic-core', 'pynacl', 'pyobjc-framework-cocoa', 'pyproject_hooks', 'pyqt', 'pytest-jupyter', 'pytest-mypy-testing', 'pytest-xprocess', 'python', 'pytoolconfig', 'pywin32', 'pywinpty', 'pyyaml', 'pyzmq', 'r-languageserver', 'referencing', 'rfc3339-validator', 'rpds-py', 'ruamel.yaml', 'texlab', 'tornado', 'trio', 'ujson', 'uri-template', 'uvloop', 'watchdog', 'whatthepatch']\n",
      " \n",
      "rfc3339-validator\n",
      "    new preds: ['__win', 'aiohttp', 'annotated-types', 'argon2-cffi-bindings', 'astroid', 'backports.zoneinfo', 'bcrypt', 'black', 'brotli', 'chktex', 'comm', 'coverage', 'cryptography', 'debugpy', 'ephemeral-port-reserve', 'exceptiongroup', 'falcon', 'greenlet', 'hatch-fancy-pypi-readme', 'hatch-jupyter-builder', 'hatch-nodejs-version', 'hatch-vcs', 'hatchling', 'importlib_metadata', 'importlib_resources', 'jsonpointer', 'jsonschema-path', 'jsonschema-specifications', 'jupyter-packaging', 'jupyter_core', 'jupyter_events', 'jupyter_server_terminals', 'lazy-object-proxy', 'm2-binary-packages', 'markupsafe', 'matplotlib', 'mdurl', 'mypy', 'nodejs', 'notebook-shim', 'numpy', 'pandas', 'pandoc', 'pep440', 'psutil', 'psycopg2', 'pydantic-core', 'pynacl', 'pyobjc-framework-cocoa', 'pyproject_hooks', 'pyqt', 'pytest-jupyter', 'pytest-mypy-testing', 'pytest-xprocess', 'python', 'pytoolconfig', 'pywin32', 'pywinpty', 'pyyaml', 'pyzmq', 'r-languageserver', 'referencing', 'regex', 'rpds-py', 'ruamel.yaml', 'simplejson', 'texlab', 'tornado', 'trio', 'tzlocal', 'ujson', 'uri-template', 'uvloop', 'watchdog', 'whatthepatch']\n",
      "    old preds: ['__win', 'aiohttp', 'annotated-types', 'argon2-cffi-bindings', 'astroid', 'backports.zoneinfo', 'bcrypt', 'black', 'brotli', 'chktex', 'comm', 'coverage', 'cryptography', 'debugpy', 'ephemeral-port-reserve', 'exceptiongroup', 'falcon', 'greenlet', 'hatch-fancy-pypi-readme', 'hatch-jupyter-builder', 'hatch-nodejs-version', 'hatch-vcs', 'hatchling', 'importlib_metadata', 'importlib_resources', 'jsonpointer', 'jsonschema-path', 'jsonschema-specifications', 'jupyter-packaging', 'jupyter_core', 'jupyter_events', 'jupyter_server_terminals', 'lazy-object-proxy', 'm2-binary-packages', 'markupsafe', 'matplotlib', 'mdurl', 'mypy', 'nodejs', 'notebook-shim', 'numpy', 'pandas', 'pandoc', 'pep440', 'psutil', 'psycopg2', 'pydantic-core', 'pynacl', 'pyobjc-framework-cocoa', 'pyproject_hooks', 'pyqt', 'pytest-jupyter', 'pytest-mypy-testing', 'pytest-xprocess', 'python', 'pytoolconfig', 'pywin32', 'pywinpty', 'pyyaml', 'pyzmq', 'r-languageserver', 'referencing', 'regex', 'rfc3339-validator', 'rpds-py', 'ruamel.yaml', 'simplejson', 'texlab', 'tornado', 'trio', 'tzlocal', 'ujson', 'uri-template', 'uvloop', 'watchdog', 'whatthepatch']\n",
      " \n",
      "uri-template\n",
      "    new preds: ['__win', 'aiohttp', 'annotated-types', 'argon2-cffi-bindings', 'astroid', 'backports.zoneinfo', 'bcrypt', 'black', 'brotli', 'chktex', 'comm', 'coverage', 'cryptography', 'debugpy', 'ephemeral-port-reserve', 'exceptiongroup', 'falcon', 'greenlet', 'hatch-fancy-pypi-readme', 'hatch-jupyter-builder', 'hatch-nodejs-version', 'hatch-vcs', 'hatchling', 'importlib_metadata', 'importlib_resources', 'jsonpointer', 'jsonschema-path', 'jsonschema-specifications', 'jupyter-packaging', 'jupyter_core', 'jupyter_events', 'jupyter_server_terminals', 'lazy-object-proxy', 'm2-binary-packages', 'markupsafe', 'matplotlib', 'mdurl', 'mypy', 'nodejs', 'notebook-shim', 'numpy', 'pandas', 'pandoc', 'pep440', 'psutil', 'psycopg2', 'pydantic-core', 'pynacl', 'pyobjc-framework-cocoa', 'pyproject_hooks', 'pyqt', 'pytest-jupyter', 'pytest-mypy-testing', 'pytest-xprocess', 'python', 'pytoolconfig', 'pywin32', 'pywinpty', 'pyyaml', 'pyzmq', 'r-languageserver', 'referencing', 'regex', 'rpds-py', 'ruamel.yaml', 'simplejson', 'texlab', 'tornado', 'trio', 'tzlocal', 'ujson', 'uvloop', 'watchdog', 'whatthepatch']\n",
      "    old preds: ['__win', 'aiohttp', 'annotated-types', 'argon2-cffi-bindings', 'astroid', 'backports.zoneinfo', 'bcrypt', 'black', 'brotli', 'chktex', 'comm', 'coverage', 'cryptography', 'debugpy', 'ephemeral-port-reserve', 'exceptiongroup', 'falcon', 'greenlet', 'hatch-fancy-pypi-readme', 'hatch-jupyter-builder', 'hatch-nodejs-version', 'hatch-vcs', 'hatchling', 'importlib_metadata', 'importlib_resources', 'jsonpointer', 'jsonschema-path', 'jsonschema-specifications', 'jupyter-packaging', 'jupyter_core', 'jupyter_events', 'jupyter_server_terminals', 'lazy-object-proxy', 'm2-binary-packages', 'markupsafe', 'matplotlib', 'mdurl', 'mypy', 'nodejs', 'notebook-shim', 'numpy', 'pandas', 'pandoc', 'pep440', 'psutil', 'psycopg2', 'pydantic-core', 'pynacl', 'pyobjc-framework-cocoa', 'pyproject_hooks', 'pyqt', 'pytest-jupyter', 'pytest-mypy-testing', 'pytest-xprocess', 'python', 'pytoolconfig', 'pywin32', 'pywinpty', 'pyyaml', 'pyzmq', 'r-languageserver', 'referencing', 'regex', 'rpds-py', 'ruamel.yaml', 'simplejson', 'texlab', 'tornado', 'trio', 'tzlocal', 'ujson', 'uri-template', 'uvloop', 'watchdog', 'whatthepatch']\n",
      " \n",
      "mdurl\n",
      "    new preds: ['__win', 'aiohttp', 'annotated-types', 'argon2-cffi-bindings', 'astroid', 'backports.zoneinfo', 'bcrypt', 'black', 'brotli', 'chktex', 'comm', 'coverage', 'cryptography', 'debugpy', 'ephemeral-port-reserve', 'exceptiongroup', 'falcon', 'greenlet', 'hatch-fancy-pypi-readme', 'hatch-jupyter-builder', 'hatch-nodejs-version', 'hatch-vcs', 'hatchling', 'importlib_metadata', 'importlib_resources', 'jsonpointer', 'jsonschema-path', 'jsonschema-specifications', 'jupyter-packaging', 'jupyter_core', 'jupyter_events', 'jupyter_server_terminals', 'lazy-object-proxy', 'm2-binary-packages', 'markupsafe', 'matplotlib', 'mypy', 'nodejs', 'notebook-shim', 'numpy', 'pandas', 'pandoc', 'pep440', 'psutil', 'psycopg2', 'pydantic-core', 'pynacl', 'pyobjc-framework-cocoa', 'pyproject_hooks', 'pyqt', 'pytest-jupyter', 'pytest-mypy-testing', 'pytest-xprocess', 'python', 'pytoolconfig', 'pywin32', 'pywinpty', 'pyyaml', 'pyzmq', 'r-languageserver', 'referencing', 'regex', 'rpds-py', 'ruamel.yaml', 'simplejson', 'texlab', 'tornado', 'trio', 'tzlocal', 'ujson', 'uvloop', 'watchdog', 'whatthepatch']\n",
      "    old preds: ['__win', 'aiohttp', 'annotated-types', 'argon2-cffi-bindings', 'astroid', 'backports.zoneinfo', 'bcrypt', 'black', 'brotli', 'chktex', 'comm', 'coverage', 'cryptography', 'debugpy', 'ephemeral-port-reserve', 'exceptiongroup', 'falcon', 'greenlet', 'hatch-fancy-pypi-readme', 'hatch-jupyter-builder', 'hatch-nodejs-version', 'hatch-vcs', 'hatchling', 'importlib_metadata', 'importlib_resources', 'jsonpointer', 'jsonschema-path', 'jsonschema-specifications', 'jupyter-packaging', 'jupyter_core', 'jupyter_events', 'jupyter_server_terminals', 'lazy-object-proxy', 'm2-binary-packages', 'markupsafe', 'matplotlib', 'mdurl', 'mypy', 'nodejs', 'notebook-shim', 'numpy', 'pandas', 'pandoc', 'pep440', 'psutil', 'psycopg2', 'pydantic-core', 'pynacl', 'pyobjc-framework-cocoa', 'pyproject_hooks', 'pyqt', 'pytest-jupyter', 'pytest-mypy-testing', 'pytest-xprocess', 'python', 'pytoolconfig', 'pywin32', 'pywinpty', 'pyyaml', 'pyzmq', 'r-languageserver', 'referencing', 'regex', 'rpds-py', 'ruamel.yaml', 'simplejson', 'texlab', 'tornado', 'trio', 'tzlocal', 'ujson', 'uvloop', 'watchdog', 'whatthepatch']\n",
      " \n",
      "pytest-xprocess\n",
      "    new preds: ['__win', 'aiohttp', 'annotated-types', 'argon2-cffi-bindings', 'astroid', 'backports.zoneinfo', 'bcrypt', 'black', 'brotli', 'chktex', 'comm', 'coverage', 'cryptography', 'debugpy', 'ephemeral-port-reserve', 'exceptiongroup', 'falcon', 'greenlet', 'hatch-fancy-pypi-readme', 'hatch-jupyter-builder', 'hatch-nodejs-version', 'hatch-vcs', 'hatchling', 'importlib_metadata', 'importlib_resources', 'jsonpointer', 'jsonschema-path', 'jsonschema-specifications', 'jupyter-packaging', 'jupyter_core', 'jupyter_events', 'jupyter_server_terminals', 'lazy-object-proxy', 'm2-binary-packages', 'markupsafe', 'matplotlib', 'mypy', 'nodejs', 'notebook-shim', 'numpy', 'pandas', 'pandoc', 'pep440', 'psutil', 'psycopg2', 'pydantic-core', 'pynacl', 'pyobjc-framework-cocoa', 'pyproject_hooks', 'pyqt', 'pytest-jupyter', 'pytest-mypy-testing', 'python', 'pytoolconfig', 'pywin32', 'pywinpty', 'pyyaml', 'pyzmq', 'r-languageserver', 'referencing', 'regex', 'rpds-py', 'ruamel.yaml', 'simplejson', 'texlab', 'tornado', 'trio', 'tzlocal', 'ujson', 'uvloop', 'watchdog', 'whatthepatch']\n",
      "    old preds: ['__win', 'aiohttp', 'annotated-types', 'argon2-cffi-bindings', 'astroid', 'backports.zoneinfo', 'bcrypt', 'black', 'brotli', 'chktex', 'comm', 'coverage', 'cryptography', 'debugpy', 'ephemeral-port-reserve', 'exceptiongroup', 'falcon', 'greenlet', 'hatch-fancy-pypi-readme', 'hatch-jupyter-builder', 'hatch-nodejs-version', 'hatch-vcs', 'hatchling', 'importlib_metadata', 'importlib_resources', 'jsonpointer', 'jsonschema-path', 'jsonschema-specifications', 'jupyter-packaging', 'jupyter_core', 'jupyter_events', 'jupyter_server_terminals', 'lazy-object-proxy', 'm2-binary-packages', 'markupsafe', 'matplotlib', 'mypy', 'nodejs', 'notebook-shim', 'numpy', 'pandas', 'pandoc', 'pep440', 'psutil', 'psycopg2', 'pydantic-core', 'pynacl', 'pyobjc-framework-cocoa', 'pyproject_hooks', 'pyqt', 'pytest-jupyter', 'pytest-mypy-testing', 'pytest-xprocess', 'python', 'pytoolconfig', 'pywin32', 'pywinpty', 'pyyaml', 'pyzmq', 'r-languageserver', 'referencing', 'regex', 'rpds-py', 'ruamel.yaml', 'simplejson', 'texlab', 'tornado', 'trio', 'tzlocal', 'ujson', 'uvloop', 'watchdog', 'whatthepatch']\n",
      " \n",
      "hatchling\n",
      "    new preds: ['__win', 'aiohttp', 'annotated-types', 'argon2-cffi-bindings', 'astroid', 'backports.zoneinfo', 'bcrypt', 'black', 'brotli', 'chktex', 'comm', 'coverage', 'cryptography', 'debugpy', 'ephemeral-port-reserve', 'exceptiongroup', 'falcon', 'greenlet', 'hatch-fancy-pypi-readme', 'hatch-jupyter-builder', 'hatch-nodejs-version', 'hatch-vcs', 'importlib_metadata', 'importlib_resources', 'jsonpointer', 'jsonschema-path', 'jsonschema-specifications', 'jupyter-packaging', 'jupyter_core', 'jupyter_events', 'jupyter_server_terminals', 'lazy-object-proxy', 'm2-binary-packages', 'markupsafe', 'matplotlib', 'mypy', 'nodejs', 'notebook-shim', 'numpy', 'pandas', 'pandoc', 'pep440', 'psutil', 'psycopg2', 'pydantic-core', 'pynacl', 'pyobjc-framework-cocoa', 'pyproject_hooks', 'pyqt', 'pytest-jupyter', 'pytest-mypy-testing', 'python', 'pytoolconfig', 'pywin32', 'pywinpty', 'pyyaml', 'pyzmq', 'r-languageserver', 'referencing', 'regex', 'rpds-py', 'ruamel.yaml', 'simplejson', 'texlab', 'tornado', 'trio', 'trove-classifiers', 'tzlocal', 'ujson', 'uvloop', 'watchdog', 'whatthepatch']\n",
      "    old preds: ['__win', 'aiohttp', 'annotated-types', 'argon2-cffi-bindings', 'astroid', 'backports.zoneinfo', 'bcrypt', 'black', 'brotli', 'chktex', 'comm', 'coverage', 'cryptography', 'debugpy', 'ephemeral-port-reserve', 'exceptiongroup', 'falcon', 'greenlet', 'hatch-fancy-pypi-readme', 'hatch-jupyter-builder', 'hatch-nodejs-version', 'hatch-vcs', 'hatchling', 'importlib_metadata', 'importlib_resources', 'jsonpointer', 'jsonschema-path', 'jsonschema-specifications', 'jupyter-packaging', 'jupyter_core', 'jupyter_events', 'jupyter_server_terminals', 'lazy-object-proxy', 'm2-binary-packages', 'markupsafe', 'matplotlib', 'mypy', 'nodejs', 'notebook-shim', 'numpy', 'pandas', 'pandoc', 'pep440', 'psutil', 'psycopg2', 'pydantic-core', 'pynacl', 'pyobjc-framework-cocoa', 'pyproject_hooks', 'pyqt', 'pytest-jupyter', 'pytest-mypy-testing', 'python', 'pytoolconfig', 'pywin32', 'pywinpty', 'pyyaml', 'pyzmq', 'r-languageserver', 'referencing', 'regex', 'rpds-py', 'ruamel.yaml', 'simplejson', 'texlab', 'tornado', 'trio', 'tzlocal', 'ujson', 'uvloop', 'watchdog', 'whatthepatch']\n",
      " \n",
      "notebook-shim\n",
      "    new preds: ['__win', 'aiohttp', 'annotated-types', 'argon2-cffi-bindings', 'astroid', 'backports.zoneinfo', 'bcrypt', 'black', 'brotli', 'chktex', 'comm', 'coverage', 'cryptography', 'debugpy', 'ephemeral-port-reserve', 'exceptiongroup', 'falcon', 'greenlet', 'hatch-fancy-pypi-readme', 'hatch-jupyter-builder', 'hatch-nodejs-version', 'hatch-vcs', 'importlib_metadata', 'importlib_resources', 'jsonpointer', 'jsonschema-path', 'jsonschema-specifications', 'jupyter-packaging', 'jupyter_core', 'jupyter_events', 'jupyter_server_terminals', 'lazy-object-proxy', 'm2-binary-packages', 'markupsafe', 'matplotlib', 'mypy', 'nodejs', 'numpy', 'pandas', 'pandoc', 'pep440', 'psutil', 'psycopg2', 'pydantic-core', 'pynacl', 'pyobjc-framework-cocoa', 'pyproject_hooks', 'pyqt', 'pytest-jupyter', 'pytest-mypy-testing', 'python', 'pytoolconfig', 'pywin32', 'pywinpty', 'pyyaml', 'pyzmq', 'r-languageserver', 'referencing', 'regex', 'rpds-py', 'ruamel.yaml', 'simplejson', 'texlab', 'tornado', 'trio', 'trove-classifiers', 'tzlocal', 'ujson', 'uvloop', 'watchdog', 'whatthepatch']\n",
      "    old preds: ['__win', 'aiohttp', 'annotated-types', 'argon2-cffi-bindings', 'astroid', 'backports.zoneinfo', 'bcrypt', 'black', 'brotli', 'chktex', 'comm', 'coverage', 'cryptography', 'debugpy', 'ephemeral-port-reserve', 'exceptiongroup', 'falcon', 'greenlet', 'hatch-fancy-pypi-readme', 'hatch-jupyter-builder', 'hatch-nodejs-version', 'hatch-vcs', 'importlib_metadata', 'importlib_resources', 'jsonpointer', 'jsonschema-path', 'jsonschema-specifications', 'jupyter-packaging', 'jupyter_core', 'jupyter_events', 'jupyter_server_terminals', 'lazy-object-proxy', 'm2-binary-packages', 'markupsafe', 'matplotlib', 'mypy', 'nodejs', 'notebook-shim', 'numpy', 'pandas', 'pandoc', 'pep440', 'psutil', 'psycopg2', 'pydantic-core', 'pynacl', 'pyobjc-framework-cocoa', 'pyproject_hooks', 'pyqt', 'pytest-jupyter', 'pytest-mypy-testing', 'python', 'pytoolconfig', 'pywin32', 'pywinpty', 'pyyaml', 'pyzmq', 'r-languageserver', 'referencing', 'regex', 'rpds-py', 'ruamel.yaml', 'simplejson', 'texlab', 'tornado', 'trio', 'trove-classifiers', 'tzlocal', 'ujson', 'uvloop', 'watchdog', 'whatthepatch']\n",
      " \n",
      "ephemeral-port-reserve\n",
      "    new preds: ['__win', 'aiohttp', 'annotated-types', 'argon2-cffi-bindings', 'astroid', 'backports.zoneinfo', 'bcrypt', 'black', 'brotli', 'chktex', 'comm', 'coverage', 'cryptography', 'debugpy', 'exceptiongroup', 'falcon', 'greenlet', 'hatch-fancy-pypi-readme', 'hatch-jupyter-builder', 'hatch-nodejs-version', 'hatch-vcs', 'importlib_metadata', 'importlib_resources', 'jsonpointer', 'jsonschema-path', 'jsonschema-specifications', 'jupyter-packaging', 'jupyter_core', 'jupyter_events', 'jupyter_server_terminals', 'lazy-object-proxy', 'm2-binary-packages', 'markupsafe', 'matplotlib', 'mypy', 'nodejs', 'numpy', 'pandas', 'pandoc', 'pep440', 'psutil', 'psycopg2', 'pydantic-core', 'pynacl', 'pyobjc-framework-cocoa', 'pyproject_hooks', 'pyqt', 'pytest-jupyter', 'pytest-mypy-testing', 'python', 'pytoolconfig', 'pywin32', 'pywinpty', 'pyyaml', 'pyzmq', 'r-languageserver', 'referencing', 'regex', 'rpds-py', 'ruamel.yaml', 'simplejson', 'texlab', 'tornado', 'trio', 'trove-classifiers', 'tzlocal', 'ujson', 'uvloop', 'watchdog', 'whatthepatch']\n",
      "    old preds: ['__win', 'aiohttp', 'annotated-types', 'argon2-cffi-bindings', 'astroid', 'backports.zoneinfo', 'bcrypt', 'black', 'brotli', 'chktex', 'comm', 'coverage', 'cryptography', 'debugpy', 'ephemeral-port-reserve', 'exceptiongroup', 'falcon', 'greenlet', 'hatch-fancy-pypi-readme', 'hatch-jupyter-builder', 'hatch-nodejs-version', 'hatch-vcs', 'importlib_metadata', 'importlib_resources', 'jsonpointer', 'jsonschema-path', 'jsonschema-specifications', 'jupyter-packaging', 'jupyter_core', 'jupyter_events', 'jupyter_server_terminals', 'lazy-object-proxy', 'm2-binary-packages', 'markupsafe', 'matplotlib', 'mypy', 'nodejs', 'numpy', 'pandas', 'pandoc', 'pep440', 'psutil', 'psycopg2', 'pydantic-core', 'pynacl', 'pyobjc-framework-cocoa', 'pyproject_hooks', 'pyqt', 'pytest-jupyter', 'pytest-mypy-testing', 'python', 'pytoolconfig', 'pywin32', 'pywinpty', 'pyyaml', 'pyzmq', 'r-languageserver', 'referencing', 'regex', 'rpds-py', 'ruamel.yaml', 'simplejson', 'texlab', 'tornado', 'trio', 'trove-classifiers', 'tzlocal', 'ujson', 'uvloop', 'watchdog', 'whatthepatch']\n",
      " \n",
      "exceptiongroup\n",
      "    new preds: ['__win', 'aiohttp', 'annotated-types', 'argon2-cffi-bindings', 'astroid', 'backports.zoneinfo', 'bcrypt', 'black', 'brotli', 'chktex', 'comm', 'coverage', 'cryptography', 'debugpy', 'falcon', 'greenlet', 'hatch-fancy-pypi-readme', 'hatch-jupyter-builder', 'hatch-nodejs-version', 'hatch-vcs', 'importlib_metadata', 'importlib_resources', 'jsonpointer', 'jsonschema-path', 'jsonschema-specifications', 'jupyter-packaging', 'jupyter_core', 'jupyter_events', 'jupyter_server_terminals', 'lazy-object-proxy', 'm2-binary-packages', 'markupsafe', 'matplotlib', 'mypy', 'nodejs', 'numpy', 'pandas', 'pandoc', 'pep440', 'psutil', 'psycopg2', 'pydantic-core', 'pynacl', 'pyobjc-framework-cocoa', 'pyproject_hooks', 'pyqt', 'pytest-jupyter', 'pytest-mypy-testing', 'python', 'pytoolconfig', 'pywin32', 'pywinpty', 'pyyaml', 'pyzmq', 'r-languageserver', 'referencing', 'regex', 'rpds-py', 'ruamel.yaml', 'simplejson', 'texlab', 'tornado', 'trio', 'trove-classifiers', 'tzlocal', 'ujson', 'uvloop', 'watchdog', 'whatthepatch']\n",
      "    old preds: ['__win', 'aiohttp', 'annotated-types', 'argon2-cffi-bindings', 'astroid', 'backports.zoneinfo', 'bcrypt', 'black', 'brotli', 'chktex', 'comm', 'coverage', 'cryptography', 'debugpy', 'exceptiongroup', 'falcon', 'greenlet', 'hatch-fancy-pypi-readme', 'hatch-jupyter-builder', 'hatch-nodejs-version', 'hatch-vcs', 'importlib_metadata', 'importlib_resources', 'jsonpointer', 'jsonschema-path', 'jsonschema-specifications', 'jupyter-packaging', 'jupyter_core', 'jupyter_events', 'jupyter_server_terminals', 'lazy-object-proxy', 'm2-binary-packages', 'markupsafe', 'matplotlib', 'mypy', 'nodejs', 'numpy', 'pandas', 'pandoc', 'pep440', 'psutil', 'psycopg2', 'pydantic-core', 'pynacl', 'pyobjc-framework-cocoa', 'pyproject_hooks', 'pyqt', 'pytest-jupyter', 'pytest-mypy-testing', 'python', 'pytoolconfig', 'pywin32', 'pywinpty', 'pyyaml', 'pyzmq', 'r-languageserver', 'referencing', 'regex', 'rpds-py', 'ruamel.yaml', 'simplejson', 'texlab', 'tornado', 'trio', 'trove-classifiers', 'tzlocal', 'ujson', 'uvloop', 'watchdog', 'whatthepatch']\n",
      " \n",
      "__win\n",
      "    new preds: ['aiohttp', 'annotated-types', 'argon2-cffi-bindings', 'astroid', 'backports.zoneinfo', 'bcrypt', 'black', 'brotli', 'chktex', 'comm', 'coverage', 'cryptography', 'debugpy', 'falcon', 'greenlet', 'hatch-fancy-pypi-readme', 'hatch-jupyter-builder', 'hatch-nodejs-version', 'hatch-vcs', 'importlib_metadata', 'importlib_resources', 'jsonpointer', 'jsonschema-path', 'jsonschema-specifications', 'jupyter-packaging', 'jupyter_core', 'jupyter_events', 'jupyter_server_terminals', 'lazy-object-proxy', 'm2-binary-packages', 'markupsafe', 'matplotlib', 'mypy', 'nodejs', 'numpy', 'pandas', 'pandoc', 'pep440', 'psutil', 'psycopg2', 'pydantic-core', 'pynacl', 'pyobjc-framework-cocoa', 'pyproject_hooks', 'pyqt', 'pytest-jupyter', 'pytest-mypy-testing', 'python', 'pytoolconfig', 'pywin32', 'pywinpty', 'pyyaml', 'pyzmq', 'r-languageserver', 'referencing', 'regex', 'rpds-py', 'ruamel.yaml', 'simplejson', 'texlab', 'tornado', 'trio', 'trove-classifiers', 'tzlocal', 'ujson', 'uvloop', 'watchdog', 'whatthepatch']\n",
      "    old preds: ['__win', 'aiohttp', 'annotated-types', 'argon2-cffi-bindings', 'astroid', 'backports.zoneinfo', 'bcrypt', 'black', 'brotli', 'chktex', 'comm', 'coverage', 'cryptography', 'debugpy', 'falcon', 'greenlet', 'hatch-fancy-pypi-readme', 'hatch-jupyter-builder', 'hatch-nodejs-version', 'hatch-vcs', 'importlib_metadata', 'importlib_resources', 'jsonpointer', 'jsonschema-path', 'jsonschema-specifications', 'jupyter-packaging', 'jupyter_core', 'jupyter_events', 'jupyter_server_terminals', 'lazy-object-proxy', 'm2-binary-packages', 'markupsafe', 'matplotlib', 'mypy', 'nodejs', 'numpy', 'pandas', 'pandoc', 'pep440', 'psutil', 'psycopg2', 'pydantic-core', 'pynacl', 'pyobjc-framework-cocoa', 'pyproject_hooks', 'pyqt', 'pytest-jupyter', 'pytest-mypy-testing', 'python', 'pytoolconfig', 'pywin32', 'pywinpty', 'pyyaml', 'pyzmq', 'r-languageserver', 'referencing', 'regex', 'rpds-py', 'ruamel.yaml', 'simplejson', 'texlab', 'tornado', 'trio', 'trove-classifiers', 'tzlocal', 'ujson', 'uvloop', 'watchdog', 'whatthepatch']\n",
      " \n",
      "hatch-jupyter-builder\n",
      "    new preds: ['aiohttp', 'annotated-types', 'argon2-cffi-bindings', 'astroid', 'backports.zoneinfo', 'bcrypt', 'black', 'brotli', 'chktex', 'comm', 'coverage', 'cryptography', 'debugpy', 'falcon', 'greenlet', 'hatch-fancy-pypi-readme', 'hatch-nodejs-version', 'hatch-vcs', 'importlib_metadata', 'importlib_resources', 'jsonpointer', 'jsonschema-path', 'jsonschema-specifications', 'jupyter-packaging', 'jupyter_core', 'jupyter_events', 'jupyter_server_terminals', 'lazy-object-proxy', 'm2-binary-packages', 'markupsafe', 'matplotlib', 'mypy', 'nodejs', 'numpy', 'pandas', 'pandoc', 'pep440', 'psutil', 'psycopg2', 'pydantic-core', 'pynacl', 'pyobjc-framework-cocoa', 'pyproject_hooks', 'pyqt', 'pytest-jupyter', 'pytest-mypy-testing', 'python', 'pytoolconfig', 'pywin32', 'pywinpty', 'pyyaml', 'pyzmq', 'r-languageserver', 'referencing', 'regex', 'rpds-py', 'ruamel.yaml', 'simplejson', 'texlab', 'tornado', 'trio', 'trove-classifiers', 'tzlocal', 'ujson', 'uvloop', 'watchdog', 'whatthepatch']\n",
      "    old preds: ['aiohttp', 'annotated-types', 'argon2-cffi-bindings', 'astroid', 'backports.zoneinfo', 'bcrypt', 'black', 'brotli', 'chktex', 'comm', 'coverage', 'cryptography', 'debugpy', 'falcon', 'greenlet', 'hatch-fancy-pypi-readme', 'hatch-jupyter-builder', 'hatch-nodejs-version', 'hatch-vcs', 'importlib_metadata', 'importlib_resources', 'jsonpointer', 'jsonschema-path', 'jsonschema-specifications', 'jupyter-packaging', 'jupyter_core', 'jupyter_events', 'jupyter_server_terminals', 'lazy-object-proxy', 'm2-binary-packages', 'markupsafe', 'matplotlib', 'mypy', 'nodejs', 'numpy', 'pandas', 'pandoc', 'pep440', 'psutil', 'psycopg2', 'pydantic-core', 'pynacl', 'pyobjc-framework-cocoa', 'pyproject_hooks', 'pyqt', 'pytest-jupyter', 'pytest-mypy-testing', 'python', 'pytoolconfig', 'pywin32', 'pywinpty', 'pyyaml', 'pyzmq', 'r-languageserver', 'referencing', 'regex', 'rpds-py', 'ruamel.yaml', 'simplejson', 'texlab', 'tornado', 'trio', 'trove-classifiers', 'tzlocal', 'ujson', 'uvloop', 'watchdog', 'whatthepatch']\n",
      " \n",
      "jupyter_events\n",
      "    new preds: ['aiohttp', 'annotated-types', 'argon2-cffi-bindings', 'astroid', 'backports.zoneinfo', 'bcrypt', 'black', 'brotli', 'chktex', 'comm', 'coverage', 'cryptography', 'debugpy', 'falcon', 'greenlet', 'hatch-fancy-pypi-readme', 'hatch-nodejs-version', 'hatch-vcs', 'importlib_metadata', 'importlib_resources', 'jsonpointer', 'jsonschema-path', 'jsonschema-specifications', 'jupyter-packaging', 'jupyter_core', 'jupyter_server_terminals', 'lazy-object-proxy', 'm2-binary-packages', 'markupsafe', 'matplotlib', 'mypy', 'nodejs', 'numpy', 'pandas', 'pandoc', 'pep440', 'psutil', 'psycopg2', 'pydantic-core', 'pynacl', 'pyobjc-framework-cocoa', 'pyproject_hooks', 'pyqt', 'pytest-jupyter', 'pytest-mypy-testing', 'python', 'pytoolconfig', 'pywin32', 'pywinpty', 'pyyaml', 'pyzmq', 'r-languageserver', 'referencing', 'regex', 'rpds-py', 'ruamel.yaml', 'simplejson', 'texlab', 'tornado', 'trio', 'trove-classifiers', 'tzlocal', 'ujson', 'uvloop', 'watchdog', 'whatthepatch']\n",
      "    old preds: ['aiohttp', 'annotated-types', 'argon2-cffi-bindings', 'astroid', 'backports.zoneinfo', 'bcrypt', 'black', 'brotli', 'chktex', 'comm', 'coverage', 'cryptography', 'debugpy', 'falcon', 'greenlet', 'hatch-fancy-pypi-readme', 'hatch-nodejs-version', 'hatch-vcs', 'importlib_metadata', 'importlib_resources', 'jsonpointer', 'jsonschema-path', 'jsonschema-specifications', 'jupyter-packaging', 'jupyter_core', 'jupyter_events', 'jupyter_server_terminals', 'lazy-object-proxy', 'm2-binary-packages', 'markupsafe', 'matplotlib', 'mypy', 'nodejs', 'numpy', 'pandas', 'pandoc', 'pep440', 'psutil', 'psycopg2', 'pydantic-core', 'pynacl', 'pyobjc-framework-cocoa', 'pyproject_hooks', 'pyqt', 'pytest-jupyter', 'pytest-mypy-testing', 'python', 'pytoolconfig', 'pywin32', 'pywinpty', 'pyyaml', 'pyzmq', 'r-languageserver', 'referencing', 'regex', 'rpds-py', 'ruamel.yaml', 'simplejson', 'texlab', 'tornado', 'trio', 'trove-classifiers', 'tzlocal', 'ujson', 'uvloop', 'watchdog', 'whatthepatch']\n",
      " \n",
      "hatch-vcs\n",
      "    new preds: ['aiohttp', 'annotated-types', 'argon2-cffi-bindings', 'astroid', 'backports.zoneinfo', 'bcrypt', 'black', 'brotli', 'chktex', 'comm', 'coverage', 'cryptography', 'debugpy', 'falcon', 'greenlet', 'hatch-fancy-pypi-readme', 'hatch-nodejs-version', 'importlib_metadata', 'importlib_resources', 'jsonpointer', 'jsonschema-path', 'jsonschema-specifications', 'jupyter-packaging', 'jupyter_core', 'jupyter_server_terminals', 'lazy-object-proxy', 'm2-binary-packages', 'markupsafe', 'matplotlib', 'mypy', 'nodejs', 'numpy', 'pandas', 'pandoc', 'pep440', 'psutil', 'psycopg2', 'pydantic-core', 'pynacl', 'pyobjc-framework-cocoa', 'pyproject_hooks', 'pyqt', 'pytest-jupyter', 'pytest-mypy-testing', 'python', 'pytoolconfig', 'pywin32', 'pywinpty', 'pyyaml', 'pyzmq', 'r-languageserver', 'referencing', 'regex', 'rpds-py', 'ruamel.yaml', 'simplejson', 'texlab', 'tornado', 'trio', 'trove-classifiers', 'tzlocal', 'ujson', 'uvloop', 'watchdog', 'whatthepatch']\n",
      "    old preds: ['aiohttp', 'annotated-types', 'argon2-cffi-bindings', 'astroid', 'backports.zoneinfo', 'bcrypt', 'black', 'brotli', 'chktex', 'comm', 'coverage', 'cryptography', 'debugpy', 'falcon', 'greenlet', 'hatch-fancy-pypi-readme', 'hatch-nodejs-version', 'hatch-vcs', 'importlib_metadata', 'importlib_resources', 'jsonpointer', 'jsonschema-path', 'jsonschema-specifications', 'jupyter-packaging', 'jupyter_core', 'jupyter_server_terminals', 'lazy-object-proxy', 'm2-binary-packages', 'markupsafe', 'matplotlib', 'mypy', 'nodejs', 'numpy', 'pandas', 'pandoc', 'pep440', 'psutil', 'psycopg2', 'pydantic-core', 'pynacl', 'pyobjc-framework-cocoa', 'pyproject_hooks', 'pyqt', 'pytest-jupyter', 'pytest-mypy-testing', 'python', 'pytoolconfig', 'pywin32', 'pywinpty', 'pyyaml', 'pyzmq', 'r-languageserver', 'referencing', 'regex', 'rpds-py', 'ruamel.yaml', 'simplejson', 'texlab', 'tornado', 'trio', 'trove-classifiers', 'tzlocal', 'ujson', 'uvloop', 'watchdog', 'whatthepatch']\n",
      " \n",
      "pytoolconfig\n",
      "    new preds: ['aiohttp', 'annotated-types', 'argon2-cffi-bindings', 'astroid', 'backports.zoneinfo', 'bcrypt', 'black', 'brotli', 'chktex', 'comm', 'coverage', 'cryptography', 'debugpy', 'falcon', 'greenlet', 'hatch-fancy-pypi-readme', 'hatch-nodejs-version', 'importlib_metadata', 'importlib_resources', 'jsonpointer', 'jsonschema-path', 'jsonschema-specifications', 'jupyter-packaging', 'jupyter_core', 'jupyter_server_terminals', 'lazy-object-proxy', 'm2-binary-packages', 'markupsafe', 'matplotlib', 'mypy', 'nodejs', 'numpy', 'pandas', 'pandoc', 'pdm', 'pep440', 'psutil', 'psycopg2', 'pydantic-core', 'pynacl', 'pyobjc-framework-cocoa', 'pyproject_hooks', 'pyqt', 'pytest-jupyter', 'pytest-mypy-testing', 'python', 'pywin32', 'pywinpty', 'pyyaml', 'pyzmq', 'r-languageserver', 'referencing', 'regex', 'rpds-py', 'ruamel.yaml', 'simplejson', 'texlab', 'tornado', 'trio', 'trove-classifiers', 'tzlocal', 'ujson', 'uvloop', 'watchdog', 'whatthepatch']\n",
      "    old preds: ['aiohttp', 'annotated-types', 'argon2-cffi-bindings', 'astroid', 'backports.zoneinfo', 'bcrypt', 'black', 'brotli', 'chktex', 'comm', 'coverage', 'cryptography', 'debugpy', 'falcon', 'greenlet', 'hatch-fancy-pypi-readme', 'hatch-nodejs-version', 'importlib_metadata', 'importlib_resources', 'jsonpointer', 'jsonschema-path', 'jsonschema-specifications', 'jupyter-packaging', 'jupyter_core', 'jupyter_server_terminals', 'lazy-object-proxy', 'm2-binary-packages', 'markupsafe', 'matplotlib', 'mypy', 'nodejs', 'numpy', 'pandas', 'pandoc', 'pep440', 'psutil', 'psycopg2', 'pydantic-core', 'pynacl', 'pyobjc-framework-cocoa', 'pyproject_hooks', 'pyqt', 'pytest-jupyter', 'pytest-mypy-testing', 'python', 'pytoolconfig', 'pywin32', 'pywinpty', 'pyyaml', 'pyzmq', 'r-languageserver', 'referencing', 'regex', 'rpds-py', 'ruamel.yaml', 'simplejson', 'texlab', 'tornado', 'trio', 'trove-classifiers', 'tzlocal', 'ujson', 'uvloop', 'watchdog', 'whatthepatch']\n",
      " \n",
      "whatthepatch\n",
      "    new preds: ['aiohttp', 'annotated-types', 'argon2-cffi-bindings', 'astroid', 'backports.zoneinfo', 'bcrypt', 'black', 'brotli', 'chktex', 'comm', 'coverage', 'cryptography', 'debugpy', 'falcon', 'greenlet', 'hatch-fancy-pypi-readme', 'hatch-nodejs-version', 'importlib_metadata', 'importlib_resources', 'jsonpointer', 'jsonschema-path', 'jsonschema-specifications', 'jupyter-packaging', 'jupyter_core', 'jupyter_server_terminals', 'lazy-object-proxy', 'm2-binary-packages', 'markupsafe', 'matplotlib', 'mypy', 'nodejs', 'numpy', 'pandas', 'pandoc', 'pdm', 'pep440', 'psutil', 'psycopg2', 'pydantic-core', 'pynacl', 'pyobjc-framework-cocoa', 'pyproject_hooks', 'pyqt', 'pytest-jupyter', 'pytest-mypy-testing', 'python', 'pywin32', 'pywinpty', 'pyyaml', 'pyzmq', 'r-languageserver', 'referencing', 'regex', 'rpds-py', 'ruamel.yaml', 'simplejson', 'texlab', 'tornado', 'trio', 'trove-classifiers', 'tzlocal', 'ujson', 'uvloop', 'watchdog']\n",
      "    old preds: ['aiohttp', 'annotated-types', 'argon2-cffi-bindings', 'astroid', 'backports.zoneinfo', 'bcrypt', 'black', 'brotli', 'chktex', 'comm', 'coverage', 'cryptography', 'debugpy', 'falcon', 'greenlet', 'hatch-fancy-pypi-readme', 'hatch-nodejs-version', 'importlib_metadata', 'importlib_resources', 'jsonpointer', 'jsonschema-path', 'jsonschema-specifications', 'jupyter-packaging', 'jupyter_core', 'jupyter_server_terminals', 'lazy-object-proxy', 'm2-binary-packages', 'markupsafe', 'matplotlib', 'mypy', 'nodejs', 'numpy', 'pandas', 'pandoc', 'pdm', 'pep440', 'psutil', 'psycopg2', 'pydantic-core', 'pynacl', 'pyobjc-framework-cocoa', 'pyproject_hooks', 'pyqt', 'pytest-jupyter', 'pytest-mypy-testing', 'python', 'pywin32', 'pywinpty', 'pyyaml', 'pyzmq', 'r-languageserver', 'referencing', 'regex', 'rpds-py', 'ruamel.yaml', 'simplejson', 'texlab', 'tornado', 'trio', 'trove-classifiers', 'tzlocal', 'ujson', 'uvloop', 'watchdog', 'whatthepatch']\n",
      " \n",
      "hatch-fancy-pypi-readme\n",
      "    new preds: ['aiohttp', 'annotated-types', 'argon2-cffi-bindings', 'astroid', 'backports.zoneinfo', 'bcrypt', 'black', 'brotli', 'chktex', 'comm', 'coverage', 'cryptography', 'debugpy', 'falcon', 'greenlet', 'hatch-nodejs-version', 'importlib_metadata', 'importlib_resources', 'jsonpointer', 'jsonschema-path', 'jsonschema-specifications', 'jupyter-packaging', 'jupyter_core', 'jupyter_server_terminals', 'lazy-object-proxy', 'm2-binary-packages', 'markupsafe', 'matplotlib', 'mypy', 'nodejs', 'numpy', 'pandas', 'pandoc', 'pdm', 'pep440', 'psutil', 'psycopg2', 'pydantic-core', 'pynacl', 'pyobjc-framework-cocoa', 'pyproject_hooks', 'pyqt', 'pytest-jupyter', 'pytest-mypy-testing', 'python', 'pywin32', 'pywinpty', 'pyyaml', 'pyzmq', 'r-languageserver', 'referencing', 'regex', 'rpds-py', 'ruamel.yaml', 'simplejson', 'texlab', 'tornado', 'trio', 'trove-classifiers', 'tzlocal', 'ujson', 'uvloop', 'watchdog']\n",
      "    old preds: ['aiohttp', 'annotated-types', 'argon2-cffi-bindings', 'astroid', 'backports.zoneinfo', 'bcrypt', 'black', 'brotli', 'chktex', 'comm', 'coverage', 'cryptography', 'debugpy', 'falcon', 'greenlet', 'hatch-fancy-pypi-readme', 'hatch-nodejs-version', 'importlib_metadata', 'importlib_resources', 'jsonpointer', 'jsonschema-path', 'jsonschema-specifications', 'jupyter-packaging', 'jupyter_core', 'jupyter_server_terminals', 'lazy-object-proxy', 'm2-binary-packages', 'markupsafe', 'matplotlib', 'mypy', 'nodejs', 'numpy', 'pandas', 'pandoc', 'pdm', 'pep440', 'psutil', 'psycopg2', 'pydantic-core', 'pynacl', 'pyobjc-framework-cocoa', 'pyproject_hooks', 'pyqt', 'pytest-jupyter', 'pytest-mypy-testing', 'python', 'pywin32', 'pywinpty', 'pyyaml', 'pyzmq', 'r-languageserver', 'referencing', 'regex', 'rpds-py', 'ruamel.yaml', 'simplejson', 'texlab', 'tornado', 'trio', 'trove-classifiers', 'tzlocal', 'ujson', 'uvloop', 'watchdog']\n",
      " \n",
      "hatch-nodejs-version\n",
      "    new preds: ['aiohttp', 'annotated-types', 'argon2-cffi-bindings', 'astroid', 'backports.zoneinfo', 'bcrypt', 'black', 'brotli', 'chktex', 'comm', 'coverage', 'cryptography', 'debugpy', 'falcon', 'greenlet', 'importlib_metadata', 'importlib_resources', 'jsonpointer', 'jsonschema-path', 'jsonschema-specifications', 'jupyter-packaging', 'jupyter_core', 'jupyter_server_terminals', 'lazy-object-proxy', 'm2-binary-packages', 'markupsafe', 'matplotlib', 'mypy', 'nodejs', 'numpy', 'pandas', 'pandoc', 'pdm', 'pep440', 'psutil', 'psycopg2', 'pydantic-core', 'pynacl', 'pyobjc-framework-cocoa', 'pyproject_hooks', 'pyqt', 'pytest-jupyter', 'pytest-mypy-testing', 'python', 'pywin32', 'pywinpty', 'pyyaml', 'pyzmq', 'r-languageserver', 'referencing', 'regex', 'rpds-py', 'ruamel.yaml', 'simplejson', 'texlab', 'tornado', 'trio', 'trove-classifiers', 'tzlocal', 'ujson', 'uvloop', 'watchdog']\n",
      "    old preds: ['aiohttp', 'annotated-types', 'argon2-cffi-bindings', 'astroid', 'backports.zoneinfo', 'bcrypt', 'black', 'brotli', 'chktex', 'comm', 'coverage', 'cryptography', 'debugpy', 'falcon', 'greenlet', 'hatch-nodejs-version', 'importlib_metadata', 'importlib_resources', 'jsonpointer', 'jsonschema-path', 'jsonschema-specifications', 'jupyter-packaging', 'jupyter_core', 'jupyter_server_terminals', 'lazy-object-proxy', 'm2-binary-packages', 'markupsafe', 'matplotlib', 'mypy', 'nodejs', 'numpy', 'pandas', 'pandoc', 'pdm', 'pep440', 'psutil', 'psycopg2', 'pydantic-core', 'pynacl', 'pyobjc-framework-cocoa', 'pyproject_hooks', 'pyqt', 'pytest-jupyter', 'pytest-mypy-testing', 'python', 'pywin32', 'pywinpty', 'pyyaml', 'pyzmq', 'r-languageserver', 'referencing', 'regex', 'rpds-py', 'ruamel.yaml', 'simplejson', 'texlab', 'tornado', 'trio', 'trove-classifiers', 'tzlocal', 'ujson', 'uvloop', 'watchdog']\n",
      " \n",
      "pep440\n",
      "    new preds: ['aiohttp', 'annotated-types', 'argon2-cffi-bindings', 'astroid', 'backports.zoneinfo', 'bcrypt', 'black', 'brotli', 'chktex', 'comm', 'coverage', 'cryptography', 'debugpy', 'falcon', 'greenlet', 'importlib_metadata', 'importlib_resources', 'jsonpointer', 'jsonschema-path', 'jsonschema-specifications', 'jupyter-packaging', 'jupyter_core', 'jupyter_server_terminals', 'lazy-object-proxy', 'm2-binary-packages', 'markupsafe', 'matplotlib', 'mypy', 'nodejs', 'numpy', 'pandas', 'pandoc', 'pdm', 'psutil', 'psycopg2', 'pydantic-core', 'pynacl', 'pyobjc-framework-cocoa', 'pyproject_hooks', 'pyqt', 'pytest-jupyter', 'pytest-mypy-testing', 'python', 'pywin32', 'pywinpty', 'pyyaml', 'pyzmq', 'r-languageserver', 'referencing', 'regex', 'rpds-py', 'ruamel.yaml', 'simplejson', 'texlab', 'tornado', 'trio', 'trove-classifiers', 'tzlocal', 'ujson', 'uvloop', 'watchdog']\n",
      "    old preds: ['aiohttp', 'annotated-types', 'argon2-cffi-bindings', 'astroid', 'backports.zoneinfo', 'bcrypt', 'black', 'brotli', 'chktex', 'comm', 'coverage', 'cryptography', 'debugpy', 'falcon', 'greenlet', 'importlib_metadata', 'importlib_resources', 'jsonpointer', 'jsonschema-path', 'jsonschema-specifications', 'jupyter-packaging', 'jupyter_core', 'jupyter_server_terminals', 'lazy-object-proxy', 'm2-binary-packages', 'markupsafe', 'matplotlib', 'mypy', 'nodejs', 'numpy', 'pandas', 'pandoc', 'pdm', 'pep440', 'psutil', 'psycopg2', 'pydantic-core', 'pynacl', 'pyobjc-framework-cocoa', 'pyproject_hooks', 'pyqt', 'pytest-jupyter', 'pytest-mypy-testing', 'python', 'pywin32', 'pywinpty', 'pyyaml', 'pyzmq', 'r-languageserver', 'referencing', 'regex', 'rpds-py', 'ruamel.yaml', 'simplejson', 'texlab', 'tornado', 'trio', 'trove-classifiers', 'tzlocal', 'ujson', 'uvloop', 'watchdog']\n",
      " \n",
      "comm\n",
      "    new preds: ['aiohttp', 'annotated-types', 'argon2-cffi-bindings', 'astroid', 'backports.zoneinfo', 'bcrypt', 'black', 'brotli', 'chktex', 'coverage', 'cryptography', 'debugpy', 'falcon', 'greenlet', 'importlib_metadata', 'importlib_resources', 'jsonpointer', 'jsonschema-path', 'jsonschema-specifications', 'jupyter-packaging', 'jupyter_core', 'jupyter_server_terminals', 'lazy-object-proxy', 'm2-binary-packages', 'markupsafe', 'matplotlib', 'mypy', 'nodejs', 'numpy', 'pandas', 'pandoc', 'pdm', 'psutil', 'psycopg2', 'pydantic-core', 'pynacl', 'pyobjc-framework-cocoa', 'pyproject_hooks', 'pyqt', 'pytest-jupyter', 'pytest-mypy-testing', 'python', 'pywin32', 'pywinpty', 'pyyaml', 'pyzmq', 'r-languageserver', 'referencing', 'regex', 'rpds-py', 'ruamel.yaml', 'simplejson', 'texlab', 'tornado', 'trio', 'trove-classifiers', 'tzlocal', 'ujson', 'uvloop', 'watchdog']\n",
      "    old preds: ['aiohttp', 'annotated-types', 'argon2-cffi-bindings', 'astroid', 'backports.zoneinfo', 'bcrypt', 'black', 'brotli', 'chktex', 'comm', 'coverage', 'cryptography', 'debugpy', 'falcon', 'greenlet', 'importlib_metadata', 'importlib_resources', 'jsonpointer', 'jsonschema-path', 'jsonschema-specifications', 'jupyter-packaging', 'jupyter_core', 'jupyter_server_terminals', 'lazy-object-proxy', 'm2-binary-packages', 'markupsafe', 'matplotlib', 'mypy', 'nodejs', 'numpy', 'pandas', 'pandoc', 'pdm', 'psutil', 'psycopg2', 'pydantic-core', 'pynacl', 'pyobjc-framework-cocoa', 'pyproject_hooks', 'pyqt', 'pytest-jupyter', 'pytest-mypy-testing', 'python', 'pywin32', 'pywinpty', 'pyyaml', 'pyzmq', 'r-languageserver', 'referencing', 'regex', 'rpds-py', 'ruamel.yaml', 'simplejson', 'texlab', 'tornado', 'trio', 'trove-classifiers', 'tzlocal', 'ujson', 'uvloop', 'watchdog']\n",
      " \n",
      "jupyter_server_terminals\n",
      "    new preds: ['aiohttp', 'annotated-types', 'argon2-cffi-bindings', 'astroid', 'backports.zoneinfo', 'bcrypt', 'black', 'brotli', 'chktex', 'coverage', 'cryptography', 'debugpy', 'falcon', 'greenlet', 'importlib_metadata', 'importlib_resources', 'jsonpointer', 'jsonschema-path', 'jsonschema-specifications', 'jupyter-packaging', 'jupyter_core', 'lazy-object-proxy', 'm2-binary-packages', 'markupsafe', 'matplotlib', 'mypy', 'nodejs', 'numpy', 'pandas', 'pandoc', 'pdm', 'psutil', 'psycopg2', 'pydantic-core', 'pynacl', 'pyobjc-framework-cocoa', 'pyproject_hooks', 'pyqt', 'pytest-jupyter', 'pytest-mypy-testing', 'python', 'pywin32', 'pywinpty', 'pyyaml', 'pyzmq', 'r-languageserver', 'referencing', 'regex', 'rpds-py', 'ruamel.yaml', 'simplejson', 'texlab', 'tornado', 'trio', 'trove-classifiers', 'tzlocal', 'ujson', 'uvloop', 'watchdog']\n",
      "    old preds: ['aiohttp', 'annotated-types', 'argon2-cffi-bindings', 'astroid', 'backports.zoneinfo', 'bcrypt', 'black', 'brotli', 'chktex', 'coverage', 'cryptography', 'debugpy', 'falcon', 'greenlet', 'importlib_metadata', 'importlib_resources', 'jsonpointer', 'jsonschema-path', 'jsonschema-specifications', 'jupyter-packaging', 'jupyter_core', 'jupyter_server_terminals', 'lazy-object-proxy', 'm2-binary-packages', 'markupsafe', 'matplotlib', 'mypy', 'nodejs', 'numpy', 'pandas', 'pandoc', 'pdm', 'psutil', 'psycopg2', 'pydantic-core', 'pynacl', 'pyobjc-framework-cocoa', 'pyproject_hooks', 'pyqt', 'pytest-jupyter', 'pytest-mypy-testing', 'python', 'pywin32', 'pywinpty', 'pyyaml', 'pyzmq', 'r-languageserver', 'referencing', 'regex', 'rpds-py', 'ruamel.yaml', 'simplejson', 'texlab', 'tornado', 'trio', 'trove-classifiers', 'tzlocal', 'ujson', 'uvloop', 'watchdog']\n",
      " \n",
      "pytest-jupyter\n",
      "    new preds: ['aiohttp', 'annotated-types', 'argon2-cffi-bindings', 'astroid', 'backports.zoneinfo', 'bcrypt', 'black', 'brotli', 'chktex', 'coverage', 'cryptography', 'debugpy', 'falcon', 'greenlet', 'importlib_metadata', 'importlib_resources', 'jsonpointer', 'jsonschema-path', 'jsonschema-specifications', 'jupyter-packaging', 'jupyter_core', 'lazy-object-proxy', 'm2-binary-packages', 'markupsafe', 'matplotlib', 'mypy', 'nodejs', 'numpy', 'pandas', 'pandoc', 'pdm', 'psutil', 'psycopg2', 'pydantic-core', 'pynacl', 'pyobjc-framework-cocoa', 'pyproject_hooks', 'pyqt', 'pytest-mypy-testing', 'python', 'pywin32', 'pywinpty', 'pyyaml', 'pyzmq', 'r-languageserver', 'referencing', 'regex', 'rpds-py', 'ruamel.yaml', 'simplejson', 'texlab', 'tornado', 'trio', 'trove-classifiers', 'tzlocal', 'ujson', 'uvloop', 'watchdog']\n",
      "    old preds: ['aiohttp', 'annotated-types', 'argon2-cffi-bindings', 'astroid', 'backports.zoneinfo', 'bcrypt', 'black', 'brotli', 'chktex', 'coverage', 'cryptography', 'debugpy', 'falcon', 'greenlet', 'importlib_metadata', 'importlib_resources', 'jsonpointer', 'jsonschema-path', 'jsonschema-specifications', 'jupyter-packaging', 'jupyter_core', 'lazy-object-proxy', 'm2-binary-packages', 'markupsafe', 'matplotlib', 'mypy', 'nodejs', 'numpy', 'pandas', 'pandoc', 'pdm', 'psutil', 'psycopg2', 'pydantic-core', 'pynacl', 'pyobjc-framework-cocoa', 'pyproject_hooks', 'pyqt', 'pytest-jupyter', 'pytest-mypy-testing', 'python', 'pywin32', 'pywinpty', 'pyyaml', 'pyzmq', 'r-languageserver', 'referencing', 'regex', 'rpds-py', 'ruamel.yaml', 'simplejson', 'texlab', 'tornado', 'trio', 'trove-classifiers', 'tzlocal', 'ujson', 'uvloop', 'watchdog']\n",
      " \n",
      "pyproject_hooks\n",
      "    new preds: ['aiohttp', 'annotated-types', 'argon2-cffi-bindings', 'astroid', 'backports.zoneinfo', 'bcrypt', 'black', 'brotli', 'chktex', 'coverage', 'cryptography', 'debugpy', 'falcon', 'greenlet', 'importlib_metadata', 'importlib_resources', 'jsonpointer', 'jsonschema-path', 'jsonschema-specifications', 'jupyter-packaging', 'jupyter_core', 'lazy-object-proxy', 'm2-binary-packages', 'markupsafe', 'matplotlib', 'mypy', 'nodejs', 'numpy', 'pandas', 'pandoc', 'pdm', 'psutil', 'psycopg2', 'pydantic-core', 'pynacl', 'pyobjc-framework-cocoa', 'pyqt', 'pytest-mypy-testing', 'python', 'pywin32', 'pywinpty', 'pyyaml', 'pyzmq', 'r-languageserver', 'referencing', 'regex', 'rpds-py', 'ruamel.yaml', 'simplejson', 'texlab', 'tornado', 'trio', 'trove-classifiers', 'tzlocal', 'ujson', 'uvloop', 'watchdog']\n",
      "    old preds: ['aiohttp', 'annotated-types', 'argon2-cffi-bindings', 'astroid', 'backports.zoneinfo', 'bcrypt', 'black', 'brotli', 'chktex', 'coverage', 'cryptography', 'debugpy', 'falcon', 'greenlet', 'importlib_metadata', 'importlib_resources', 'jsonpointer', 'jsonschema-path', 'jsonschema-specifications', 'jupyter-packaging', 'jupyter_core', 'lazy-object-proxy', 'm2-binary-packages', 'markupsafe', 'matplotlib', 'mypy', 'nodejs', 'numpy', 'pandas', 'pandoc', 'pdm', 'psutil', 'psycopg2', 'pydantic-core', 'pynacl', 'pyobjc-framework-cocoa', 'pyproject_hooks', 'pyqt', 'pytest-mypy-testing', 'python', 'pywin32', 'pywinpty', 'pyyaml', 'pyzmq', 'r-languageserver', 'referencing', 'regex', 'rpds-py', 'ruamel.yaml', 'simplejson', 'texlab', 'tornado', 'trio', 'trove-classifiers', 'tzlocal', 'ujson', 'uvloop', 'watchdog']\n",
      " \n",
      "trove-classifiers\n",
      "    new preds: ['aiohttp', 'annotated-types', 'argon2-cffi-bindings', 'astroid', 'backports.zoneinfo', 'bcrypt', 'black', 'brotli', 'chktex', 'coverage', 'cryptography', 'debugpy', 'falcon', 'greenlet', 'importlib_metadata', 'importlib_resources', 'jsonpointer', 'jsonschema-path', 'jsonschema-specifications', 'jupyter-packaging', 'jupyter_core', 'lazy-object-proxy', 'm2-binary-packages', 'markupsafe', 'matplotlib', 'mypy', 'nodejs', 'numpy', 'pandas', 'pandoc', 'pdm', 'psutil', 'psycopg2', 'pydantic-core', 'pynacl', 'pyobjc-framework-cocoa', 'pyqt', 'pytest-mypy-testing', 'python', 'pywin32', 'pywinpty', 'pyyaml', 'pyzmq', 'r-languageserver', 'referencing', 'regex', 'rpds-py', 'ruamel.yaml', 'simplejson', 'texlab', 'tornado', 'trio', 'tzlocal', 'ujson', 'uvloop', 'watchdog']\n",
      "    old preds: ['aiohttp', 'annotated-types', 'argon2-cffi-bindings', 'astroid', 'backports.zoneinfo', 'bcrypt', 'black', 'brotli', 'chktex', 'coverage', 'cryptography', 'debugpy', 'falcon', 'greenlet', 'importlib_metadata', 'importlib_resources', 'jsonpointer', 'jsonschema-path', 'jsonschema-specifications', 'jupyter-packaging', 'jupyter_core', 'lazy-object-proxy', 'm2-binary-packages', 'markupsafe', 'matplotlib', 'mypy', 'nodejs', 'numpy', 'pandas', 'pandoc', 'pdm', 'psutil', 'psycopg2', 'pydantic-core', 'pynacl', 'pyobjc-framework-cocoa', 'pyqt', 'pytest-mypy-testing', 'python', 'pywin32', 'pywinpty', 'pyyaml', 'pyzmq', 'r-languageserver', 'referencing', 'regex', 'rpds-py', 'ruamel.yaml', 'simplejson', 'texlab', 'tornado', 'trio', 'trove-classifiers', 'tzlocal', 'ujson', 'uvloop', 'watchdog']\n",
      " \n",
      "annotated-types\n",
      "    new preds: ['aiohttp', 'argon2-cffi-bindings', 'astroid', 'backports.zoneinfo', 'bcrypt', 'black', 'brotli', 'chktex', 'coverage', 'cryptography', 'debugpy', 'falcon', 'greenlet', 'importlib_metadata', 'importlib_resources', 'jsonpointer', 'jsonschema-path', 'jsonschema-specifications', 'jupyter-packaging', 'jupyter_core', 'lazy-object-proxy', 'm2-binary-packages', 'markupsafe', 'matplotlib', 'mypy', 'nodejs', 'numpy', 'pandas', 'pandoc', 'pdm', 'psutil', 'psycopg2', 'pydantic-core', 'pynacl', 'pyobjc-framework-cocoa', 'pyqt', 'pytest-mypy-testing', 'python', 'pywin32', 'pywinpty', 'pyyaml', 'pyzmq', 'r-languageserver', 'referencing', 'regex', 'rpds-py', 'ruamel.yaml', 'simplejson', 'texlab', 'tornado', 'trio', 'tzlocal', 'ujson', 'uvloop', 'watchdog']\n",
      "    old preds: ['aiohttp', 'annotated-types', 'argon2-cffi-bindings', 'astroid', 'backports.zoneinfo', 'bcrypt', 'black', 'brotli', 'chktex', 'coverage', 'cryptography', 'debugpy', 'falcon', 'greenlet', 'importlib_metadata', 'importlib_resources', 'jsonpointer', 'jsonschema-path', 'jsonschema-specifications', 'jupyter-packaging', 'jupyter_core', 'lazy-object-proxy', 'm2-binary-packages', 'markupsafe', 'matplotlib', 'mypy', 'nodejs', 'numpy', 'pandas', 'pandoc', 'pdm', 'psutil', 'psycopg2', 'pydantic-core', 'pynacl', 'pyobjc-framework-cocoa', 'pyqt', 'pytest-mypy-testing', 'python', 'pywin32', 'pywinpty', 'pyyaml', 'pyzmq', 'r-languageserver', 'referencing', 'regex', 'rpds-py', 'ruamel.yaml', 'simplejson', 'texlab', 'tornado', 'trio', 'tzlocal', 'ujson', 'uvloop', 'watchdog']\n",
      " \n",
      "referencing\n",
      "    new preds: ['aiohttp', 'argon2-cffi-bindings', 'astroid', 'backports.zoneinfo', 'bcrypt', 'black', 'brotli', 'chktex', 'coverage', 'cryptography', 'debugpy', 'falcon', 'greenlet', 'importlib_metadata', 'importlib_resources', 'jsonpointer', 'jsonschema-path', 'jsonschema-specifications', 'jupyter-packaging', 'jupyter_core', 'lazy-object-proxy', 'm2-binary-packages', 'markupsafe', 'matplotlib', 'mypy', 'nodejs', 'numpy', 'pandas', 'pandoc', 'pdm', 'psutil', 'psycopg2', 'pydantic-core', 'pynacl', 'pyobjc-framework-cocoa', 'pyqt', 'pytest-mypy-testing', 'python', 'pywin32', 'pywinpty', 'pyyaml', 'pyzmq', 'r-languageserver', 'regex', 'rpds-py', 'ruamel.yaml', 'simplejson', 'texlab', 'tornado', 'trio', 'tzlocal', 'ujson', 'uvloop', 'watchdog']\n",
      "    old preds: ['aiohttp', 'argon2-cffi-bindings', 'astroid', 'backports.zoneinfo', 'bcrypt', 'black', 'brotli', 'chktex', 'coverage', 'cryptography', 'debugpy', 'falcon', 'greenlet', 'importlib_metadata', 'importlib_resources', 'jsonpointer', 'jsonschema-path', 'jsonschema-specifications', 'jupyter-packaging', 'jupyter_core', 'lazy-object-proxy', 'm2-binary-packages', 'markupsafe', 'matplotlib', 'mypy', 'nodejs', 'numpy', 'pandas', 'pandoc', 'pdm', 'psutil', 'psycopg2', 'pydantic-core', 'pynacl', 'pyobjc-framework-cocoa', 'pyqt', 'pytest-mypy-testing', 'python', 'pywin32', 'pywinpty', 'pyyaml', 'pyzmq', 'r-languageserver', 'referencing', 'regex', 'rpds-py', 'ruamel.yaml', 'simplejson', 'texlab', 'tornado', 'trio', 'tzlocal', 'ujson', 'uvloop', 'watchdog']\n",
      " \n",
      "jsonschema-specifications\n",
      "    new preds: ['aiohttp', 'argon2-cffi-bindings', 'astroid', 'backports.zoneinfo', 'bcrypt', 'black', 'brotli', 'chktex', 'coverage', 'cryptography', 'debugpy', 'falcon', 'greenlet', 'importlib_metadata', 'importlib_resources', 'jsonpointer', 'jsonschema-path', 'jupyter-packaging', 'jupyter_core', 'lazy-object-proxy', 'm2-binary-packages', 'markupsafe', 'matplotlib', 'mypy', 'nodejs', 'numpy', 'pandas', 'pandoc', 'pdm', 'psutil', 'psycopg2', 'pydantic-core', 'pynacl', 'pyobjc-framework-cocoa', 'pyqt', 'pytest-mypy-testing', 'python', 'pywin32', 'pywinpty', 'pyyaml', 'pyzmq', 'r-languageserver', 'regex', 'rpds-py', 'ruamel.yaml', 'simplejson', 'texlab', 'tornado', 'trio', 'tzlocal', 'ujson', 'uvloop', 'watchdog']\n",
      "    old preds: ['aiohttp', 'argon2-cffi-bindings', 'astroid', 'backports.zoneinfo', 'bcrypt', 'black', 'brotli', 'chktex', 'coverage', 'cryptography', 'debugpy', 'falcon', 'greenlet', 'importlib_metadata', 'importlib_resources', 'jsonpointer', 'jsonschema-path', 'jsonschema-specifications', 'jupyter-packaging', 'jupyter_core', 'lazy-object-proxy', 'm2-binary-packages', 'markupsafe', 'matplotlib', 'mypy', 'nodejs', 'numpy', 'pandas', 'pandoc', 'pdm', 'psutil', 'psycopg2', 'pydantic-core', 'pynacl', 'pyobjc-framework-cocoa', 'pyqt', 'pytest-mypy-testing', 'python', 'pywin32', 'pywinpty', 'pyyaml', 'pyzmq', 'r-languageserver', 'regex', 'rpds-py', 'ruamel.yaml', 'simplejson', 'texlab', 'tornado', 'trio', 'tzlocal', 'ujson', 'uvloop', 'watchdog']\n",
      " \n",
      "pytest-mypy-testing\n",
      "    new preds: ['aiohttp', 'argon2-cffi-bindings', 'astroid', 'backports.zoneinfo', 'bcrypt', 'black', 'brotli', 'chktex', 'coverage', 'cryptography', 'debugpy', 'falcon', 'greenlet', 'importlib_metadata', 'importlib_resources', 'jsonpointer', 'jsonschema-path', 'jupyter-packaging', 'jupyter_core', 'lazy-object-proxy', 'm2-binary-packages', 'markupsafe', 'matplotlib', 'mypy', 'nodejs', 'numpy', 'pandas', 'pandoc', 'pdm', 'psutil', 'psycopg2', 'pydantic-core', 'pynacl', 'pyobjc-framework-cocoa', 'pyqt', 'python', 'pywin32', 'pywinpty', 'pyyaml', 'pyzmq', 'r-languageserver', 'regex', 'rpds-py', 'ruamel.yaml', 'simplejson', 'texlab', 'tornado', 'trio', 'tzlocal', 'ujson', 'uvloop', 'watchdog']\n",
      "    old preds: ['aiohttp', 'argon2-cffi-bindings', 'astroid', 'backports.zoneinfo', 'bcrypt', 'black', 'brotli', 'chktex', 'coverage', 'cryptography', 'debugpy', 'falcon', 'greenlet', 'importlib_metadata', 'importlib_resources', 'jsonpointer', 'jsonschema-path', 'jupyter-packaging', 'jupyter_core', 'lazy-object-proxy', 'm2-binary-packages', 'markupsafe', 'matplotlib', 'mypy', 'nodejs', 'numpy', 'pandas', 'pandoc', 'pdm', 'psutil', 'psycopg2', 'pydantic-core', 'pynacl', 'pyobjc-framework-cocoa', 'pyqt', 'pytest-mypy-testing', 'python', 'pywin32', 'pywinpty', 'pyyaml', 'pyzmq', 'r-languageserver', 'regex', 'rpds-py', 'ruamel.yaml', 'simplejson', 'texlab', 'tornado', 'trio', 'tzlocal', 'ujson', 'uvloop', 'watchdog']\n",
      " \n",
      "jsonschema-path\n",
      "    new preds: ['aiohttp', 'argon2-cffi-bindings', 'astroid', 'backports.zoneinfo', 'bcrypt', 'black', 'brotli', 'chktex', 'coverage', 'cryptography', 'debugpy', 'falcon', 'greenlet', 'importlib_metadata', 'importlib_resources', 'jsonpointer', 'jupyter-packaging', 'jupyter_core', 'lazy-object-proxy', 'm2-binary-packages', 'markupsafe', 'matplotlib', 'mypy', 'nodejs', 'numpy', 'pandas', 'pandoc', 'pdm', 'psutil', 'psycopg2', 'pydantic-core', 'pynacl', 'pyobjc-framework-cocoa', 'pyqt', 'python', 'pywin32', 'pywinpty', 'pyyaml', 'pyzmq', 'r-languageserver', 'regex', 'rpds-py', 'ruamel.yaml', 'simplejson', 'texlab', 'tornado', 'trio', 'tzlocal', 'ujson', 'uvloop', 'watchdog']\n",
      "    old preds: ['aiohttp', 'argon2-cffi-bindings', 'astroid', 'backports.zoneinfo', 'bcrypt', 'black', 'brotli', 'chktex', 'coverage', 'cryptography', 'debugpy', 'falcon', 'greenlet', 'importlib_metadata', 'importlib_resources', 'jsonpointer', 'jsonschema-path', 'jupyter-packaging', 'jupyter_core', 'lazy-object-proxy', 'm2-binary-packages', 'markupsafe', 'matplotlib', 'mypy', 'nodejs', 'numpy', 'pandas', 'pandoc', 'pdm', 'psutil', 'psycopg2', 'pydantic-core', 'pynacl', 'pyobjc-framework-cocoa', 'pyqt', 'python', 'pywin32', 'pywinpty', 'pyyaml', 'pyzmq', 'r-languageserver', 'regex', 'rpds-py', 'ruamel.yaml', 'simplejson', 'texlab', 'tornado', 'trio', 'tzlocal', 'ujson', 'uvloop', 'watchdog']\n",
      " \n",
      "m2-binary-packages\n",
      "    new preds: ['aiohttp', 'argon2-cffi-bindings', 'astroid', 'backports.zoneinfo', 'bcrypt', 'black', 'brotli', 'chktex', 'coverage', 'cryptography', 'debugpy', 'falcon', 'greenlet', 'importlib_metadata', 'importlib_resources', 'jsonpointer', 'jupyter-packaging', 'jupyter_core', 'lazy-object-proxy', 'markupsafe', 'matplotlib', 'mypy', 'nodejs', 'numpy', 'pandas', 'pandoc', 'pdm', 'psutil', 'psycopg2', 'pydantic-core', 'pynacl', 'pyobjc-framework-cocoa', 'pyqt', 'python', 'pywin32', 'pywinpty', 'pyyaml', 'pyzmq', 'r-languageserver', 'regex', 'rpds-py', 'ruamel.yaml', 'simplejson', 'texlab', 'tornado', 'trio', 'tzlocal', 'ujson', 'uvloop', 'watchdog']\n",
      "    old preds: ['aiohttp', 'argon2-cffi-bindings', 'astroid', 'backports.zoneinfo', 'bcrypt', 'black', 'brotli', 'chktex', 'coverage', 'cryptography', 'debugpy', 'falcon', 'greenlet', 'importlib_metadata', 'importlib_resources', 'jsonpointer', 'jupyter-packaging', 'jupyter_core', 'lazy-object-proxy', 'm2-binary-packages', 'markupsafe', 'matplotlib', 'mypy', 'nodejs', 'numpy', 'pandas', 'pandoc', 'pdm', 'psutil', 'psycopg2', 'pydantic-core', 'pynacl', 'pyobjc-framework-cocoa', 'pyqt', 'python', 'pywin32', 'pywinpty', 'pyyaml', 'pyzmq', 'r-languageserver', 'regex', 'rpds-py', 'ruamel.yaml', 'simplejson', 'texlab', 'tornado', 'trio', 'tzlocal', 'ujson', 'uvloop', 'watchdog']\n",
      " \n"
     ]
    }
   ],
   "source": [
    "from conda_forge_tick.migrators.migration_yaml import all_noarch\n",
    "\n",
    "ignored_packages = {\n",
    "    \"make\",\n",
    "    \"perl\",\n",
    "    \"toolchain\",\n",
    "    \"posix\",\n",
    "    \"patchelf\",  # weird issue\n",
    "}\n",
    "\n",
    "latest_preds = sorted(graph.predecessors(\"bcrypt\"))\n",
    "\n",
    "for node, attrs in list(graph.nodes(\"payload\")):\n",
    "    if (\n",
    "        (not attrs)\n",
    "        or node.endswith(\"_stub\")\n",
    "        or node.startswith(\"m2-\")\n",
    "        or node.startswith(\"m2w64-\")\n",
    "        or node.startswith(\"__\")\n",
    "        or (node in ignored_packages)\n",
    "        or all_noarch(attrs)\n",
    "    ):\n",
    "        pluck(graph, node)\n",
    "        new_latest_preds = sorted(graph.predecessors(\"bcrypt\"))\n",
    "        if new_latest_preds != latest_preds:\n",
    "            print(node)\n",
    "            print(\"    new preds:\", new_latest_preds)\n",
    "            print(\"    old preds:\", latest_preds)\n",
    "            print(\" \")\n",
    "            latest_preds = new_latest_preds\n",
    "\n",
    "# post-plucking cleanup\n",
    "graph.remove_edges_from(nx.selfloop_edges(graph))"
   ]
  },
  {
   "cell_type": "code",
   "execution_count": null,
   "metadata": {},
   "outputs": [],
   "source": []
  },
  {
   "cell_type": "code",
   "execution_count": null,
   "metadata": {},
   "outputs": [],
   "source": []
  },
  {
   "cell_type": "code",
   "execution_count": null,
   "metadata": {},
   "outputs": [],
   "source": []
  },
  {
   "cell_type": "code",
   "execution_count": null,
   "metadata": {},
   "outputs": [],
   "source": [
    "import os\n",
    "from conda_forge_tick.contexts import MigratorContext, MigratorSessionContext\n",
    "\n",
    "\n",
    "mctx = MigratorSessionContext(\n",
    "    circle_build_url=os.getenv(\"CIRCLE_BUILD_URL\", \"\"),\n",
    "    graph=gx,\n",
    "    smithy_version=\"\",\n",
    "    pinning_version=\"\",\n",
    "    github_username=\"\",\n",
    "    github_password=\"\",\n",
    "    github_token=\"\",\n",
    "    dry_run=False,\n",
    ")\n",
    "\n",
    "mmctx = MigratorContext(session=mctx, migrator=mg)\n",
    "mg.bind_to_ctx(mmctx)"
   ]
  },
  {
   "cell_type": "code",
   "execution_count": null,
   "metadata": {},
   "outputs": [],
   "source": [
    "mg.graph[\"outputs_lut\"]"
   ]
  },
  {
   "cell_type": "code",
   "execution_count": 10,
   "metadata": {},
   "outputs": [],
   "source": [
    "import networkx as nx"
   ]
  },
  {
   "cell_type": "code",
   "execution_count": 69,
   "metadata": {},
   "outputs": [
    {
     "name": "stdout",
     "output_type": "stream",
     "text": [
      "['aiohttp', 'argon2-cffi-bindings', 'astroid', 'backports.zoneinfo', 'black', 'brotli', 'chktex', 'coverage', 'cryptography', 'debugpy', 'falcon', 'greenlet', 'importlib_metadata', 'importlib_resources', 'jsonpointer', 'jupyter-packaging', 'jupyter_core', 'lazy-object-proxy', 'markupsafe', 'matplotlib', 'mypy', 'nodejs', 'numpy', 'pandas', 'pandoc', 'pdm', 'psutil', 'psycopg2', 'pydantic-core', 'pynacl', 'pyobjc-framework-cocoa', 'pyqt', 'python', 'pywin32', 'pywinpty', 'pyyaml', 'pyzmq', 'r-languageserver', 'regex', 'rpds-py', 'ruamel.yaml', 'simplejson', 'texlab', 'tornado', 'trio', 'tzlocal', 'ujson', 'uvloop', 'watchdog']\n"
     ]
    }
   ],
   "source": [
    "print(sorted(mg.graph.predecessors(\"bcrypt\")))"
   ]
  },
  {
   "cell_type": "code",
   "execution_count": null,
   "metadata": {},
   "outputs": [],
   "source": [
    "mgs = []\n",
    "add_rebuild_broken_migrator(mgs, gx)"
   ]
  },
  {
   "cell_type": "code",
   "execution_count": null,
   "metadata": {},
   "outputs": [],
   "source": [
    "mg = mgs[0]"
   ]
  },
  {
   "cell_type": "code",
   "execution_count": null,
   "metadata": {},
   "outputs": [],
   "source": [
    "import os\n",
    "from conda_forge_tick.contexts import MigratorContext, MigratorSessionContext\n",
    "\n",
    "\n",
    "mctx = MigratorSessionContext(\n",
    "    circle_build_url=os.getenv(\"CIRCLE_BUILD_URL\", \"\"),\n",
    "    graph=gx,\n",
    "    smithy_version=\"\",\n",
    "    pinning_version=\"\",\n",
    "    github_username=\"\",\n",
    "    github_password=\"\",\n",
    "    github_token=\"\",\n",
    "    dry_run=False,\n",
    ")\n",
    "\n",
    "mmctx = MigratorContext(session=mctx, migrator=mg)\n",
    "mg.bind_to_ctx(mmctx)"
   ]
  },
  {
   "cell_type": "code",
   "execution_count": null,
   "metadata": {},
   "outputs": [],
   "source": [
    "mmctx.effective_graph.nodes"
   ]
  },
  {
   "cell_type": "code",
   "execution_count": null,
   "metadata": {},
   "outputs": [],
   "source": []
  },
  {
   "cell_type": "code",
   "execution_count": null,
   "metadata": {},
   "outputs": [],
   "source": []
  },
  {
   "cell_type": "code",
   "execution_count": null,
   "metadata": {
    "scrolled": true
   },
   "outputs": [],
   "source": [
    "mg_name = \"libffi33\"\n",
    "\n",
    "mgs = []\n",
    "migration_factory(mgs, gx, only_keep=[mg_name])\n",
    "\n",
    "for i in range(len(mgs)):\n",
    "    if mgs[i].name == mg_name:\n",
    "        break\n",
    "mg = mgs[i]"
   ]
  },
  {
   "cell_type": "code",
   "execution_count": null,
   "metadata": {},
   "outputs": [],
   "source": [
    "import copy\n",
    "\n",
    "attrs = copy.deepcopy(mg.graph.nodes[\"python\"][\"payload\"].data)\n",
    "\n",
    "attrs[\"branch\"] = \"3.6\"\n",
    "mg.filter(attrs)"
   ]
  },
  {
   "cell_type": "code",
   "execution_count": null,
   "metadata": {},
   "outputs": [],
   "source": [
    "import os\n",
    "from conda_forge_tick.contexts import MigratorContext, MigratorSessionContext\n",
    "\n",
    "\n",
    "mctx = MigratorSessionContext(\n",
    "    circle_build_url=os.getenv(\"CIRCLE_BUILD_URL\", \"\"),\n",
    "    graph=gx,\n",
    "    smithy_version=\"\",\n",
    "    pinning_version=\"\",\n",
    "    github_username=\"\",\n",
    "    github_password=\"\",\n",
    "    github_token=\"\",\n",
    "    dry_run=False,\n",
    ")\n",
    "\n",
    "mmctx = MigratorContext(session=mctx, migrator=mg)\n",
    "mg.bind_to_ctx(mmctx)\n"
   ]
  },
  {
   "cell_type": "code",
   "execution_count": null,
   "metadata": {},
   "outputs": [],
   "source": [
    "mmctx.effective_graph.nodes"
   ]
  },
  {
   "cell_type": "code",
   "execution_count": null,
   "metadata": {},
   "outputs": [],
   "source": []
  },
  {
   "cell_type": "code",
   "execution_count": null,
   "metadata": {},
   "outputs": [],
   "source": []
  },
  {
   "cell_type": "code",
   "execution_count": null,
   "metadata": {},
   "outputs": [],
   "source": []
  },
  {
   "cell_type": "markdown",
   "metadata": {},
   "source": [
    "## Check the Status Report"
   ]
  },
  {
   "cell_type": "code",
   "execution_count": null,
   "metadata": {},
   "outputs": [],
   "source": [
    "from conda_forge_tick.status_report import  graph_migrator_status"
   ]
  },
  {
   "cell_type": "code",
   "execution_count": null,
   "metadata": {},
   "outputs": [],
   "source": [
    "out2, build_sequence, gv = graph_migrator_status(mg, mg.graph)"
   ]
  },
  {
   "cell_type": "code",
   "execution_count": null,
   "metadata": {},
   "outputs": [],
   "source": [
    "gv.view()"
   ]
  },
  {
   "cell_type": "code",
   "execution_count": null,
   "metadata": {},
   "outputs": [],
   "source": [
    "build_sequence"
   ]
  },
  {
   "cell_type": "code",
   "execution_count": null,
   "metadata": {},
   "outputs": [],
   "source": [
    "len(build_sequence)"
   ]
  },
  {
   "cell_type": "code",
   "execution_count": null,
   "metadata": {},
   "outputs": [],
   "source": [
    "gx.nodes[\"proj\"][\"payload\"].data"
   ]
  },
  {
   "cell_type": "code",
   "execution_count": null,
   "metadata": {},
   "outputs": [],
   "source": []
  }
 ],
 "metadata": {
  "kernelspec": {
   "display_name": "Python [conda env:bot-dev]",
   "language": "python",
   "name": "conda-env-bot-dev-py"
  },
  "language_info": {
   "codemirror_mode": {
    "name": "ipython",
    "version": 3
   },
   "file_extension": ".py",
   "mimetype": "text/x-python",
   "name": "python",
   "nbconvert_exporter": "python",
   "pygments_lexer": "ipython3",
   "version": "3.11.8"
  }
 },
 "nbformat": 4,
 "nbformat_minor": 4
}

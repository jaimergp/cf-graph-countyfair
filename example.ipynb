{
 "cells": [
  {
   "cell_type": "code",
   "execution_count": 1,
   "metadata": {},
   "outputs": [],
   "source": [
    "%load_ext autoreload\n",
    "\n",
    "%autoreload 2"
   ]
  },
  {
   "cell_type": "code",
   "execution_count": 2,
   "metadata": {},
   "outputs": [],
   "source": [
    "import logging\n",
    "\n",
    "from conda_forge_tick.utils import setup_logging\n",
    "\n",
    "setup_logging(\"INFO\")"
   ]
  },
  {
   "cell_type": "markdown",
   "metadata": {},
   "source": [
    "## Debug a Version Migration"
   ]
  },
  {
   "cell_type": "code",
   "execution_count": 3,
   "metadata": {},
   "outputs": [],
   "source": [
    "from conda_forge_tick.make_migrators import load_migrators"
   ]
  },
  {
   "cell_type": "code",
   "execution_count": 4,
   "metadata": {},
   "outputs": [
    {
     "name": "stderr",
     "output_type": "stream",
     "text": [
      "loading migrators: 100%|████████████████████████| 73/73 [00:17<00:00,  4.25it/s]\n"
     ]
    }
   ],
   "source": [
    "mgs = load_migrators()"
   ]
  },
  {
   "cell_type": "code",
   "execution_count": 5,
   "metadata": {},
   "outputs": [],
   "source": [
    "from conda_forge_tick.all_feedstocks import get_all_feedstocks\n",
    "from conda_forge_tick.utils import load_graph\n",
    "\n",
    "gx = load_graph()"
   ]
  },
  {
   "cell_type": "code",
   "execution_count": 20,
   "metadata": {},
   "outputs": [
    {
     "name": "stderr",
     "output_type": "stream",
     "text": [
      "2024-05-27 07:42:48,291 DEBUG    conda_forge_tick.migrators.core || hstream: already PRed: uid: {'migrator_name': 'Version', 'migrator_version': 0, 'bot_rerun': False, 'version': '0.1.56'}\n",
      "2024-05-27 07:42:48,292 DEBUG    conda_forge_tick.migrators.core || hstream: already PRed: PR file: pr_json/1889443333.json\n",
      "2024-05-27 07:42:48,293 DEBUG    conda_forge_tick.migrators.core || hstream: already PRed: url: https://github.com/conda-forge/hstream-feedstock/pull/11\n",
      "2024-05-27 07:42:48,293 DEBUG    conda_forge_tick.migrators.version || random_fraction_to_keep: None\n"
     ]
    },
    {
     "name": "stdout",
     "output_type": "stream",
     "text": [
      "True\n"
     ]
    }
   ],
   "source": [
    "from conda_forge_tick.utils import change_log_level\n",
    "\n",
    "with change_log_level(\"conda_forge_tick\", \"DEBUG\"):\n",
    "    print(mgs[0].filter(gx.nodes[\"hstream\"][\"payload\"].data))"
   ]
  },
  {
   "cell_type": "markdown",
   "metadata": {},
   "source": [
    "## Find Some Files"
   ]
  },
  {
   "cell_type": "code",
   "execution_count": null,
   "metadata": {},
   "outputs": [],
   "source": [
    "from conda_forge_tick.lazy_json_backends import get_sharded_path"
   ]
  },
  {
   "cell_type": "code",
   "execution_count": null,
   "metadata": {},
   "outputs": [],
   "source": [
    "get_sharded_path(\"node_attrs/ucx-split.json\")"
   ]
  },
  {
   "cell_type": "code",
   "execution_count": null,
   "metadata": {},
   "outputs": [],
   "source": [
    "from conda_forge_tick.lazy_json_backends import LazyJson\n",
    "\n",
    "with LazyJson(\"node_attrs/ucx-split.json\") as attrs:\n",
    "    print(attrs.data.get(\"version\", None))"
   ]
  },
  {
   "cell_type": "code",
   "execution_count": null,
   "metadata": {
    "scrolled": true
   },
   "outputs": [],
   "source": [
    "from conda_forge_tick.feedstock_parser import load_feedstock_local\n",
    "\n",
    "attrs = {}\n",
    "load_feedstock_local(\"ucx-split\", attrs)"
   ]
  },
  {
   "cell_type": "code",
   "execution_count": null,
   "metadata": {},
   "outputs": [],
   "source": [
    "attrs[\"version\"]"
   ]
  },
  {
   "cell_type": "markdown",
   "metadata": {},
   "source": [
    "## Load the graph"
   ]
  },
  {
   "cell_type": "code",
   "execution_count": null,
   "metadata": {},
   "outputs": [],
   "source": [
    "from conda_forge_tick.all_feedstocks import get_all_feedstocks\n",
    "from conda_forge_tick.utils import load_graph\n",
    "\n",
    "gx = load_graph()"
   ]
  },
  {
   "cell_type": "code",
   "execution_count": null,
   "metadata": {},
   "outputs": [],
   "source": [
    "import pprint\n",
    "import yaml\n",
    "\n",
    "node = \"setuptools_scm\"\n",
    "\n",
    "print(yaml.dump(gx.nodes[node][\"payload\"].data[\"requirements\"]))"
   ]
  },
  {
   "cell_type": "markdown",
   "metadata": {},
   "source": [
    "## Check Some Version Stuff"
   ]
  },
  {
   "cell_type": "code",
   "execution_count": null,
   "metadata": {},
   "outputs": [],
   "source": [
    "from conda_forge_tick.update_upstream_versions import update_upstream_versions"
   ]
  },
  {
   "cell_type": "code",
   "execution_count": null,
   "metadata": {},
   "outputs": [],
   "source": [
    "import copy\n",
    "\n",
    "gxc = copy.deepcopy(gx)\n",
    "\n",
    "for node in list(gxc.nodes):\n",
    "    if node not in [\"tzdata\", \"openssl\", \"jpeg\", \"cddlib\"]:\n",
    "        gxc.remove_node(node)"
   ]
  },
  {
   "cell_type": "code",
   "execution_count": null,
   "metadata": {},
   "outputs": [],
   "source": [
    "update_upstream_versions(gxc, debug=True)"
   ]
  },
  {
   "cell_type": "code",
   "execution_count": null,
   "metadata": {},
   "outputs": [],
   "source": []
  },
  {
   "cell_type": "code",
   "execution_count": null,
   "metadata": {},
   "outputs": [],
   "source": []
  },
  {
   "cell_type": "code",
   "execution_count": null,
   "metadata": {},
   "outputs": [],
   "source": []
  },
  {
   "cell_type": "code",
   "execution_count": null,
   "metadata": {},
   "outputs": [],
   "source": []
  },
  {
   "cell_type": "markdown",
   "metadata": {},
   "source": [
    "## Look at a Migration"
   ]
  },
  {
   "cell_type": "code",
   "execution_count": null,
   "metadata": {},
   "outputs": [],
   "source": [
    "from conda_forge_tick.auto_tick import migration_factory, add_arch_migrate"
   ]
  },
  {
   "cell_type": "code",
   "execution_count": null,
   "metadata": {},
   "outputs": [],
   "source": [
    "mgs = []\n",
    "add_arch_migrate(mgs, gx)"
   ]
  },
  {
   "cell_type": "code",
   "execution_count": null,
   "metadata": {},
   "outputs": [],
   "source": [
    "mg = mgs[0]"
   ]
  },
  {
   "cell_type": "code",
   "execution_count": null,
   "metadata": {},
   "outputs": [],
   "source": [
    "node_to_check = \"maturin\""
   ]
  },
  {
   "cell_type": "code",
   "execution_count": null,
   "metadata": {},
   "outputs": [],
   "source": [
    "from conda_forge_tick.make_graph import get_deps_from_outputs_lut\n",
    "import networkx as nx\n",
    "\n",
    "arches = {\n",
    "    \"linux_aarch64\": \"default\",\n",
    "    \"linux_ppc64le\": \"default\",\n",
    "}\n",
    "\n",
    "\n",
    "graph2 = nx.create_empty_copy(gx)\n",
    "for node, attrs in gx.nodes(data=\"payload\"):\n",
    "    for plat_arch in arches:\n",
    "        deps = set().union(\n",
    "            *attrs.get(\n",
    "                f\"{plat_arch}_requirements\",\n",
    "                attrs.get(\"requirements\", {}),\n",
    "            ).values()\n",
    "        )\n",
    "        for dep in get_deps_from_outputs_lut(deps, gx.graph[\"outputs_lut\"]):\n",
    "            graph2.add_edge(dep, node)"
   ]
  },
  {
   "cell_type": "code",
   "execution_count": null,
   "metadata": {},
   "outputs": [],
   "source": [
    "print(sorted(graph2.predecessors(node_to_check)))"
   ]
  },
  {
   "cell_type": "code",
   "execution_count": null,
   "metadata": {},
   "outputs": [],
   "source": [
    "from conda_forge_tick.utils import pluck\n",
    "\n",
    "graph = graph2\n",
    "packages = mg.target_packages.copy()\n",
    "for target in mg.target_packages:\n",
    "    if target in graph.nodes:\n",
    "        packages.update(nx.ancestors(graph, target))\n",
    "for node in list(graph.nodes.keys()):\n",
    "    if node not in packages:\n",
    "        pluck(graph, node)\n",
    "# post-plucking cleanup\n",
    "graph.remove_edges_from(nx.selfloop_edges(graph))"
   ]
  },
  {
   "cell_type": "code",
   "execution_count": null,
   "metadata": {},
   "outputs": [],
   "source": [
    "print(sorted(graph2.predecessors(node_to_check)))"
   ]
  },
  {
   "cell_type": "code",
   "execution_count": null,
   "metadata": {},
   "outputs": [],
   "source": [
    "from conda_forge_tick.migrators.migration_yaml import all_noarch\n",
    "\n",
    "ignored_packages = {\n",
    "    \"make\",\n",
    "    \"perl\",\n",
    "    \"toolchain\",\n",
    "    \"posix\",\n",
    "    \"patchelf\",  # weird issue\n",
    "}\n",
    "\n",
    "latest_preds = sorted(graph.predecessors(node_to_check))\n",
    "\n",
    "for node, attrs in list(graph.nodes(\"payload\")):\n",
    "    if (\n",
    "        (not attrs)\n",
    "        or node.endswith(\"_stub\")\n",
    "        or node.startswith(\"m2-\")\n",
    "        or node.startswith(\"m2w64-\")\n",
    "        or node.startswith(\"__\")\n",
    "        or (node in ignored_packages)\n",
    "        or all_noarch(attrs)\n",
    "    ):\n",
    "        pluck(graph, node)\n",
    "        new_latest_preds = sorted(graph.predecessors(node_to_check))\n",
    "        if new_latest_preds != latest_preds:\n",
    "            print(node)\n",
    "            print(\"    new preds:\", new_latest_preds)\n",
    "            print(\"    old preds:\", latest_preds)\n",
    "            print(\" \")\n",
    "            latest_preds = new_latest_preds\n",
    "\n",
    "# post-plucking cleanup\n",
    "graph.remove_edges_from(nx.selfloop_edges(graph))"
   ]
  },
  {
   "cell_type": "code",
   "execution_count": null,
   "metadata": {},
   "outputs": [],
   "source": [
    "print(sorted(graph2.predecessors(node_to_check)))"
   ]
  },
  {
   "cell_type": "code",
   "execution_count": null,
   "metadata": {},
   "outputs": [],
   "source": []
  },
  {
   "cell_type": "code",
   "execution_count": null,
   "metadata": {},
   "outputs": [],
   "source": []
  },
  {
   "cell_type": "code",
   "execution_count": null,
   "metadata": {},
   "outputs": [],
   "source": [
    "import os\n",
    "from conda_forge_tick.contexts import MigratorContext, MigratorSessionContext\n",
    "\n",
    "\n",
    "mctx = MigratorSessionContext(\n",
    "    circle_build_url=os.getenv(\"CIRCLE_BUILD_URL\", \"\"),\n",
    "    graph=gx,\n",
    "    smithy_version=\"\",\n",
    "    pinning_version=\"\",\n",
    "    github_username=\"\",\n",
    "    github_password=\"\",\n",
    "    github_token=\"\",\n",
    "    dry_run=False,\n",
    ")\n",
    "\n",
    "mmctx = MigratorContext(session=mctx, migrator=mg)\n",
    "mg.bind_to_ctx(mmctx)"
   ]
  },
  {
   "cell_type": "code",
   "execution_count": null,
   "metadata": {},
   "outputs": [],
   "source": [
    "mg.graph[\"outputs_lut\"]"
   ]
  },
  {
   "cell_type": "code",
   "execution_count": null,
   "metadata": {},
   "outputs": [],
   "source": [
    "import networkx as nx"
   ]
  },
  {
   "cell_type": "code",
   "execution_count": null,
   "metadata": {},
   "outputs": [],
   "source": [
    "print(sorted(mg.graph.predecessors(\"bcrypt\")))"
   ]
  },
  {
   "cell_type": "code",
   "execution_count": null,
   "metadata": {},
   "outputs": [],
   "source": [
    "mgs = []\n",
    "add_rebuild_broken_migrator(mgs, gx)"
   ]
  },
  {
   "cell_type": "code",
   "execution_count": null,
   "metadata": {},
   "outputs": [],
   "source": [
    "mg = mgs[0]"
   ]
  },
  {
   "cell_type": "code",
   "execution_count": null,
   "metadata": {},
   "outputs": [],
   "source": [
    "import os\n",
    "from conda_forge_tick.contexts import MigratorContext, MigratorSessionContext\n",
    "\n",
    "\n",
    "mctx = MigratorSessionContext(\n",
    "    circle_build_url=os.getenv(\"CIRCLE_BUILD_URL\", \"\"),\n",
    "    graph=gx,\n",
    "    smithy_version=\"\",\n",
    "    pinning_version=\"\",\n",
    "    github_username=\"\",\n",
    "    github_password=\"\",\n",
    "    github_token=\"\",\n",
    "    dry_run=False,\n",
    ")\n",
    "\n",
    "mmctx = MigratorContext(session=mctx, migrator=mg)\n",
    "mg.bind_to_ctx(mmctx)"
   ]
  },
  {
   "cell_type": "code",
   "execution_count": null,
   "metadata": {},
   "outputs": [],
   "source": [
    "mmctx.effective_graph.nodes"
   ]
  },
  {
   "cell_type": "code",
   "execution_count": null,
   "metadata": {},
   "outputs": [],
   "source": []
  },
  {
   "cell_type": "code",
   "execution_count": null,
   "metadata": {},
   "outputs": [],
   "source": []
  },
  {
   "cell_type": "code",
   "execution_count": null,
   "metadata": {
    "scrolled": true
   },
   "outputs": [],
   "source": [
    "mg_name = \"libffi33\"\n",
    "\n",
    "mgs = []\n",
    "migration_factory(mgs, gx, only_keep=[mg_name])\n",
    "\n",
    "for i in range(len(mgs)):\n",
    "    if mgs[i].name == mg_name:\n",
    "        break\n",
    "mg = mgs[i]"
   ]
  },
  {
   "cell_type": "code",
   "execution_count": null,
   "metadata": {},
   "outputs": [],
   "source": [
    "import copy\n",
    "\n",
    "attrs = copy.deepcopy(mg.graph.nodes[\"python\"][\"payload\"].data)\n",
    "\n",
    "attrs[\"branch\"] = \"3.6\"\n",
    "mg.filter(attrs)"
   ]
  },
  {
   "cell_type": "code",
   "execution_count": null,
   "metadata": {},
   "outputs": [],
   "source": [
    "import os\n",
    "from conda_forge_tick.contexts import MigratorContext, MigratorSessionContext\n",
    "\n",
    "\n",
    "mctx = MigratorSessionContext(\n",
    "    circle_build_url=os.getenv(\"CIRCLE_BUILD_URL\", \"\"),\n",
    "    graph=gx,\n",
    "    smithy_version=\"\",\n",
    "    pinning_version=\"\",\n",
    "    github_username=\"\",\n",
    "    github_password=\"\",\n",
    "    github_token=\"\",\n",
    "    dry_run=False,\n",
    ")\n",
    "\n",
    "mmctx = MigratorContext(session=mctx, migrator=mg)\n",
    "mg.bind_to_ctx(mmctx)\n"
   ]
  },
  {
   "cell_type": "code",
   "execution_count": null,
   "metadata": {},
   "outputs": [],
   "source": [
    "mmctx.effective_graph.nodes"
   ]
  },
  {
   "cell_type": "code",
   "execution_count": null,
   "metadata": {},
   "outputs": [],
   "source": []
  },
  {
   "cell_type": "code",
   "execution_count": null,
   "metadata": {},
   "outputs": [],
   "source": []
  },
  {
   "cell_type": "code",
   "execution_count": null,
   "metadata": {},
   "outputs": [],
   "source": []
  },
  {
   "cell_type": "markdown",
   "metadata": {},
   "source": [
    "## Check the Status Report"
   ]
  },
  {
   "cell_type": "code",
   "execution_count": null,
   "metadata": {},
   "outputs": [],
   "source": [
    "from conda_forge_tick.status_report import  graph_migrator_status"
   ]
  },
  {
   "cell_type": "code",
   "execution_count": null,
   "metadata": {},
   "outputs": [],
   "source": [
    "out2, build_sequence, gv = graph_migrator_status(mg, mg.graph)"
   ]
  },
  {
   "cell_type": "code",
   "execution_count": null,
   "metadata": {},
   "outputs": [],
   "source": [
    "gv.view()"
   ]
  },
  {
   "cell_type": "code",
   "execution_count": null,
   "metadata": {},
   "outputs": [],
   "source": [
    "build_sequence"
   ]
  },
  {
   "cell_type": "code",
   "execution_count": null,
   "metadata": {},
   "outputs": [],
   "source": [
    "len(build_sequence)"
   ]
  },
  {
   "cell_type": "code",
   "execution_count": null,
   "metadata": {},
   "outputs": [],
   "source": [
    "gx.nodes[\"proj\"][\"payload\"].data"
   ]
  },
  {
   "cell_type": "code",
   "execution_count": null,
   "metadata": {},
   "outputs": [],
   "source": []
  },
  {
   "cell_type": "code",
   "execution_count": null,
   "metadata": {},
   "outputs": [],
   "source": []
  },
  {
   "cell_type": "markdown",
   "metadata": {},
   "source": [
    "## Debug Pinning Migrations"
   ]
  },
  {
   "cell_type": "code",
   "execution_count": null,
   "metadata": {},
   "outputs": [],
   "source": [
    "from conda_forge_tick.auto_tick import create_migration_yaml_creator"
   ]
  },
  {
   "cell_type": "code",
   "execution_count": null,
   "metadata": {},
   "outputs": [],
   "source": [
    "mgs = []\n",
    "create_migration_yaml_creator(mgs, gx, pin_to_debug=\"ucx\")"
   ]
  },
  {
   "cell_type": "code",
   "execution_count": null,
   "metadata": {},
   "outputs": [],
   "source": [
    "gx.nodes[\"ucx-split\"][\"payload\"].get(\"version\")"
   ]
  },
  {
   "cell_type": "code",
   "execution_count": null,
   "metadata": {},
   "outputs": [],
   "source": []
  }
 ],
 "metadata": {
  "kernelspec": {
   "display_name": "Python [conda env:bot-dev]",
   "language": "python",
   "name": "conda-env-bot-dev-py"
  },
  "language_info": {
   "codemirror_mode": {
    "name": "ipython",
    "version": 3
   },
   "file_extension": ".py",
   "mimetype": "text/x-python",
   "name": "python",
   "nbconvert_exporter": "python",
   "pygments_lexer": "ipython3",
   "version": "3.11.8"
  }
 },
 "nbformat": 4,
 "nbformat_minor": 4
}

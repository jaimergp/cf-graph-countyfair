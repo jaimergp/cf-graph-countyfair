{
 "cells": [
  {
   "cell_type": "code",
   "execution_count": null,
   "metadata": {},
   "outputs": [],
   "source": [
    "%load_ext autoreload\n",
    "\n",
    "%autoreload 2"
   ]
  },
  {
   "cell_type": "code",
   "execution_count": null,
   "metadata": {},
   "outputs": [],
   "source": [
    "import logging\n",
    "\n",
    "from conda_forge_tick.utils import setup_logging\n",
    "\n",
    "setup_logging(\"DEBUG\")"
   ]
  },
  {
   "cell_type": "code",
   "execution_count": null,
   "metadata": {},
   "outputs": [],
   "source": [
    "from conda_forge_tick.make_graph import make_graph\n",
    "from conda_forge_tick.all_feedstocks import get_all_feedstocks\n",
    "from conda_forge_tick.utils import load_graph\n",
    "\n",
    "names = []\n",
    "\n",
    "gx = load_graph(reset_bad=False)\n",
    "\n",
    "gx = make_graph(names, gx, debug=True)"
   ]
  },
  {
   "cell_type": "markdown",
   "metadata": {},
   "source": [
    "## Check Some Version Stuff"
   ]
  },
  {
   "cell_type": "code",
   "execution_count": null,
   "metadata": {},
   "outputs": [],
   "source": [
    "from conda_forge_tick.update_upstream_versions import update_upstream_versions"
   ]
  },
  {
   "cell_type": "code",
   "execution_count": null,
   "metadata": {},
   "outputs": [],
   "source": [
    "import copy\n",
    "\n",
    "gxc = copy.deepcopy(gx)\n",
    "\n",
    "for node in list(gxc.nodes):\n",
    "    if node not in [\"tzdata\", \"openssl\", \"jpeg\", \"cddlib\"]:\n",
    "        gxc.remove_node(node)"
   ]
  },
  {
   "cell_type": "code",
   "execution_count": null,
   "metadata": {},
   "outputs": [],
   "source": [
    "update_upstream_versions(gxc, debug=True)"
   ]
  },
  {
   "cell_type": "code",
   "execution_count": null,
   "metadata": {},
   "outputs": [],
   "source": []
  },
  {
   "cell_type": "code",
   "execution_count": null,
   "metadata": {},
   "outputs": [],
   "source": []
  },
  {
   "cell_type": "code",
   "execution_count": null,
   "metadata": {},
   "outputs": [],
   "source": []
  },
  {
   "cell_type": "code",
   "execution_count": null,
   "metadata": {},
   "outputs": [],
   "source": []
  },
  {
   "cell_type": "markdown",
   "metadata": {},
   "source": [
    "## Look at a Migration"
   ]
  },
  {
   "cell_type": "code",
   "execution_count": null,
   "metadata": {},
   "outputs": [],
   "source": [
    "from conda_forge_tick.auto_tick import migration_factory, add_rebuild_broken_migrator"
   ]
  },
  {
   "cell_type": "code",
   "execution_count": null,
   "metadata": {},
   "outputs": [],
   "source": [
    "mgs = []\n",
    "add_rebuild_broken_migrator(mgs, gx)"
   ]
  },
  {
   "cell_type": "code",
   "execution_count": null,
   "metadata": {},
   "outputs": [],
   "source": [
    "mg = mgs[0]"
   ]
  },
  {
   "cell_type": "code",
   "execution_count": null,
   "metadata": {},
   "outputs": [],
   "source": [
    "import os\n",
    "from conda_forge_tick.contexts import MigratorContext, MigratorSessionContext\n",
    "\n",
    "\n",
    "mctx = MigratorSessionContext(\n",
    "    circle_build_url=os.getenv(\"CIRCLE_BUILD_URL\", \"\"),\n",
    "    graph=gx,\n",
    "    smithy_version=\"\",\n",
    "    pinning_version=\"\",\n",
    "    github_username=\"\",\n",
    "    github_password=\"\",\n",
    "    github_token=\"\",\n",
    "    dry_run=False,\n",
    ")\n",
    "\n",
    "mmctx = MigratorContext(session=mctx, migrator=mg)\n",
    "mg.bind_to_ctx(mmctx)"
   ]
  },
  {
   "cell_type": "code",
   "execution_count": null,
   "metadata": {},
   "outputs": [],
   "source": [
    "mmctx.effective_graph.nodes"
   ]
  },
  {
   "cell_type": "code",
   "execution_count": null,
   "metadata": {},
   "outputs": [],
   "source": []
  },
  {
   "cell_type": "code",
   "execution_count": null,
   "metadata": {},
   "outputs": [],
   "source": []
  },
  {
   "cell_type": "code",
   "execution_count": null,
   "metadata": {
    "scrolled": true
   },
   "outputs": [],
   "source": [
    "mg_name = \"libffi33\"\n",
    "\n",
    "mgs = []\n",
    "migration_factory(mgs, gx, only_keep=[mg_name])\n",
    "\n",
    "for i in range(len(mgs)):\n",
    "    if mgs[i].name == mg_name:\n",
    "        break\n",
    "mg = mgs[i]"
   ]
  },
  {
   "cell_type": "code",
   "execution_count": null,
   "metadata": {},
   "outputs": [],
   "source": [
    "import copy\n",
    "\n",
    "attrs = copy.deepcopy(mg.graph.nodes[\"python\"][\"payload\"].data)\n",
    "\n",
    "attrs[\"branch\"] = \"3.6\"\n",
    "mg.filter(attrs)"
   ]
  },
  {
   "cell_type": "code",
   "execution_count": null,
   "metadata": {},
   "outputs": [],
   "source": [
    "import os\n",
    "from conda_forge_tick.contexts import MigratorContext, MigratorSessionContext\n",
    "\n",
    "\n",
    "mctx = MigratorSessionContext(\n",
    "    circle_build_url=os.getenv(\"CIRCLE_BUILD_URL\", \"\"),\n",
    "    graph=gx,\n",
    "    smithy_version=\"\",\n",
    "    pinning_version=\"\",\n",
    "    github_username=\"\",\n",
    "    github_password=\"\",\n",
    "    github_token=\"\",\n",
    "    dry_run=False,\n",
    ")\n",
    "\n",
    "mmctx = MigratorContext(session=mctx, migrator=mg)\n",
    "mg.bind_to_ctx(mmctx)\n"
   ]
  },
  {
   "cell_type": "code",
   "execution_count": null,
   "metadata": {},
   "outputs": [],
   "source": [
    "mmctx.effective_graph.nodes"
   ]
  },
  {
   "cell_type": "code",
   "execution_count": null,
   "metadata": {},
   "outputs": [],
   "source": []
  },
  {
   "cell_type": "code",
   "execution_count": null,
   "metadata": {},
   "outputs": [],
   "source": []
  },
  {
   "cell_type": "code",
   "execution_count": null,
   "metadata": {},
   "outputs": [],
   "source": []
  },
  {
   "cell_type": "markdown",
   "metadata": {},
   "source": [
    "## Check the Status Report"
   ]
  },
  {
   "cell_type": "code",
   "execution_count": null,
   "metadata": {},
   "outputs": [],
   "source": [
    "from conda_forge_tick.status_report import  graph_migrator_status"
   ]
  },
  {
   "cell_type": "code",
   "execution_count": null,
   "metadata": {},
   "outputs": [],
   "source": [
    "out2, build_sequence, gv = graph_migrator_status(mg, mg.graph)"
   ]
  },
  {
   "cell_type": "code",
   "execution_count": null,
   "metadata": {},
   "outputs": [],
   "source": [
    "gv.view()"
   ]
  },
  {
   "cell_type": "code",
   "execution_count": null,
   "metadata": {},
   "outputs": [],
   "source": [
    "build_sequence"
   ]
  },
  {
   "cell_type": "code",
   "execution_count": null,
   "metadata": {},
   "outputs": [],
   "source": [
    "len(build_sequence)"
   ]
  },
  {
   "cell_type": "code",
   "execution_count": null,
   "metadata": {},
   "outputs": [],
   "source": [
    "gx.nodes[\"proj\"][\"payload\"].data"
   ]
  },
  {
   "cell_type": "code",
   "execution_count": null,
   "metadata": {},
   "outputs": [],
   "source": []
  }
 ],
 "metadata": {
  "kernelspec": {
   "display_name": "Python [conda env:bot-dev]",
   "language": "python",
   "name": "conda-env-bot-dev-py"
  },
  "language_info": {
   "codemirror_mode": {
    "name": "ipython",
    "version": 3
   },
   "file_extension": ".py",
   "mimetype": "text/x-python",
   "name": "python",
   "nbconvert_exporter": "python",
   "pygments_lexer": "ipython3",
   "version": "3.10.12"
  }
 },
 "nbformat": 4,
 "nbformat_minor": 4
}
